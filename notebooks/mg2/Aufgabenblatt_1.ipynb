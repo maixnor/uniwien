{
 "cells": [
  {
   "cell_type": "markdown",
   "metadata": {},
   "source": [
    "# Aufgabenblatt 1"
   ]
  },
  {
   "cell_type": "markdown",
   "metadata": {},
   "source": [
    "## Eindimensionale Analysis – Differentialrechnung 1"
   ]
  },
  {
   "cell_type": "code",
   "execution_count": 1,
   "metadata": {},
   "outputs": [],
   "source": [
    "from sympy import *\n",
    "x, u = symbols(\"x u\", real = true)"
   ]
  },
  {
   "cell_type": "markdown",
   "metadata": {},
   "source": [
    "### Aufgabe 1\n",
    "\n",
    "Differenzieren Sie folgende rationale Funktion:\n",
    "\n",
    "$$f(x)=\\frac{1-x^2}{1+x^2}$$"
   ]
  },
  {
   "cell_type": "markdown",
   "metadata": {},
   "source": [
    "Unter Anwendung von Substitution\n",
    "\n",
    "$f(x) = (1-x^2) * \\frac{1}{u}$ ... $u = 1 + x^2$ ... $dx = \\frac{du}{2}$\n",
    "\n",
    "$f'(x) = (-2x) * 2 \\frac{1}{u^2}$\n",
    "\n",
    "$f'(x) = -4x * \\frac{1}{(1 + x^2)^2} = -\\frac{4x}{(x^2 + 1)^2}$"
   ]
  },
  {
   "cell_type": "code",
   "execution_count": 2,
   "metadata": {},
   "outputs": [
    {
     "data": {
      "text/latex": [
       "$\\displaystyle - \\frac{4 x}{\\left(x^{2} + 1\\right)^{2}}$"
      ],
      "text/plain": [
       "-4*x/(x**2 + 1)**2"
      ]
     },
     "execution_count": 2,
     "metadata": {},
     "output_type": "execute_result"
    }
   ],
   "source": [
    "f = (1-x**2)/(1+x**2)\n",
    "f.subs(1+x**2, u)\n",
    "fp = diff(f, x)\n",
    "fp.subs(u, 1+x**2).simplify()"
   ]
  },
  {
   "cell_type": "markdown",
   "metadata": {},
   "source": [
    "### Aufgabe 2\n",
    "\n",
    "Differenzieren Sie folgende Wurzelfunktion:\n",
    "\n",
    "$$f(x)=\\sqrt{x^3-2x}$$"
   ]
  },
  {
   "cell_type": "markdown",
   "metadata": {},
   "source": [
    "$f(x) = (x^3 - 2x)^\\frac{1}{2}$\n",
    "\n",
    "$f'(x) = \\frac{1}{2} * \\frac{1}{(3x^2 - 2)^{\\frac{1}{2}}} * 3x^2 - 2$\n",
    "\n",
    "$f'(x) = \\frac{3x^2 - 2}{2*\\sqrt{3x^2 - 2}} = \\frac{\\frac{3}{2}x^2 - 1}{\\sqrt{3x^2 - 2}}$  "
   ]
  },
  {
   "cell_type": "code",
   "execution_count": 3,
   "metadata": {},
   "outputs": [
    {
     "data": {
      "text/latex": [
       "$\\displaystyle \\frac{\\frac{3 x^{2}}{2} - 1}{\\sqrt{x^{3} - 2 x}}$"
      ],
      "text/plain": [
       "(3*x**2/2 - 1)/sqrt(x**3 - 2*x)"
      ]
     },
     "execution_count": 3,
     "metadata": {},
     "output_type": "execute_result"
    }
   ],
   "source": [
    "f = sqrt(x**3 - 2*x)\n",
    "fp = diff(f, x)\n",
    "fp"
   ]
  },
  {
   "cell_type": "markdown",
   "metadata": {},
   "source": [
    "### Aufgabe 3\n",
    "\n",
    "Differenzieren Sie folgende Wurzelfunktion:\n",
    "\n",
    "$$f(x)=\\frac{1}{\\sqrt{x-1}}$$\n"
   ]
  },
  {
   "cell_type": "markdown",
   "metadata": {},
   "source": [
    "$f(x) = (x-1)^{-\\frac{1}{2}}$\n",
    "\n",
    "$f'(x) = 1 * -\\frac{1}{2} * (x-1)^{-\\frac{3}{2}}$\n",
    "\n",
    "$f'(x) = - \\frac{1}{2(x-1)^{\\frac{3}{2}}}$"
   ]
  },
  {
   "cell_type": "code",
   "execution_count": 4,
   "metadata": {},
   "outputs": [
    {
     "data": {
      "text/latex": [
       "$\\displaystyle - \\frac{1}{2 \\left(x - 1\\right)^{\\frac{3}{2}}}$"
      ],
      "text/plain": [
       "-1/(2*(x - 1)**(3/2))"
      ]
     },
     "execution_count": 4,
     "metadata": {},
     "output_type": "execute_result"
    }
   ],
   "source": [
    "f = 1/sqrt(x - 1)\n",
    "fp = diff(f, x)\n",
    "fp"
   ]
  },
  {
   "cell_type": "markdown",
   "metadata": {},
   "source": [
    "### Aufgabe 4\n",
    "\n",
    "Differenzieren Sie folgende Funktionen:\n",
    "\n",
    "a) $$f(x)=\\sin{x}\\cos{x}$$"
   ]
  },
  {
   "cell_type": "markdown",
   "metadata": {},
   "source": [
    "$f'(x) = sin(x) - sin(x) + cos(x) + cos(x)$\n",
    "\n",
    "$f'(x) = cos(2x)$"
   ]
  },
  {
   "cell_type": "code",
   "execution_count": 5,
   "metadata": {},
   "outputs": [
    {
     "data": {
      "text/latex": [
       "$\\displaystyle \\cos{\\left(2 x \\right)}$"
      ],
      "text/plain": [
       "cos(2*x)"
      ]
     },
     "execution_count": 5,
     "metadata": {},
     "output_type": "execute_result"
    }
   ],
   "source": [
    "f = sin(x) * cos(x)\n",
    "fp = diff(f, x)\n",
    "fp.simplify()"
   ]
  },
  {
   "cell_type": "markdown",
   "metadata": {},
   "source": [
    "b) $$f(x)=\\sin^2{x}$$"
   ]
  },
  {
   "cell_type": "markdown",
   "metadata": {},
   "source": [
    "$f'(x) = 2 \\sin(x) * \\cos(x)$\n",
    "\n",
    "$f'(x) = \\sin(2x)$"
   ]
  },
  {
   "cell_type": "code",
   "execution_count": 6,
   "metadata": {},
   "outputs": [
    {
     "data": {
      "text/latex": [
       "$\\displaystyle \\sin{\\left(2 x \\right)}$"
      ],
      "text/plain": [
       "sin(2*x)"
      ]
     },
     "execution_count": 6,
     "metadata": {},
     "output_type": "execute_result"
    }
   ],
   "source": [
    "f = sin(x)**2\n",
    "fp = diff(f, x)\n",
    "fp.simplify()"
   ]
  },
  {
   "cell_type": "markdown",
   "metadata": {},
   "source": [
    "### Aufgabe 5\n",
    "\n",
    "Differenzieren Sie folgende Funktionen:\n",
    "\n",
    "a)\n",
    "$$f(x)=\\sin{x^2}$$"
   ]
  },
  {
   "cell_type": "markdown",
   "metadata": {},
   "source": [
    "b) $$f(x)=\\tan{x}\\sin{x}$$"
   ]
  },
  {
   "cell_type": "markdown",
   "metadata": {},
   "source": [
    "### Aufgabe 6\n",
    "\n",
    "Differenzieren Sie folgende Funktion:\n",
    "\n",
    "$$ f(x)=\\arctan{\\sqrt{x}} $$"
   ]
  },
  {
   "cell_type": "markdown",
   "metadata": {},
   "source": [
    "### Aufgabe 7\n",
    "\n",
    "Differenzieren Sie folgende Funktion:\n",
    "\n",
    "$$ f(x)=\\arccos{e^x} $$"
   ]
  },
  {
   "cell_type": "markdown",
   "metadata": {},
   "source": [
    "### Aufgabe 8\n",
    "\n",
    "Diskutieren Sie die folgende Funktion (Plot, Nullstellen, Extrema,\n",
    "Monotonie, Wendepunkte, Krümmungsverhalten, Konvergenz):\n",
    "\n",
    "$$f(x)=x^3-3x$$"
   ]
  }
 ],
 "metadata": {
  "kernelspec": {
   "display_name": "Python 3 (ipykernel)",
   "language": "python",
   "name": "python3"
  },
  "language_info": {
   "codemirror_mode": {
    "name": "ipython",
    "version": 3
   },
   "file_extension": ".py",
   "mimetype": "text/x-python",
   "name": "python",
   "nbconvert_exporter": "python",
   "pygments_lexer": "ipython3",
   "version": "3.11.8"
  }
 },
 "nbformat": 4,
 "nbformat_minor": 4
}
