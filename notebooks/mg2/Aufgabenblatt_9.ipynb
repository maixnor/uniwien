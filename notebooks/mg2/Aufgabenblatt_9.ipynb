{
 "cells": [
  {
   "cell_type": "markdown",
   "metadata": {},
   "source": [
    "# Aufgabenblatt 9\n",
    "\n",
    "## Mehrdimensionale Analysis – Partielle Ableitungen 2\n",
    "\n",
    "# Disclaimer\n",
    "\n",
    "ich habe fuer einige Aufgaben mit einem Kollegen zusammengearbeitet\n"
   ]
  },
  {
   "cell_type": "code",
   "execution_count": 1,
   "metadata": {},
   "outputs": [],
   "source": [
    "from sympy import *\n",
    "from numpy import *\n",
    "\n",
    "x, y, z = symbols('x y z')"
   ]
  },
  {
   "cell_type": "markdown",
   "metadata": {},
   "source": [
    "### Aufgabe 1\n",
    "\n",
    "Stellen Sie die Gleichung der Tangentialebene von $f(x,y)=x^2y^3$ im\n",
    "Punkt $P(1|-1)$ auf."
   ]
  },
  {
   "cell_type": "markdown",
   "metadata": {},
   "source": [
    "$$\n",
    "\\begin{aligned}\n",
    "f_x &= \\frac{\\partial}{\\partial x}(x^2 y^3) = 2xy^3 \\\\\n",
    "f_y &= \\frac{\\partial}{\\partial y}(x^2 y^3) = 3x^2 y^2 \\\\\n",
    "f_x(1, -1) &= 2 \\cdot 1 \\cdot (-1)^3 = -2 \\\\\n",
    "f_y(1, -1) &= 3 \\cdot 1^2 \\cdot (-1)^2 = 3 \\\\\n",
    "z &= f(1, -1) + f_x(1, -1)(x - 1) + f_y(1, -1)(y + 1) \\\\\n",
    "z &= -1 - 2(x - 1) + 3(y + 1) \\\\\n",
    "z &= -1 - 2x + 2 + 3y + 3 \\\\\n",
    "z &= -2x + 3y + 4\n",
    "\\end{aligned}​\n",
    "$$"
   ]
  },
  {
   "cell_type": "code",
   "execution_count": 2,
   "metadata": {},
   "outputs": [],
   "source": [
    "f = x**2 * y**3\n",
    "\n",
    "# Partielle Ableitungen\n",
    "f_x = f.diff(x)\n",
    "f_y = f.diff(y)\n",
    "\n",
    "# Punkt P(1, -1)\n",
    "P = (1, -1)\n",
    "z_P = f.subs({x: P[0], y: P[1]})\n",
    "f_x_P = f_x.subs({x: P[0], y: P[1]})\n",
    "f_y_P = f_y.subs({x: P[0], y: P[1]})\n",
    "\n",
    "# Tangentialebene\n",
    "z_t = z_P + f_x_P * (x - P[0]) + f_y_P * (y + 1)\n",
    "tangentialebene = lambdify((x, y), z_t, 'numpy')\n"
   ]
  },
  {
   "cell_type": "markdown",
   "metadata": {},
   "source": [
    "### Aufgabe 2\n",
    "\n",
    "Die Gleichung einer Fläche $F$ lautet $x^2yz+3y^2-2xz^2+8z=0$.\n",
    "\n",
    "a) Wie lautet die Gleichung der Normalen im Punkt $(1,2,-1)$?  \n",
    "b) Wie lautet die Gleichung der Tangentialebene im Punkt\n",
    "$(1,2,-1)$? Hinweis: Gleichung der Tangentialebene: $\\nabla\n",
    "F(x_0)(x-x_0)=0.$ "
   ]
  },
  {
   "cell_type": "markdown",
   "metadata": {},
   "source": [
    "$$\n",
    "\\begin{aligned}\n",
    "\\nabla F &= \\left( \\frac{\\partial F}{\\partial x}, \\frac{\\partial F}{\\partial y}, \\frac{\\partial F}{\\partial z} \\right) \\\\\n",
    "\\frac{\\partial F}{\\partial x} &= 2xyz - 2z^2 \\\\\n",
    "\\frac{\\partial F}{\\partial y} &= x^2z + 6y \\\\\n",
    "\\frac{\\partial F}{\\partial z} &= x^2y - 4xz + 8 \\\\\n",
    "\\nabla F(1, 2, -1) &= (2 \\cdot 1 \\cdot 2 \\cdot (-1) - 2 \\cdot (-1)^2, 1^2 \\cdot (-1) + 6 \\cdot 2, 1^2 \\cdot 2 - 4 \\cdot 1 \\cdot (-1) + 8) \\\\\n",
    "&= (-4 - 2, -1 + 12, 2 + 4 + 8) \\\\\n",
    "&= (-6, 11, 14) \\\\\n",
    "\\end{aligned}\n",
    "$$\n",
    "Tangentialebene:\n",
    "$$\n",
    "-6(x - 1) + 11(y - 2) + 14(z + 1) = 0\n",
    "$$"
   ]
  },
  {
   "cell_type": "code",
   "execution_count": 3,
   "metadata": {},
   "outputs": [
    {
     "data": {
      "text/plain": [
       "(Matrix([\n",
       " [-6],\n",
       " [11],\n",
       " [11]]),\n",
       " -6*x + 11*y + 11*z - 5)"
      ]
     },
     "execution_count": 3,
     "metadata": {},
     "output_type": "execute_result"
    }
   ],
   "source": [
    "F = x**2 * y * z + 3 * y**2 - 2 * x * z**2 + 8 * z\n",
    "\n",
    "# Gradient berechnen\n",
    "grad_F = Matrix([F.diff(x), F.diff(y), F.diff(y)])\n",
    "\n",
    "# Punkt (1, 2, -1)\n",
    "P = (1, 2, -1)\n",
    "grad_F_P = grad_F.subs({x: P[0], y: P[1], z: P[2]})\n",
    "\n",
    "# Normale im Punkt (1, 2, -1)\n",
    "normale = grad_F_P\n",
    "\n",
    "# Tangentialebene im Punkt (1, 2, -1)\n",
    "tangentialebene = normale.dot(Matrix([x - P[0], y - P[1], z - P[2]]))\n",
    "\n",
    "normale, tangentialebene.simplify()"
   ]
  },
  {
   "cell_type": "markdown",
   "metadata": {},
   "source": [
    "### Aufgabe 3\n",
    "\n",
    "Es sei folgendes Vektorfeld gegeben:\n",
    "\n",
    "$$\n",
    "\\mathbf{V}=\\left(\n",
    "\\begin{array}{c}\n",
    " x^2z \\\\\n",
    " -2y^3z^2\\\\\n",
    "xy^2z\n",
    "  \\end{array} \\right)\n",
    "$$\n",
    "\n",
    "Die Divergenz eines Vektorfeldes $\\mathbf{V}$ ist definiert als das\n",
    "skalare Produkt des Nabla-Operators mit $\\mathbf{V}$:\n",
    "div$\\mathbf{V}=\\nabla\\cdot \\mathbf{V}$. Bestimmen Sie\n",
    "div$\\mathbf{V}$ im Punkt $(1,-1,1)$."
   ]
  },
  {
   "cell_type": "markdown",
   "metadata": {},
   "source": [
    "\\begin{aligned}\n",
    "\\text{div}\\mathbf{V} &= 2xz + (-6y^2z^2) + xy^2 \\\\\n",
    "\\text{div}\\mathbf{V}(1, -1, 1) &= 2 \\cdot 1 \\cdot 1 + (-6 \\cdot (-1)^2 \\cdot 1) + 1 \\cdot (-1)^2 \\\\\n",
    "&= 2 - 6 + 1 \\\\\n",
    "&= -3\n",
    "\\end{aligned}"
   ]
  },
  {
   "cell_type": "code",
   "execution_count": 4,
   "metadata": {},
   "outputs": [
    {
     "data": {
      "text/plain": [
       "(x*y**2 + 2*x*z - 6*y**2*z**2, -3)"
      ]
     },
     "execution_count": 4,
     "metadata": {},
     "output_type": "execute_result"
    }
   ],
   "source": [
    "V = Matrix([x**2 * z, -2 * y**3 * z**2, x * y**2 * z])\n",
    "\n",
    "# Divergenz berechnen\n",
    "div_V = V[0].diff(x) + V[1].diff(y) + V[2].diff(z)\n",
    "\n",
    "# Divergenz im Punkt (1, -1, 1)\n",
    "div_V_P = div_V.subs({x: 1, y: -1, z: 1})\n",
    "\n",
    "div_V, div_V_P"
   ]
  },
  {
   "cell_type": "markdown",
   "metadata": {},
   "source": [
    "### Aufgabe 4\n",
    "\n",
    "Es sei folgendes Vektorfeld gegeben:\n",
    "\n",
    "$$\n",
    "\\mathbf{V}=\\left(\n",
    "\\begin{array}{c}\n",
    " xz^3 \\\\\n",
    " -2x^2yz\\\\\n",
    "2yz^4\n",
    "  \\end{array} \\right)\n",
    "$$\n",
    "\n",
    "Die Rotation eines Vektorfeldes $\\mathbf{V}$ ist definiert als das\n",
    "vektorielle Produkt des Nabla-Operators mit $\\mathbf{V}$:\n",
    "rot$\\mathbf{V}=\\nabla\\times \\mathbf{V}$. Bestimmen Sie\n",
    "rot$\\mathbf{V}$ im Punkt $(1,-1,1)$."
   ]
  },
  {
   "cell_type": "markdown",
   "metadata": {},
   "source": [
    "Komponenten der Rotation\n",
    "$$\n",
    "\\begin{aligned}\n",
    "(\\nabla \\times \\mathbf{V})_x &= \\frac{\\partial}{\\partial y}(2yz^4) - \\frac{\\partial}{\\partial z}(-2x^2yz) = 2z^4 - (-2x^2y) = 2z^4 + 2x^2y \\\\\n",
    "(\\nabla \\times \\mathbf{V})_y &= \\frac{\\partial}{\\partial z}(xz^3) - \\frac{\\partial}{\\partial x}(2yz^4) = 3xz^2 - 0 = 3xz^2 \\\\\n",
    "(\\nabla \\times \\mathbf{V})_z &= \\frac{\\partial}{\\partial x}(-2x^2yz) - \\frac{\\partial}{\\partial y}(xz^3) = -4xyz - 0 = -4xyz\n",
    "\\end{aligned}\n",
    "$$\n",
    "Zusammenstellen zur Matrix\n",
    "$$\n",
    "\\nabla \\times \\mathbf{V} =\n",
    "\\begin{vmatrix}\n",
    "\\mathbf{i} & \\mathbf{j} & \\mathbf{k} \\\\\n",
    "\\frac{\\partial}{\\partial x} & \\frac{\\partial}{\\partial y} & \\frac{\\partial}{\\partial z} \\\\\n",
    "xz^3 & -2x^2yz & 2yz^4\n",
    "\\end{vmatrix}\n",
    "$$\n",
    "Im Punkt (1, -1, 1)\n",
    "$$\n",
    "\\begin{aligned}\n",
    "(\\nabla \\times \\mathbf{V})_x(1, -1, 1) &= 2(1) + 2(1)^2(-1) = 2 - 2 = 0 \\\\\n",
    "(\\nabla \\times \\mathbf{V})_y(1, -1, 1) &= 3(1)(1) = 3 \\\\\n",
    "(\\nabla \\times \\mathbf{V})_z(1, -1, 1) &= -4(1)(-1)(1) = 4\n",
    "\\end{aligned}\n",
    "$$"
   ]
  },
  {
   "cell_type": "code",
   "execution_count": 5,
   "metadata": {},
   "outputs": [
    {
     "data": {
      "text/plain": [
       "(Matrix([\n",
       " [2*x**2*y + 2*z**4],\n",
       " [         3*x*z**2],\n",
       " [         -4*x*y*z]]),\n",
       " Matrix([\n",
       " [0],\n",
       " [3],\n",
       " [4]]))"
      ]
     },
     "execution_count": 5,
     "metadata": {},
     "output_type": "execute_result"
    }
   ],
   "source": [
    "V = Matrix([x*z**3, -2*x**2*y*z, 2 * y*z**4])\n",
    "\n",
    "# Rotation berechnen\n",
    "rot_V = Matrix([V[2].diff(y) - V[1].diff(z),\n",
    "                   V[0].diff(z) - V[2].diff(x),\n",
    "                   V[1].diff(x) - V[0].diff(y)])\n",
    "\n",
    "# Rotation im Punkt (1, -1, 1)\n",
    "rot_V_P = rot_V.subs({x: 1, y: -1, z: 1})\n",
    "\n",
    "rot_V, rot_V_P\n"
   ]
  },
  {
   "cell_type": "markdown",
   "metadata": {},
   "source": [
    "### Aufgabe 5\n",
    "\n",
    "Bilden Sie das vollständige Differential nachstehender Funktionen:\n",
    "\n",
    "a) $f(x,y)=x^2y$  \n",
    "b) $f(x,y)=e^{x/y}$  \n",
    "c) $f(x,y)=\\sqrt{x^2+y^2}$\n"
   ]
  },
  {
   "cell_type": "markdown",
   "metadata": {},
   "source": [
    "a) $f(x, y) = x^2y$\n",
    "$$\n",
    "df = \\frac{\\partial f}{\\partial x} dx + \\frac{\\partial f}{\\partial y} dy = 2xy \\, dx + x^2 \\, dy\n",
    "$$\n",
    "b) $f(x, y) = e^{x/y}$\n",
    "$$\n",
    "df = \\frac{\\partial f}{\\partial x} dx + \\frac{\\partial f}{\\partial y} dy = \\frac{e^{x/y}}{y} \\, dx - \\frac{xe^{x/y}}{y^2} \\, dy\n",
    "$$\n",
    "c) $f(x, y) = \\sqrt{x^2 + y^2}$\n",
    "$$\n",
    "df = \\frac{\\partial f}{\\partial x} dx + \\frac{\\partial f}{\\partial y} dy = \\frac{x}{\\sqrt{x^2 + y^2}} \\, dx + \\frac{y}{\\sqrt{x^2 + y^2}} \\, dy\n",
    "$$"
   ]
  },
  {
   "cell_type": "code",
   "execution_count": 6,
   "metadata": {},
   "outputs": [
    {
     "data": {
      "text/plain": [
       "(2*dx*x*y + dy*x**2, dx*exp(x), dx*exp(x) + dy*y/sqrt(x**2 + y**2))"
      ]
     },
     "execution_count": 6,
     "metadata": {},
     "output_type": "execute_result"
    }
   ],
   "source": [
    "# Hier hat mein code einfach nicht funktioniert, ohne sympy extra als sp zu importieren\n",
    "# ich verstehe nicht, was der Fehler ist\n",
    "\n",
    "import sympy as sp\n",
    "\n",
    "# Funktionen\n",
    "f1 = x**2 * y\n",
    "f2 = sp.exp(x)\n",
    "f3 = sp.sqrt(x**2 + y**2)\n",
    "\n",
    "# Differentiale\n",
    "df1 = f1.diff(x) * Symbol('dx') + f1.diff(y) * Symbol('dy')\n",
    "df2 = f2.diff(x) * Symbol('dx') + f2.diff(y) * Symbol('dy')\n",
    "df3 = f2.diff(x) * Symbol('dx') + f3.diff(y) * Symbol('dy')\n",
    "\n",
    "df1, df2, df3"
   ]
  },
  {
   "cell_type": "markdown",
   "metadata": {},
   "source": [
    "### Aufgabe 6\n",
    "\n",
    "Der Flächeninhalt eines Kreisabschnitts ergibt sich aus\n",
    "$A=\\frac{r^2}{2}(\\alpha-\\sin{\\alpha})$ für $\\alpha$ im Bogenmaß. Wie\n",
    "groß ist der maximale Fehler von $A$, wenn $r=(8.2\\pm0.05)$ cm und\n",
    "$\\alpha=(126\\pm1)^\\circ$ gemessen wurden.\n"
   ]
  },
  {
   "cell_type": "markdown",
   "metadata": {},
   "source": [
    "# Disclaimer\n",
    "Besonders diese Aufgabe wurde gemeinsam mit einem Kollegen gemacht. Bei Moeglichkeit will ich dieses Beispiel nicht vorstellen."
   ]
  },
  {
   "cell_type": "markdown",
   "metadata": {},
   "source": [
    "Der maximale Fehler von $A$ wird bestimmt durch:\n",
    "$$\n",
    "\\Delta A \\approx \\left| \\frac{\\partial A}{\\partial r} \\right| \\Delta r + \\left| \\frac{\\partial A}{\\partial \\alpha} \\right| \\Delta \\alpha\n",
    "$$\n",
    "\n",
    "Die partiellen Ableitungen sind:\n",
    "$$\n",
    "\\frac{\\partial A}{\\partial r} = r (\\alpha - \\sin(\\alpha)), \\quad \\frac{\\partial A}{\\partial \\alpha} = \\frac{r^2}{2} (1 - \\cos(\\alpha))\n",
    "$$\n",
    "\n",
    "Einsetzen der Werte $r = 8.2 \\pm 0.05 \\, \\text{cm}$ und $\\alpha = 126^\\circ \\pm 1^\\circ$:\n",
    "$$\n",
    "\\Delta A \\approx \\left| 8.2 \\cdot (2.199 - \\sin(2.199)) \\right| 0.05 + \\left| \\frac{8.2^2}{2} (1 - \\cos(2.199)) \\right| \\cdot \\left( \\frac{1^\\circ}{57.2958} \\right)\n",
    "$$"
   ]
  },
  {
   "cell_type": "code",
   "execution_count": 7,
   "metadata": {},
   "outputs": [
    {
     "data": {
      "text/latex": [
       "$\\displaystyle - 0.1025 \\sqrt{5} - 0.1025 + 0.287 \\pi + \\frac{\\pi \\left(33.62 \\sqrt{\\frac{5}{8} - \\frac{\\sqrt{5}}{8}} + 33.62\\right)}{180}$"
      ],
      "text/plain": [
       "-0.1025*sqrt(5) - 0.1025 + 0.287*pi + pi*(33.62*sqrt(5/8 - sqrt(5)/8) + 33.62)/180"
      ]
     },
     "execution_count": 7,
     "metadata": {},
     "output_type": "execute_result"
    }
   ],
   "source": [
    "r, alpha = symbols('r alpha')\n",
    "A = (r**2 / 2) * (alpha - sp.sin(alpha))\n",
    "\n",
    "dA_dr = A.diff(r)\n",
    "dA_dalpha = A.diff(alpha)\n",
    "\n",
    "r_val = 8.2\n",
    "alpha_val = rad(126)\n",
    "dr = 0.05\n",
    "dalpha = rad(1)\n",
    "\n",
    "error_A = Abs(dA_dr.subs({r: r_val, alpha: alpha_val})) * dr + Abs(dA_dalpha.subs({r: r_val, alpha: alpha_val})) * dalpha\n",
    "\n",
    "error_A"
   ]
  },
  {
   "cell_type": "markdown",
   "metadata": {},
   "source": [
    "### Aufgabe 7\n",
    "\n",
    "In einem Gleichstromkreis wurden $U=(220\\pm3) \\textrm{V}$,$R_1=(78\\pm1) \\Omega$\n",
    "und $R_2=(54\\pm1) \\Omega$ gemessen. Wie groß ist der maximale Fehler\n",
    "der Stromstärke $I$ bei Serienschaltung:\n",
    "\n",
    "$$\n",
    "I=U/(R_1+R_2)\n",
    "$$\n",
    "\n"
   ]
  },
  {
   "cell_type": "markdown",
   "metadata": {},
   "source": [
    "Der maximale Fehler von $I$ wird bestimmt durch:\n",
    "$$\n",
    "\\Delta I \\approx \\left| \\frac{\\partial I}{\\partial U} \\right| \\Delta U + \\left| \\frac{\\partial I}{\\partial R_1} \\right| \\Delta R_1 + \\left| \\frac{\\partial I}{\\partial R_2} \\right| \\Delta R_2\n",
    "$$\n",
    "\n",
    "Die partiellen Ableitungen sind:\n",
    "$$\n",
    "\\frac{\\partial I}{\\partial U} = \\frac{1}{R_1 + R_2}, \\quad \\frac{\\partial I}{\\partial R_1} = -\\frac{U}{(R_1 + R_2)^2}, \\quad \\frac{\\partial I}{\\partial R_2} = -\\frac{U}{(R_1 + R_2)^2}\n",
    "$$\n",
    "\n",
    "Einsetzen der Werte:\n",
    "$$\n",
    "\\Delta I \\approx \\left| \\frac{1}{132} \\right| 3 + \\left| -\\frac{220}{132^2} \\right| 1 + \\left| -\\frac{220}{132^2} \\right| 1\n",
    "$$"
   ]
  },
  {
   "cell_type": "code",
   "execution_count": 8,
   "metadata": {},
   "outputs": [
    {
     "data": {
      "text/latex": [
       "$\\displaystyle \\frac{19}{396}$"
      ],
      "text/plain": [
       "19/396"
      ]
     },
     "execution_count": 8,
     "metadata": {},
     "output_type": "execute_result"
    }
   ],
   "source": [
    "U, R1, R2 = symbols('U R1 R2')\n",
    "I = U / (R1 + R2)\n",
    "\n",
    "dI_dU = I.diff(U)\n",
    "dI_dR1 = I.diff(R1)\n",
    "dI_dR2 = I.diff(R2)\n",
    "\n",
    "U_val = 220\n",
    "R1_val = 78\n",
    "R2_val = 54\n",
    "dU = 3\n",
    "dR1 = 1\n",
    "dR2 = 1\n",
    "\n",
    "error_I = Abs(dI_dU.subs({U: U_val, R1: R1_val, R2: R2_val})) * dU + Abs(dI_dR1.subs({U: U_val, R1: R1_val, R2: R2_val})) * dR1 + Abs(dI_dR2.subs({U: U_val, R1: R1_val, R2: R2_val})) * dR2\n",
    "\n",
    "error_I"
   ]
  },
  {
   "cell_type": "markdown",
   "metadata": {},
   "source": [
    "### Aufgabe 8\n",
    "\n",
    "In Fortsetzung des vorangegangengen Beispiels, wie groß ist der maximale Fehler\n",
    "der Stromstärke $I$ bei Parallelschaltung: \n",
    "\n",
    "$$\n",
    "I=U/R_1+U/R_2\n",
    "$$\n",
    "\n"
   ]
  },
  {
   "cell_type": "markdown",
   "metadata": {},
   "source": [
    "Der maximale Fehler von $I$ wird bestimmt durch:\n",
    "$$\n",
    "\\Delta I \\approx \\left| \\frac{\\partial I}{\\partial U} \\right| \\Delta U + \\left| \\frac{\\partial I}{\\partial R_1} \\right| \\Delta R_1 + \\left| \\frac{\\partial I}{\\partial R_2} \\right| \\Delta R_2\n",
    "$$\n",
    "\n",
    "Die partiellen Ableitungen sind:\n",
    "$$\n",
    "\\frac{\\partial I}{\\partial U} = \\frac{1}{R_1} + \\frac{1}{R_2}, \\quad \\frac{\\partial I}{\\partial R_1} = -\\frac{U}{R_1^2}, \\quad \\frac{\\partial I}{\\partial R_2} = -\\frac{U}{R_2^2}\n",
    "$$\n",
    "\n",
    "Einsetzen der Werte:\n",
    "$$\n",
    "\\Delta I \\approx \\left| \\frac{1}{78} + \\frac{1}{54} \\right| 3 + \\left| -\\frac{220}{78^2} \\right| 1 + \\left| -\\frac{220}{54^2} \\right| 1\n",
    "$$"
   ]
  },
  {
   "cell_type": "code",
   "execution_count": 9,
   "metadata": {},
   "outputs": [
    {
     "data": {
      "text/latex": [
       "$\\displaystyle \\frac{25333}{123201}$"
      ],
      "text/plain": [
       "25333/123201"
      ]
     },
     "execution_count": 9,
     "metadata": {},
     "output_type": "execute_result"
    }
   ],
   "source": [
    "I = U / R1 + U / R2\n",
    "\n",
    "# Partielle Ableitungen\n",
    "dI_dU = I.diff(U)\n",
    "dI_dR1 = I.diff(R1)\n",
    "dI_dR2 = I.diff(R2)\n",
    "\n",
    "# Werte\n",
    "U_val = 220\n",
    "R1_val = 78\n",
    "R2_val = 54\n",
    "dU = 3\n",
    "dR1 = 1\n",
    "dR2 = 1\n",
    "\n",
    "# Fehlerberechnung\n",
    "error_I = Abs(dI_dU.subs({U: U_val, R1: R1_val, R2: R2_val})) * dU + Abs(dI_dR1.subs({U: U_val, R1: R1_val, R2: R2_val})) * dR1 + Abs(dI_dR2.subs({U: U_val, R1: R1_val, R2: R2_val})) * dR2\n",
    "\n",
    "error_I"
   ]
  }
 ],
 "metadata": {
  "kernelspec": {
   "display_name": "Python 3 (ipykernel)",
   "language": "python",
   "name": "python3"
  },
  "language_info": {
   "codemirror_mode": {
    "name": "ipython",
    "version": 3
   },
   "file_extension": ".py",
   "mimetype": "text/x-python",
   "name": "python",
   "nbconvert_exporter": "python",
   "pygments_lexer": "ipython3",
   "version": "3.11.8"
  }
 },
 "nbformat": 4,
 "nbformat_minor": 4
}
