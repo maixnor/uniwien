{
 "cells": [
  {
   "cell_type": "markdown",
   "metadata": {},
   "source": [
    "# Aufgabenblatt 8"
   ]
  },
  {
   "cell_type": "markdown",
   "metadata": {},
   "source": [
    "## Mehrdimensionale Analysis – Partielle Ableitungen 1"
   ]
  },
  {
   "cell_type": "code",
   "execution_count": 1,
   "metadata": {},
   "outputs": [],
   "source": [
    "from sympy import *\n",
    "from sympy.plotting import *\n",
    "x, y, z = symbols('x y z', real=True)\n",
    "x1, x2, x3 = symbols('x1 x2 x3', real=True)\n"
   ]
  },
  {
   "cell_type": "code",
   "execution_count": 2,
   "metadata": {},
   "outputs": [],
   "source": [
    "def plot_functions(f1, f2, x_min, x_max, y_min, y_max):\n",
    "    p = plot(f1, xlim=(x_min, x_max), ylim=(y_min, y_max), show=False, label=\"f\", legend=true)\n",
    "    p.extend(plot(f2, xlim=(x_min, x_max), ylim=(y_min, y_max), show=False, label=\"g\"))\n",
    "    p.show()"
   ]
  },
  {
   "cell_type": "markdown",
   "metadata": {},
   "source": [
    "### Aufgabe 1\n",
    "\n",
    "Gegeben sei die Funktion $f(x,y)=\\frac{xy}{x^2+y^2}$\n",
    "\n",
    "a) Bestimmen Sie den Definitionsbereich $D_{f}$  \n",
    "b) Zeigen Sie, dass $\\lim_{(x,y)\\rightarrow (0,0)}f(x,y)$ nicht\n",
    "existiert (Hinweis: Nähern Sie sich dem Ursprung auf einer Geraden\n",
    "$g:y=kx$)  \n",
    "c) Bestimmen Sie die Niveaumenge $N_{f}(0)=\\{(x,y)|f(x,y)=0\\}$  \n",
    "d) Berechnen Sie die partiellen Ableitungen an der Stelle\n",
    "$(1|2)$  \n",
    "e) Plotten Sie die Funktion  "
   ]
  },
  {
   "cell_type": "code",
   "execution_count": 5,
   "metadata": {},
   "outputs": [
    {
     "data": {
      "text/latex": [
       "$\\displaystyle \\left(\\mathbb{R}^{2}\\right) \\setminus \\left\\{\\left( 0, \\  0\\right)\\right\\}$"
      ],
      "text/plain": [
       "Complement(ProductSet(Reals, Reals), {(0, 0)})"
      ]
     },
     "execution_count": 5,
     "metadata": {},
     "output_type": "execute_result"
    }
   ],
   "source": [
    "# a) Bestimmen Sie den Definitionsbereich D_f\n",
    "# Die Funktion f(x, y) = xy / (x^2 + y^2) ist überall definiert, außer wenn x^2 + y^2 = 0\n",
    "# Das passiert nur bei (x, y) = (0, 0)\n",
    "# Daher ist der Definitionsbereich D_f = R^2 \\ {(0, 0)}\n",
    "\n",
    "f = (x * y) / (x**2 + y**2)\n",
    "D_f = Complement(S.Reals**2, {(0, 0)})\n",
    "D_f\n"
   ]
  },
  {
   "cell_type": "markdown",
   "metadata": {},
   "source": [
    "a)\n",
    "\n",
    "$$D_{f} = \\{ (x, y) \\in \\mathbb{R}^2 \\mid x^2 + y^2 \\neq 0 \\}$$\n",
    "$$D_f = R \\backslash (0, 0)$$"
   ]
  },
  {
   "cell_type": "code",
   "execution_count": 3,
   "metadata": {},
   "outputs": [
    {
     "data": {
      "text/plain": [
       "[]"
      ]
     },
     "execution_count": 3,
     "metadata": {},
     "output_type": "execute_result"
    }
   ],
   "source": [
    "Df = (x**2 + y**2) != 0\n",
    "solve(Df, (x,y))\n"
   ]
  },
  {
   "cell_type": "markdown",
   "metadata": {},
   "source": [
    "b)\n",
    "\n",
    "Betrachten wir die Pfade $y = kx$:\n",
    "$$\\lim_{x \\to 0} f(x, kx) = \\lim_{x \\to 0} \\frac{x \\cdot kx}{x^2 + (kx)^2} = \\lim_{x \\to 0} \\frac{kx^2}{x^2(1+k^2)} = \\lim_{x \\to 0} \\frac{k}{1+k^2} = \\frac{k}{1+k^2}$$\n",
    "Da dieser Wert vom gewählten $k$ abhängt, existiert der Limes nicht.\n"
   ]
  },
  {
   "cell_type": "code",
   "execution_count": 4,
   "metadata": {},
   "outputs": [
    {
     "data": {
      "text/latex": [
       "$\\displaystyle \\frac{k}{k^{2} + 1}$"
      ],
      "text/plain": [
       "k/(k**2 + 1)"
      ]
     },
     "execution_count": 4,
     "metadata": {},
     "output_type": "execute_result"
    }
   ],
   "source": [
    "k = symbols('k', real=True)\n",
    "f = (x * k * x) / (x**2 + (k * x)**2)\n",
    "limit(f, x, 0)"
   ]
  },
  {
   "cell_type": "markdown",
   "metadata": {},
   "source": [
    "c)\n",
    "\n",
    "$$N_{f}(0) = \\{ (x, y) \\in \\mathbb{R}^2 \\mid \\frac{xy}{x^2 + y^2} = 0 \\} = \\{ (x, y) \\in \\mathbb{R}^2 \\mid xy = 0 \\} = \\{ (x, 0) \\mid x \\in \\mathbb{R} \\} \\cup \\{ (0, y) \\mid y \\in \\mathbb{R} \\}$$"
   ]
  },
  {
   "cell_type": "code",
   "execution_count": 5,
   "metadata": {},
   "outputs": [
    {
     "data": {
      "text/plain": [
       "[(0, y), (x, 0)]"
      ]
     },
     "execution_count": 5,
     "metadata": {},
     "output_type": "execute_result"
    }
   ],
   "source": [
    "f = x * y / (x**2 + y**2)\n",
    "sol = solve(f, (x, y))\n",
    "sol"
   ]
  },
  {
   "cell_type": "markdown",
   "metadata": {},
   "source": [
    "d)\n",
    "\n",
    "$$\\frac{\\partial f}{\\partial x} = \\frac{\\partial}{\\partial x} \\left( \\frac{xy}{x^2 + y^2} \\right)$$\n",
    "$$\\frac{\\partial f}{\\partial y} = \\frac{\\partial}{\\partial y} \\left( \\frac{xy}{x^2 + y^2} \\right)$$\n",
    "\n",
    "$$\\text{An der Stelle } (1,2):$$\n",
    "$$\\left. \\frac{\\partial f}{\\partial x} \\right|_{(1,2)} = \\frac{6}{25}$$\n",
    "$$\\left. \\frac{\\partial f}{\\partial y} \\right|_{(1,2)} = -\\frac{3}{25}$$"
   ]
  },
  {
   "cell_type": "code",
   "execution_count": 6,
   "metadata": {},
   "outputs": [
    {
     "data": {
      "text/plain": [
       "(6/25, -3/25)"
      ]
     },
     "execution_count": 6,
     "metadata": {},
     "output_type": "execute_result"
    }
   ],
   "source": [
    "f = x * y / (x**2 + y**2)\n",
    "partial_x = diff(f, x).subs({x: 1, y: 2})\n",
    "partial_y = diff(f, y).subs({x: 1, y: 2})\n",
    "partial_x, partial_y"
   ]
  },
  {
   "cell_type": "code",
   "execution_count": 7,
   "metadata": {},
   "outputs": [
    {
     "data": {
      "image/png": "[encoded data removed]",
      "text/plain": [
       "<Figure size 640x480 with 1 Axes>"
      ]
     },
     "metadata": {},
     "output_type": "display_data"
    },
    {
     "data": {
      "text/plain": [
       "<sympy.plotting.plot.Plot at 0x7f55d3a36210>"
      ]
     },
     "execution_count": 7,
     "metadata": {},
     "output_type": "execute_result"
    }
   ],
   "source": [
    "# e)\n",
    "f = x*y / (x**2 * y**2)\n",
    "plot3d(f, (x, -5, 5), (y, -5, 5))\n"
   ]
  },
  {
   "cell_type": "markdown",
   "metadata": {},
   "source": [
    "### Aufgabe 2\n",
    "\n",
    "Berechnen Sie die partiellen Ableitungen und bilden Sie den\n",
    "Gradientenvektor:\n",
    "\n",
    "a) $f(x,y)=\\cos{(xy)}$  \n",
    "b) $f(x,y)=\\sin{x}\\cos{y}-\\sin{y}\\cos{x}$  "
   ]
  },
  {
   "cell_type": "markdown",
   "metadata": {},
   "source": [
    "a)\n",
    "\n",
    "$$f(x,y) = \\cos(xy) \\\\\n",
    "\\frac{\\partial f}{\\partial x} = -y \\sin(xy) \\\\\n",
    "\\frac{\\partial f}{\\partial y} = -x \\sin(xy) \\\\\n",
    "\\nabla f = \\left( -y \\sin(xy), -x \\sin(xy) \\right)$$"
   ]
  },
  {
   "cell_type": "code",
   "execution_count": 8,
   "metadata": {},
   "outputs": [
    {
     "data": {
      "text/plain": [
       "(-y*sin(x*y), -x*sin(x*y))"
      ]
     },
     "execution_count": 8,
     "metadata": {},
     "output_type": "execute_result"
    }
   ],
   "source": [
    "f = cos(x*y)\n",
    "partial_fx = diff(f, x)\n",
    "partial_fy = diff(f, y)\n",
    "gradient_f = (partial_fx, partial_fy)\n",
    "gradient_f"
   ]
  },
  {
   "cell_type": "markdown",
   "metadata": {},
   "source": [
    "b)\n",
    "\n",
    "$$f(x,y) = \\sin(x) \\cos(y) - \\sin(y) \\cos(x) \\\\\n",
    "\\frac{\\partial f}{\\partial x} = \\cos(x) \\cos(y) + \\sin(y) \\sin(x) \\\\\n",
    "\\frac{\\partial f}{\\partial y} = -\\sin(x) \\sin(y) - \\cos(y) \\cos(x) \\\\\n",
    "\\nabla f$$\n",
    "$$f(x,y) = \\left( \\cos(x) \\cos(y) + \\sin(y) \\sin(x), -\\sin(x) \\sin(y) - \\cos(y) \\cos(x) \\right)$$"
   ]
  },
  {
   "cell_type": "code",
   "execution_count": 9,
   "metadata": {},
   "outputs": [
    {
     "data": {
      "text/plain": [
       "(sin(x)*sin(y) + cos(x)*cos(y), -sin(x)*sin(y) - cos(x)*cos(y))"
      ]
     },
     "execution_count": 9,
     "metadata": {},
     "output_type": "execute_result"
    }
   ],
   "source": [
    "f = sin(x)*cos(y) - sin(y)*cos(x)\n",
    "partial_fx = diff(f, x)\n",
    "partial_fy = diff(f, y)\n",
    "gradient_f = (partial_fx, partial_fy)\n",
    "gradient_f"
   ]
  },
  {
   "cell_type": "markdown",
   "metadata": {},
   "source": [
    "### Aufgabe 3\n",
    "\n",
    "Berechnen Sie die partiellen Ableitungen und bilden Sie den\n",
    "Gradientenvektor:\n",
    "\n",
    "a) $f(x,y,z)=e^{xyz}$  \n",
    "b) $f(x_{1},x_{2},x_{3})=x_{1}^{(x_{2}+x_{3})}$"
   ]
  },
  {
   "cell_type": "markdown",
   "metadata": {},
   "source": [
    "a)\n",
    "\n",
    "$$\n",
    "f(x,y,z) = e^{xyz} \\\\\n",
    "\\frac{\\partial f}{\\partial x} = y z e^{xyz} \\\\\n",
    "\\frac{\\partial f}{\\partial y} = x z e^{xyz} \\\\\n",
    "\\frac{\\partial f}{\\partial z} = x y e^{xyz} \\\\\n",
    "\\nabla f = \\left( y z e^{xyz}, x z e^{xyz}, x y e^{xyz} \\right)\n",
    "$$"
   ]
  },
  {
   "cell_type": "code",
   "execution_count": 10,
   "metadata": {},
   "outputs": [
    {
     "data": {
      "text/plain": [
       "(y*z*exp(x*y*z), x*z*exp(x*y*z), x*y*exp(x*y*z))"
      ]
     },
     "execution_count": 10,
     "metadata": {},
     "output_type": "execute_result"
    }
   ],
   "source": [
    "f = exp(x*y*z)\n",
    "partial_fx = diff(f, x)\n",
    "partial_fy = diff(f, y)\n",
    "partial_fz = diff(f, z)\n",
    "gradient_f = (partial_fx, partial_fy, partial_fz)\n",
    "gradient_f"
   ]
  },
  {
   "cell_type": "markdown",
   "metadata": {},
   "source": [
    "b)\n",
    "\n",
    "$$\n",
    "f(x_1, x_2, x_3) = x_1^{x_2 + x_3} \\\\\n",
    "\\frac{\\partial f}{\\partial x_1} = (x_2 + x_3) x_1^{x_2 + x_3 - 1} \\\\\n",
    "\\frac{\\partial f}{\\partial x_2} = x_1^{x_2 + x_3} \\ln(x_1) \\\\\n",
    "\\frac{\\partial f}{\\partial x_3} = x_1^{x_2 + x_3} \\ln(x_1) \\\\\n",
    "\\nabla f \n",
    "$$\n",
    "$$\n",
    "f(x_1, x_2, x_3) = \\left( (x_2 + x_3) x_1^{x_2 + x_3 - 1}, x_1^{x_2 + x_3} \\ln(x_1), x_1^{x_2 + x_3} \\ln(x_1) \\right)\n",
    "$$"
   ]
  },
  {
   "cell_type": "code",
   "execution_count": 11,
   "metadata": {},
   "outputs": [
    {
     "data": {
      "text/plain": [
       "(x1**(x2 + x3)*(x2 + x3)/x1, x1**(x2 + x3)*log(x1), x1**(x2 + x3)*log(x1))"
      ]
     },
     "execution_count": 11,
     "metadata": {},
     "output_type": "execute_result"
    }
   ],
   "source": [
    "f = x1**(x2 + x3)\n",
    "partial_fx1 = diff(f, x1)\n",
    "partial_fx2 = diff(f, x2)\n",
    "partial_fx3 = diff(f, x3)\n",
    "gradient_f = (partial_fx1, partial_fx2, partial_fx3)\n",
    "gradient_f"
   ]
  },
  {
   "cell_type": "markdown",
   "metadata": {},
   "source": [
    "### Aufgabe 4\n",
    "\n",
    "Berechnen Sie die Jacobimatrix $\\nabla f$ von\n",
    "$f(x_{1},x_{2},x_{3})=\\left(\n",
    "\\begin{array}{c}\n",
    " \\sqrt{x_{1}x_{2}x_{3}} \\\\\n",
    " \\sin{(x_{1}x_{2}x_{3})}\n",
    "  \\end{array} \\right)$.  \n"
   ]
  },
  {
   "cell_type": "markdown",
   "metadata": {},
   "source": [
    "$$\n",
    "f_1(x_1, x_2, x_3) = \\sqrt{x_1 x_2 x_3} \\\\\n",
    "f_2(x_1, x_2, x_3) = \\sin(x_1 x_2 x_3) \\\\\n",
    "$$\n",
    "$$\n",
    "\\frac{\\partial f_1}{\\partial x_1} = \\frac{1}{2} \\frac{\\sqrt{x_2 x_3}}{\\sqrt{x_1}} \\\\\n",
    "\\frac{\\partial f_1}{\\partial x_2} = \\frac{1}{2} \\frac{\\sqrt{x_1 x_3}}{\\sqrt{x_2}} \\\\\n",
    "\\frac{\\partial f_1}{\\partial x_3} = \\frac{1}{2} \\frac{\\sqrt{x_1 x_2}}{\\sqrt{x_3}} \\\\\n",
    "$$\n",
    "$$\n",
    "\\frac{\\partial f_2}{\\partial x_1} = x_2 x_3 \\cos(x_1 x_2 x_3) \\\\\n",
    "\\frac{\\partial f_2}{\\partial x_2} = x_1 x_3 \\cos(x_1 x_2 x_3) \\\\\n",
    "\\frac{\\partial f_2}{\\partial x_3} = x_1 x_2 \\cos(x_1 x_2 x_3) \\\\\n",
    "$$\n",
    "$$\n",
    "\\nabla f = \\begin{pmatrix}\n",
    "\\frac{1}{2} \\frac{\\sqrt{x_2 x_3}}{\\sqrt{x_1}} & \\frac{1}{2} \\frac{\\sqrt{x_1 x_3}}{\\sqrt{x_2}} & \\frac{1}{2} \\frac{\\sqrt{x_1 x_2}}{\\sqrt{x_3}} \\\\\n",
    "x_2 x_3 \\cos(x_1 x_2 x_3) & x_1 x_3 \\cos(x_1 x_2 x_3) & x_1 x_2 \\cos(x_1 x_2 x_3)\n",
    "\\end{pmatrix}\n",
    "$$"
   ]
  },
  {
   "cell_type": "code",
   "execution_count": 12,
   "metadata": {},
   "outputs": [
    {
     "data": {
      "text/latex": [
       "$\\displaystyle \\left[\\begin{matrix}\\frac{\\sqrt{x_{1} x_{2} x_{3}}}{2 x_{1}} & \\frac{\\sqrt{x_{1} x_{2} x_{3}}}{2 x_{2}} & \\frac{\\sqrt{x_{1} x_{2} x_{3}}}{2 x_{3}}\\\\x_{2} x_{3} \\cos{\\left(x_{1} x_{2} x_{3} \\right)} & x_{1} x_{3} \\cos{\\left(x_{1} x_{2} x_{3} \\right)} & x_{1} x_{2} \\cos{\\left(x_{1} x_{2} x_{3} \\right)}\\end{matrix}\\right]$"
      ],
      "text/plain": [
       "Matrix([\n",
       "[sqrt(x1*x2*x3)/(2*x1), sqrt(x1*x2*x3)/(2*x2), sqrt(x1*x2*x3)/(2*x3)],\n",
       "[  x2*x3*cos(x1*x2*x3),   x1*x3*cos(x1*x2*x3),   x1*x2*cos(x1*x2*x3)]])"
      ]
     },
     "execution_count": 12,
     "metadata": {},
     "output_type": "execute_result"
    }
   ],
   "source": [
    "f1 = sqrt(x1 * x2 * x3)\n",
    "f2 = sin(x1 * x2 * x3)\n",
    "jacobian = Matrix([[diff(f1, x1), diff(f1, x2), diff(f1, x3)], [diff(f2, x1), diff(f2, x2), diff(f2, x3)]])\n",
    "jacobian"
   ]
  },
  {
   "cell_type": "markdown",
   "metadata": {},
   "source": [
    "### Aufgabe 5\n",
    "\n",
    "Berechnen Sie den Gradientenvektor und die Hesse'sche Matrix:\n",
    "\n",
    "a) $f(x_{1},x_{2})=x_{1}^2+x_{2}^2$  \n",
    "b) $f(x_{1},x_{2})=\\sin{x_{1}}\\cos{x_{2}}+2x_{1}x_2$\n"
   ]
  },
  {
   "cell_type": "markdown",
   "metadata": {},
   "source": [
    "a)\n",
    "\n",
    "$$\n",
    "f(x_1, x_2) = x_1^2 + x_2^2 \\\\\n",
    "\\frac{\\partial f}{\\partial x_1} = 2x_1 \\\\\n",
    "\\frac{\\partial f}{\\partial x_2} = 2x_2 \\\\\n",
    "\\nabla f = \\left( 2x_1, 2x_2 \\right) \\\\\n",
    "$$\n",
    "$$\n",
    "\\frac{\\partial^2 f}{\\partial x_1^2} = 2 \\\\\n",
    "\\frac{\\partial^2 f}{\\partial x_1 \\partial x_2} = 0 \\\\\n",
    "\\frac{\\partial^2 f}{\\partial x_2^2} = 2 \\\\\n",
    "H = \\begin{pmatrix}\n",
    "2 & 0 \\\\\n",
    "0 & 2\n",
    "\\end{pmatrix}\n",
    "$$"
   ]
  },
  {
   "cell_type": "code",
   "execution_count": 13,
   "metadata": {},
   "outputs": [
    {
     "data": {
      "text/plain": [
       "((2*x1, 2*x2),\n",
       " Matrix([\n",
       " [2, 0],\n",
       " [0, 2]]))"
      ]
     },
     "execution_count": 13,
     "metadata": {},
     "output_type": "execute_result"
    }
   ],
   "source": [
    "f = x1**2 + x2**2\n",
    "gradient_f = (diff(f, x1), diff(f, x2))\n",
    "hesse_matrix = Matrix([[diff(f, x1, x1), diff(f, x1, x2)], [diff(f, x2, x1), diff(f, x2, x2)]])\n",
    "gradient_f, hesse_matrix"
   ]
  },
  {
   "cell_type": "markdown",
   "metadata": {},
   "source": [
    "b)\n",
    "\n",
    "$$\n",
    "f(x_1, x_2) = \\sin(x_1) \\cos(x_2) + 2x_1 x_2 \\\\\n",
    "\\frac{\\partial f}{\\partial x_1} = \\cos(x_1) \\cos(x_2) + 2x_2 \\\\\n",
    "\\frac{\\partial f}{\\partial x_2} = -\\sin(x_1) \\sin(x_2) + 2x_1 \\\\\n",
    "\\nabla f = \n",
    "f(x_1, x_2) = \\left( \\cos(x_1) \\cos(x_2) + 2x_2, -\\sin(x_1) \\sin(x_2) + 2x_1 \\right)\n",
    "$$\n",
    "$$\n",
    "\\frac{\\partial^2 f}{\\partial x_1^2} = -\\sin(x_1) \\cos(x_2) \\\\\n",
    "\\frac{\\partial^2 f}{\\partial x_1 \\partial x_2} = -\\cos(x_1) \\sin(x_2) + 2 \\\\\n",
    "\\frac{\\partial^2 f}{\\partial x_2^2} = -\\sin(x_1) \\cos(x_2) \\\\\n",
    "$$\n",
    "$$\n",
    "H = \\begin{pmatrix}\n",
    "-\\sin(x_1) \\cos(x_2) & -\\cos(x_1) \\sin(x_2) + 2 \\\\\n",
    "-\\cos(x_1) \\sin(x_2) + 2 & -\\sin(x_1) \\cos(x_2)\n",
    "\\end{pmatrix}\n",
    "$$"
   ]
  },
  {
   "cell_type": "code",
   "execution_count": 14,
   "metadata": {},
   "outputs": [
    {
     "data": {
      "text/plain": [
       "((2*x2 + cos(x1)*cos(x2), 2*x1 - sin(x1)*sin(x2)),\n",
       " Matrix([\n",
       " [    -sin(x1)*cos(x2), -sin(x2)*cos(x1) + 2],\n",
       " [-sin(x2)*cos(x1) + 2,     -sin(x1)*cos(x2)]]))"
      ]
     },
     "execution_count": 14,
     "metadata": {},
     "output_type": "execute_result"
    }
   ],
   "source": [
    "f = sin(x1)*cos(x2) + 2*x1*x2\n",
    "gradient_f = (diff(f, x1), diff(f, x2))\n",
    "hesse_matrix = Matrix([[diff(f, x1, x1), diff(f, x1, x2)], [diff(f, x2, x1), diff(f, x2, x2)]])\n",
    "gradient_f, hesse_matrix"
   ]
  },
  {
   "cell_type": "markdown",
   "metadata": {},
   "source": [
    "### Aufgabe 6\n",
    "\n",
    "Berechnen Sie den Gradientenvektor und die Hesse'sche Matrix:\n",
    "\n",
    "a) $f(x_{1},x_{2})=e^{x_{1}^2+x_{2}^2}$  \n",
    "b) $f(x_{1},x_{2},x_3)=2x_1x_2+3x_2-x_3^2$\n"
   ]
  },
  {
   "cell_type": "markdown",
   "metadata": {},
   "source": [
    "a)\n",
    "\n",
    "$$\n",
    "f(x_1, x_2) = e^{x_1^2 + x_2^2} \\\\\n",
    "\\frac{\\partial f}{\\partial x_1} = 2x_1 e^{x_1^2 + x_2^2} \\\\\n",
    "\\frac{\\partial f}{\\partial x_2} = 2x_2 e^{x_1^2 + x_2^2} \\\\\n",
    "\\nabla f = \\left( 2x_1 e^{x_1^2 + x_2^2}, 2x_2 e^{x_1^2 + x_2^2} \\right) \\\\\n",
    "$$\n",
    "$$\n",
    "\\frac{\\partial^2 f}{\\partial x_1^2} = 4x_1^2 e^{x_1^2 + x_2^2} + 2e^{x_1^2 + x_2^2} \\\\\n",
    "\\frac{\\partial^2 f}{\\partial x_1 \\partial x_2} = 4x_1 x_2 e^{x_1^2 + x_2^2} \\\\\n",
    "\\frac{\\partial^2 f}{\\partial x_2^2} = 4x_2^2 e^{x_1^2 + x_2^2} + 2e^{x_1^2 + x_2^2} \\\\\n",
    "$$\n",
    "$$\n",
    "H = \\begin{pmatrix}\n",
    "4x_1^2 e^{x_1^2 + x_2^2} + 2e^{x_1^2 + x_2^2} & 4x_1 x_2 e^{x_1^2 + x_2^2} \\\\\n",
    "4x_1 x_2 e^{x_1^2 + x_2^2} & 4x_2^2 e^{x_1^2 + x_2^2} + 2e^{x_1^2 + x_2^2}\n",
    "\\end{pmatrix}\n",
    "$$"
   ]
  },
  {
   "cell_type": "code",
   "execution_count": 15,
   "metadata": {},
   "outputs": [
    {
     "data": {
      "text/plain": [
       "((2*x1*exp(x1**2 + x2**2), 2*x2*exp(x1**2 + x2**2)),\n",
       " Matrix([\n",
       " [2*(2*x1**2 + 1)*exp(x1**2 + x2**2),         4*x1*x2*exp(x1**2 + x2**2)],\n",
       " [        4*x1*x2*exp(x1**2 + x2**2), 2*(2*x2**2 + 1)*exp(x1**2 + x2**2)]]))"
      ]
     },
     "execution_count": 15,
     "metadata": {},
     "output_type": "execute_result"
    }
   ],
   "source": [
    "f = exp(x1**2 + x2**2)\n",
    "gradient_f = (diff(f, x1), diff(f, x2))\n",
    "hesse_matrix = Matrix([[diff(f, x1, x1), diff(f, x1, x2)], [diff(f, x2, x1), diff(f, x2, x2)]])\n",
    "gradient_f, hesse_matrix"
   ]
  },
  {
   "cell_type": "markdown",
   "metadata": {},
   "source": [
    "b)\n",
    "\n",
    "$$\n",
    "f(x_1, x_2, x_3) = 2x_1 x_2 + 3x_2 - x_3^2 \\\\\n",
    "\\frac{\\partial f}{\\partial x_1} = 2x_2 \\\\\n",
    "\\frac{\\partial f}{\\partial x_2} = 2x_1 + 3 \\\\\n",
    "\\frac{\\partial f}{\\partial x_3} = -2x_3 \\\\\n",
    "\\nabla f = \\left( 2x_2, 2x_1 + 3, -2x_3 \\right) \\\\\n",
    "$$\n",
    "$$\n",
    "\\frac{\\partial^2 f}{\\partial x_1^2} = 0 \\\\\n",
    "\\frac{\\partial^2 f}{\\partial x_1 \\partial x_2} = 2 \\\\\n",
    "\\frac{\\partial^2 f}{\\partial x_1 \\partial x_3} = 0 \\\\\n",
    "\\frac{\\partial^2 f}{\\partial x_2^2} = 0 \\\\\n",
    "\\frac{\\partial^2 f}{\\partial x_2 \\partial x_3} = 0 \\\\\n",
    "\\frac{\\partial^2 f}{\\partial x_3^2} = -2 \\\\\n",
    "$$\n",
    "$$\n",
    "H = \\begin{pmatrix}\n",
    "0 & 2 & 0 \\\\\n",
    "2 & 0 & 0 \\\\\n",
    "0 & 0 & -2\n",
    "\\end{pmatrix}\n",
    "$$"
   ]
  },
  {
   "cell_type": "code",
   "execution_count": 16,
   "metadata": {},
   "outputs": [
    {
     "data": {
      "text/plain": [
       "((2*x2, 2*x1 + 3, -2*x3),\n",
       " Matrix([\n",
       " [0, 2,  0],\n",
       " [2, 0,  0],\n",
       " [0, 0, -2]]))"
      ]
     },
     "execution_count": 16,
     "metadata": {},
     "output_type": "execute_result"
    }
   ],
   "source": [
    "f = 2*x1*x2 + 3*x2 - x3**2\n",
    "gradient_f = (diff(f, x1), diff(f, x2), diff(f, x3))\n",
    "hesse_matrix = Matrix([[diff(f, x1, x1), diff(f, x1, x2), diff(f, x1, x3)], \n",
    "                       [diff(f, x2, x1), diff(f, x2, x2), diff(f, x2, x3)], \n",
    "                       [diff(f, x3, x1), diff(f, x3, x2), diff(f, x3, x3)]])\n",
    "gradient_f, hesse_matrix"
   ]
  },
  {
   "cell_type": "markdown",
   "metadata": {},
   "source": [
    "### Aufgabe 7\n",
    "\n",
    "Finden Sie die Richtungsableitung von $f(x,y,z)=x^2yz+4xz^2$ im\n",
    "Punkt $(1,-2,-1)$ in Richtung $(2,-1,-2)$."
   ]
  },
  {
   "cell_type": "markdown",
   "metadata": {},
   "source": [
    "$$\n",
    "f(x,y,z) = x^2 yz + 4xz^2 \\\\\n",
    "\\nabla f = \\left( \\frac{\\partial f}{\\partial x}, \\frac{\\partial f}{\\partial y}, \\frac{\\partial f}{\\partial z} \\right) = \\left( 2xyz + 4z^2, x^2z, x^2y + 8xz \\right) \\\\\n",
    "$$\n",
    "$$\n",
    "\\text{Im Punkt } (1, -2, -1):\n",
    "\\nabla f(1, -2, -1) = \\left( 2(1)(-2)(-1) + 4(-1)^2, (1)^2(-1), (1)^2(-2) + 8(1)(-1) \\right) = (8, -1, -10) \\\\\n",
    "$$\n",
    "$$\n",
    "\\text{Normierter Richtungsvektor: }\n",
    "\\mathbf{u} = \\frac{1}{\\sqrt{2^2 + (-1)^2 + (-2)^2}} (2, -1, -2) = \\frac{1}{3} (2, -1, -2) \\\\\n",
    "$$\n",
    "$$\n",
    "\\text{Richtungsableitung: }\n",
    "D_{\\mathbf{u}} f = \\nabla f \\cdot \\mathbf{u} = (8, -1, -10) \\cdot \\frac{1}{3} (2, -1, -2) = \\frac{1}{3} (16 + 1 + 20) = \\frac{37}{3}\n",
    "$$"
   ]
  },
  {
   "cell_type": "code",
   "execution_count": 17,
   "metadata": {},
   "outputs": [
    {
     "data": {
      "text/latex": [
       "$\\displaystyle \\frac{37}{3}$"
      ],
      "text/plain": [
       "37/3"
      ]
     },
     "execution_count": 17,
     "metadata": {},
     "output_type": "execute_result"
    }
   ],
   "source": [
    "f = x**2 * y * z + 4 * x * z**2\n",
    "gradient_f = (diff(f, x), diff(f, y), diff(f, z))\n",
    "point = {x: 1, y: -2, z: -1}\n",
    "gradient_f_at_point = [grad.subs(point) for grad in gradient_f]\n",
    "\n",
    "direction_vector = Matrix([2, -1, -2])\n",
    "unit_vector = direction_vector / direction_vector.norm()\n",
    "\n",
    "directional_derivative = sum([gf * uv for gf, uv in zip(gradient_f_at_point, unit_vector)])\n",
    "directional_derivative"
   ]
  },
  {
   "cell_type": "markdown",
   "metadata": {},
   "source": [
    "### Aufgabe 8\n",
    "\n",
    "Berechnen Sie die Richtungsableitung von $f(x,y,z)=x^2yz^3$ längs der Kurve\n",
    "\n",
    "$$\n",
    "r(u)=\\left(\n",
    "\\begin{array}{c}\n",
    " e^{-u} \\\\\n",
    " 2\\sin{u}+1\\\\\n",
    "u-\\cos{u}\n",
    "  \\end{array} \\right)\n",
    "$$\n",
    "\n",
    "im Punkt $P$, in dem $u=0$ ist. Wie groß ist die maximale\n",
    "Richtungsableitung in $P$?"
   ]
  },
  {
   "cell_type": "markdown",
   "metadata": {},
   "source": [
    "## Berechnung der Richtungsableitung:\n",
    "\n",
    "### Parameterdarstellung der Kurve $r(u)r(u)$:\n",
    "\n",
    "$$\n",
    "r(u)=(e−u,2sin⁡(u)+1,u−cos⁡(u))\n",
    "r(u)=(e−u,2sin(u)+1,u−cos(u))\n",
    "$$\n",
    "\n",
    "### Funktion $f(x,y,z)$:\n",
    "\n",
    "$$\n",
    "f(x,y,z)=x2yz3\n",
    "f(x,y,z)=x2yz3\n",
    "$$\n",
    "\n",
    "### Gradient von $f$:\n",
    "\n",
    "$$\n",
    "∇f=(∂f∂x,∂f∂y,∂f∂z)=(2xyz3,x2z3,3x2yz2)\n",
    "∇f=(∂x∂f​,∂y∂f​,∂z∂f​)=(2xyz3,x2z3,3x2yz2)\n",
    "$$\n",
    "\n",
    "### Berechnung des Gradienten an der Stelle $u=0$:\n",
    "\n",
    "$$\n",
    "r(0)=(e0,2sin⁡(0)+1,0−cos⁡(0))=(1,1,−1)\n",
    "r(0)=(e0,2sin(0)+1,0−cos(0))=(1,1,−1)\n",
    "$$\n",
    "Setzen wir $(x,y,z)=(1,1,−1)$ in den Gradienten ein:\n",
    "$$\n",
    "∇f(1,1,−1)=(2(1)(1)(−1)3,(1)2(−1)3,3(1)2(1)(−1)2)=(−2,−1,3)\n",
    "∇f(1,1,−1)=(2(1)(1)(−1)3,(1)2(−1)3,3(1)2(1)(−1)2)=(−2,−1,3)\n",
    "$$\n",
    "   \n",
    "### Tangentenvektor $r′(u)$:\n",
    "\n",
    "$$\n",
    "r′(u)=(−e−u,2cos⁡(u),1+sin⁡(u))\n",
    "r′(u)=(−e−u,2cos(u),1+sin(u))\n",
    "$$\n",
    "\n",
    "### Tangentenvektor an der Stelle $u=0$:\n",
    "\n",
    "$$\n",
    "r′(0)=(−e0,2cos⁡(0),1+sin⁡(0))=(−1,2,1)\n",
    "r′(0)=(−e0,2cos(0),1+sin(0))=(−1,2,1)\n",
    "$$\n",
    "\n",
    "### Richtungsableitung entlang der Kurve:\n",
    "\n",
    "$$\n",
    "Dr′(u)f=∇f⋅r′(0)=(−2,−1,3)⋅(−1,2,1)=(−2)(−1)+(−1)(2)+(3)(1)=2−2+3=3\n",
    "Dr′(u)​f=∇f⋅r′(0)=(−2,−1,3)⋅(−1,2,1)=(−2)(−1)+(−1)(2)+(3)(1)=2−2+3=3\n",
    "$$\n",
    "\n",
    "##  Maximale Richtungsableitung:\n",
    "\n",
    "Die maximale Richtungsableitung ist der Betrag des Gradientenvektors:\n",
    "\n",
    "$$\n",
    "∥∇f∥=(−2)2+(−1)2+32=4+1+9=14\n",
    "∥∇f∥=(−2)2+(−1)2+32\n",
    "​=4+1+9\n",
    "$$\n",
    "$$\n",
    "∥∇f∥=14\n",
    "​$$"
   ]
  },
  {
   "cell_type": "code",
   "execution_count": 18,
   "metadata": {},
   "outputs": [
    {
     "data": {
      "text/plain": [
       "(3, sqrt(14))"
      ]
     },
     "execution_count": 18,
     "metadata": {},
     "output_type": "execute_result"
    }
   ],
   "source": [
    "u = symbols('u')\n",
    "\n",
    "# Parameterdarstellung der Kurve r(u)\n",
    "r_u = Matrix([exp(-u), 2*sin(u) + 1, u - cos(u)])\n",
    "\n",
    "# Funktion f(x, y, z)\n",
    "f = x**2 * y * z**3\n",
    "\n",
    "# Gradient von f\n",
    "gradient_f = Matrix([diff(f, x), diff(f, y), diff(f, z)])\n",
    "\n",
    "# Punkt P bei u = 0\n",
    "P = r_u.subs(u, 0)\n",
    "gradient_f_at_P = gradient_f.subs({x: P[0], y: P[1], z: P[2]})\n",
    "\n",
    "# Tangentenvektor r'(u) bei u = 0\n",
    "r_prime = Matrix([diff(r_u[i], u) for i in range(3)]).subs(u, 0)\n",
    "\n",
    "# Richtungsableitung entlang der Kurve bei u = 0\n",
    "directional_derivative = gradient_f_at_P.dot(r_prime)\n",
    "\n",
    "# Maximale Richtungsableitung\n",
    "max_directional_derivative = sqrt(sum([component**2 for component in gradient_f_at_P]))\n",
    "\n",
    "directional_derivative, max_directional_derivative"
   ]
  }
 ],
 "metadata": {
  "kernelspec": {
   "display_name": "Python 3 (ipykernel)",
   "language": "python",
   "name": "python3"
  },
  "language_info": {
   "codemirror_mode": {
    "name": "ipython",
    "version": 3
   },
   "file_extension": ".py",
   "mimetype": "text/x-python",
   "name": "python",
   "nbconvert_exporter": "python",
   "pygments_lexer": "ipython3",
   "version": "3.11.8"
  }
 },
 "nbformat": 4,
 "nbformat_minor": 4
}
