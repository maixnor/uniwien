{
 "cells": [
  {
   "cell_type": "markdown",
   "metadata": {},
   "source": [
    "# Aufgabenblatt 3"
   ]
  },
  {
   "cell_type": "markdown",
   "metadata": {},
   "source": [
    "## Eindimensionale Analysis – Differentialrechnung 3"
   ]
  },
  {
   "cell_type": "markdown",
   "metadata": {},
   "source": [
    "### Aufgabe 1\n",
    "\n",
    "Es sei $f(t)=\\left( \\begin{array}{c}\n",
    " \\sin{t} \\\\\n",
    " \\cos{t} \\\\\n",
    " t\n",
    "  \\end{array} \\right)$. Plotten Sie die Funktion. Bestimmen Sie $\\frac{df(t)}{dt},\n",
    "  \\frac{d^2f(t)}{dt^2}, \\|\\frac{df(t)}{dt}\\|,\\|\n",
    "  \\frac{d^2f(t)}{dt^2}\\|$. \n"
   ]
  },
  {
   "cell_type": "markdown",
   "metadata": {},
   "source": [
    "### Aufgabe 2\n",
    "\n",
    "Ein Teilchen bewegt sich auf einer Kurve mit der Parametergleichung\n",
    "$f(t)=\\left(\n",
    "\\begin{array}{c}\n",
    " e^{-t} \\\\\n",
    " 2\\cos{3t} \\\\\n",
    " 2\\sin{3t}\n",
    "  \\end{array} \\right)$."
   ]
  },
  {
   "cell_type": "markdown",
   "metadata": {},
   "source": [
    "a) Bestimmen Sie die Geschwindigkeit und die Beschleunigung"
   ]
  },
  {
   "cell_type": "markdown",
   "metadata": {},
   "source": [
    "b) Geben Sie die Größe der Geschwindigkeit und der Beschleunigung für $t=0$ an.\n"
   ]
  },
  {
   "cell_type": "markdown",
   "metadata": {},
   "source": [
    "### Aufgabe 3\n",
    "\n",
    "Es sei folgende Raumkurve $\\mathbf{R}$ gegeben (Schraubenlinie):\n",
    "$\\mathbf{R}=\\left(\n",
    "\\begin{array}{c}\n",
    " 3\\cos{t} \\\\\n",
    " 3\\sin{t}\\\\\n",
    " 4t\n",
    "  \\end{array} \\right)$. \n",
    "  \n",
    "Bestimmen Sie:\n",
    "\n",
    "a) die Einheitstangente (normiert auf die Bogenlänge $s$) $\\mathbf{T}=\\frac{d\\mathbf{R}}{ds}=\\frac{d\\mathbf{R}/dt}\n",
    "{ds/dt}=\\frac{d\\mathbf{R}/dt} {\\|d\\mathbf{R}/dt\\|}$"
   ]
  },
  {
   "cell_type": "markdown",
   "metadata": {},
   "source": [
    "b) die Krümmung $\\kappa=\\|\\frac{d\\mathbf{T}}{ds}\\|$"
   ]
  },
  {
   "cell_type": "markdown",
   "metadata": {},
   "source": [
    "c) die Hauptnormale $\\mathbf{N}=\\frac{1}{\\kappa}\\frac{d\\mathbf{T}}{ds}$  "
   ]
  },
  {
   "cell_type": "markdown",
   "metadata": {},
   "source": [
    "### Aufgabe 4\n",
    "\n",
    "Bestimmen Sie in Fortsetzung der vorangegangenen Aufgabe:\n",
    "\n",
    "a) die Binormale $\\mathbf{B}=\\mathbf{T}\\times\n",
    "\\mathbf{N}$"
   ]
  },
  {
   "cell_type": "markdown",
   "metadata": {},
   "source": [
    "b) die Torsion $\\tau$, diese ergibt sich aus $\\frac{d\\mathbf{B}}{ds}=-\\tau\\mathbf{N}$"
   ]
  },
  {
   "cell_type": "markdown",
   "metadata": {},
   "source": [
    "### Aufgabe 5\n",
    "\n",
    "Es sei folgende Raumkurve $\\mathbf{R}$ gegeben:\n",
    "$\\mathbf{R}=\\left(\n",
    "\\begin{array}{c}\n",
    " t \\\\\n",
    " t^2\\\\\n",
    " \\frac{2}{3}t^3\n",
    "  \\end{array} \\right)$.\n",
    "\n",
    "Bestimmen Sie die Einheitstangente $\\mathbf{T}$ (normiert auf die Bogenlänge $s$)."
   ]
  },
  {
   "cell_type": "markdown",
   "metadata": {},
   "source": [
    "### Aufgabe 6\n",
    "\n",
    "\n",
    "Bestimmen Sie in Fortsetzung der vorangegangenen Aufgabe die Krümmung $\\kappa$ sowie die Hauptnormale $\\mathbf{N}$.\n"
   ]
  },
  {
   "cell_type": "markdown",
   "metadata": {},
   "source": [
    "### Aufgabe 7\n",
    "\n",
    "Bestimmen Sie in Fortsetzung der vorangegangenen Aufgabe die Binormale $\\mathbf{B}$.\n"
   ]
  },
  {
   "cell_type": "markdown",
   "metadata": {},
   "source": [
    "### Aufgabe 8\n",
    "\n",
    "Bestimmen Sie in Fortsetzung der vorangegangenen Aufgabe die Torsion $\\tau$."
   ]
  }
 ],
 "metadata": {
  "kernelspec": {
   "display_name": "Python 3",
   "language": "python",
   "name": "python3"
  },
  "language_info": {
   "codemirror_mode": {
    "name": "ipython",
    "version": 3
   },
   "file_extension": ".py",
   "mimetype": "text/x-python",
   "name": "python",
   "nbconvert_exporter": "python",
   "pygments_lexer": "ipython3",
   "version": "3.7.8"
  }
 },
 "nbformat": 4,
 "nbformat_minor": 2
}
