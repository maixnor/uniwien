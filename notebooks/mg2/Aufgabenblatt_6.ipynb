{
 "cells": [
  {
   "cell_type": "markdown",
   "metadata": {},
   "source": [
    "# Aufgabenblatt 6"
   ]
  },
  {
   "cell_type": "markdown",
   "metadata": {},
   "source": [
    "## Eindimensionale Analysis – Unbestimmte Integrale"
   ]
  },
  {
   "cell_type": "code",
   "execution_count": 1,
   "metadata": {},
   "outputs": [],
   "source": [
    "from sympy import *\n",
    "x, u, t = symbols(\"x u t\", real = true)"
   ]
  },
  {
   "cell_type": "markdown",
   "metadata": {},
   "source": [
    "### Aufgabe 1\n",
    "\n",
    "Berechnen Sie folgendes unbestimmtes Integral:\n",
    "\n",
    "$$\n",
    "\\int \\frac{dx}{x\\log{x}}\n",
    "$$"
   ]
  },
  {
   "cell_type": "markdown",
   "metadata": {},
   "source": [
    "$$\\int{ \\frac{dx}{x \\log x}} = \\frac{x^2}{2} \\log x - \\int{\\frac{dx}{\\frac{x^2}{2} \\frac{1}{x} }} = \\frac{x^2}{2} \\log - 2 \\int{\\frac{dx}{x}} = x^2 \\log - \\int{\\frac{dx}{x}}$$\n",
    "$$x^2 \\log x - \\int{\\frac{dx}{x}} = x^2 \\log x - \\log x + C = \\log x (x^2) + C$$"
   ]
  },
  {
   "cell_type": "code",
   "execution_count": 2,
   "metadata": {},
   "outputs": [
    {
     "data": {
      "text/latex": [
       "$\\displaystyle \\log{\\left(\\log{\\left(x \\right)} \\right)}$"
      ],
      "text/plain": [
       "log(log(x))"
      ]
     },
     "execution_count": 2,
     "metadata": {},
     "output_type": "execute_result"
    }
   ],
   "source": [
    "y = 1/(x * log(x))\n",
    "yi = integrate(y, x)\n",
    "\n",
    "yi"
   ]
  },
  {
   "cell_type": "markdown",
   "metadata": {},
   "source": [
    "### Aufgabe 2\n",
    "\n",
    "Berechnen Sie mittels partieller Integration:\n",
    "\n",
    "$$\n",
    "\\int \\sin{x}\\cos{x}dx\n",
    "$$"
   ]
  },
  {
   "cell_type": "markdown",
   "metadata": {},
   "source": [
    "$$\\int{\\sin x \\cos x dx} = -\\cos x + \\cos x + \\int{\\cos x * \\sin x dx}$$\n",
    "$$= -\\cos^2 x + \\int{\\sin x * \\cos x dx}$$\n",
    "$I$ sei $\\int{\\sin x \\cos x dx}$\n",
    "$$I = +\\cos^2 x - I$$\n",
    "$$I = \\frac{\\cos^2 x}{2}$$\n",
    "man kann natuerlich auch die andere variante mit $\\sin x$ nehmen, so wie es sympy macht. Ich habe den $\\cos x$ genommen."
   ]
  },
  {
   "cell_type": "code",
   "execution_count": 3,
   "metadata": {},
   "outputs": [
    {
     "data": {
      "text/latex": [
       "$\\displaystyle \\frac{\\sin^{2}{\\left(x \\right)}}{2}$"
      ],
      "text/plain": [
       "sin(x)**2/2"
      ]
     },
     "execution_count": 3,
     "metadata": {},
     "output_type": "execute_result"
    }
   ],
   "source": [
    "y = sin(x) * cos(x)\n",
    "yi = integrate(y, x)\n",
    "\n",
    "yi"
   ]
  },
  {
   "cell_type": "markdown",
   "metadata": {},
   "source": [
    "### Aufgabe 3\n",
    "\n",
    "Berechnen Sie mittels partieller Integration:\n",
    "\n",
    "$$\n",
    "\\int x\\arctan{x}dx\n",
    "$$"
   ]
  },
  {
   "cell_type": "code",
   "execution_count": 4,
   "metadata": {},
   "outputs": [
    {
     "data": {
      "text/latex": [
       "$\\displaystyle \\frac{x^{2} \\operatorname{atan}{\\left(x \\right)}}{2} - \\frac{x}{2} + \\frac{\\operatorname{atan}{\\left(x \\right)}}{2}$"
      ],
      "text/plain": [
       "x**2*atan(x)/2 - x/2 + atan(x)/2"
      ]
     },
     "execution_count": 4,
     "metadata": {},
     "output_type": "execute_result"
    }
   ],
   "source": [
    "y = x * atan(x)\n",
    "yi = integrate(y, x)\n",
    "\n",
    "yi"
   ]
  },
  {
   "cell_type": "markdown",
   "metadata": {},
   "source": [
    "### Aufgabe 4\n",
    "\n",
    "Berechnen Sie mittels partieller Integration:\n",
    "\n",
    "$$\n",
    "\\int x^2\\sin{x}dx\n",
    "$$"
   ]
  },
  {
   "cell_type": "markdown",
   "metadata": {},
   "source": [
    "\n",
    "$$\\int{x^2 \\sin x dx} = -x^2 \\cos x + \\int{\\cos x * 2x dx} = -x^2 \\cos x + 2x \\sin x - \\int{\\sin x * 2 dx}$$\n",
    "$$\\int{x^2 \\sin x dx} = -x^2 \\cos x + 2x \\sin x + 2 \\cos x + C$$"
   ]
  },
  {
   "cell_type": "code",
   "execution_count": 5,
   "metadata": {},
   "outputs": [
    {
     "data": {
      "text/latex": [
       "$\\displaystyle - x^{2} \\cos{\\left(x \\right)} + 2 x \\sin{\\left(x \\right)} + 2 \\cos{\\left(x \\right)}$"
      ],
      "text/plain": [
       "-x**2*cos(x) + 2*x*sin(x) + 2*cos(x)"
      ]
     },
     "execution_count": 5,
     "metadata": {},
     "output_type": "execute_result"
    }
   ],
   "source": [
    "y = x**2 * sin(x)\n",
    "yi = integrate(y, x)\n",
    "\n",
    "yi"
   ]
  },
  {
   "cell_type": "code",
   "execution_count": 6,
   "metadata": {},
   "outputs": [
    {
     "data": {
      "text/latex": [
       "$\\displaystyle - \\cos{\\left(x \\right)}$"
      ],
      "text/plain": [
       "-cos(x)"
      ]
     },
     "execution_count": 6,
     "metadata": {},
     "output_type": "execute_result"
    }
   ],
   "source": [
    "integrate(sin(x), x)"
   ]
  },
  {
   "cell_type": "markdown",
   "metadata": {},
   "source": [
    "### Aufgabe 5\n",
    "\n",
    "Berechnen Sie mittels partieller Integration:\n",
    "\n",
    "$$\n",
    "\\int \\log{x}dx\n",
    "$$"
   ]
  },
  {
   "cell_type": "code",
   "execution_count": 7,
   "metadata": {},
   "outputs": [
    {
     "data": {
      "text/latex": [
       "$\\displaystyle x \\log{\\left(x \\right)} - x$"
      ],
      "text/plain": [
       "x*log(x) - x"
      ]
     },
     "execution_count": 7,
     "metadata": {},
     "output_type": "execute_result"
    }
   ],
   "source": [
    "y = log(x)\n",
    "yi = integrate(y, x)\n",
    "\n",
    "yi"
   ]
  },
  {
   "cell_type": "markdown",
   "metadata": {},
   "source": [
    "### Aufgabe 6\n",
    "\n",
    "Berechnen Sie $\\int \\frac{dx}{\\sin{x}}$. Hinweis: Verwenden Sie die\n",
    "Substitution: $u=\\tan{\\frac{x}{2}}$."
   ]
  },
  {
   "cell_type": "code",
   "execution_count": 8,
   "metadata": {},
   "outputs": [
    {
     "data": {
      "text/latex": [
       "$\\displaystyle \\frac{\\log{\\left(\\cos{\\left(x \\right)} - 1 \\right)}}{2} - \\frac{\\log{\\left(\\cos{\\left(x \\right)} + 1 \\right)}}{2}$"
      ],
      "text/plain": [
       "log(cos(x) - 1)/2 - log(cos(x) + 1)/2"
      ]
     },
     "execution_count": 8,
     "metadata": {},
     "output_type": "execute_result"
    }
   ],
   "source": [
    "y = 1/(sin(x))\n",
    "yi = integrate(y, x)\n",
    "\n",
    "yi"
   ]
  },
  {
   "cell_type": "markdown",
   "metadata": {},
   "source": [
    "### Aufgabe 7\n",
    "\n",
    "Berechnen Sie $\\int x^2\\sqrt{1-x^2}dx$. Hinweis: Verwenden Sie die\n",
    "Substitution: $x=\\sin{t}$."
   ]
  },
  {
   "cell_type": "code",
   "execution_count": 9,
   "metadata": {},
   "outputs": [
    {
     "data": {
      "text/latex": [
       "$\\displaystyle \\begin{cases} \\frac{i x^{5}}{4 \\sqrt{x^{2} - 1}} - \\frac{3 i x^{3}}{8 \\sqrt{x^{2} - 1}} - \\frac{i x \\operatorname{acosh}{\\left(\\left|{x}\\right| \\right)}}{8 \\left|{x}\\right|} + \\frac{\\pi x}{16 \\left|{x}\\right|} + \\frac{i x}{8 \\sqrt{x^{2} - 1}} & \\text{for}\\: x^{2} > 1 \\\\- \\frac{x^{5}}{4 \\sqrt{1 - x^{2}}} + \\frac{3 x^{3}}{8 \\sqrt{1 - x^{2}}} + \\frac{x \\operatorname{asin}{\\left(\\left|{x}\\right| \\right)}}{8 \\left|{x}\\right|} - \\frac{x}{8 \\sqrt{1 - x^{2}}} & \\text{otherwise} \\end{cases}$"
      ],
      "text/plain": [
       "Piecewise((I*x**5/(4*sqrt(x**2 - 1)) - 3*I*x**3/(8*sqrt(x**2 - 1)) - I*x*acosh(Abs(x))/(8*Abs(x)) + pi*x/(16*Abs(x)) + I*x/(8*sqrt(x**2 - 1)), x**2 > 1), (-x**5/(4*sqrt(1 - x**2)) + 3*x**3/(8*sqrt(1 - x**2)) + x*asin(Abs(x))/(8*Abs(x)) - x/(8*sqrt(1 - x**2)), True))"
      ]
     },
     "execution_count": 9,
     "metadata": {},
     "output_type": "execute_result"
    }
   ],
   "source": [
    "y = x**2 * sqrt(1 - x**2)\n",
    "yi = integrate(y, x)\n",
    "\n",
    "yi"
   ]
  },
  {
   "cell_type": "markdown",
   "metadata": {},
   "source": [
    "### Aufgabe 8\n",
    "\n",
    "Berechnen Sie $\\int x\\sqrt{1+x^2}dx$. Hinweis: Verwenden Sie die\n",
    "Substitution: $x=\\sinh{t}$."
   ]
  },
  {
   "cell_type": "code",
   "execution_count": 10,
   "metadata": {},
   "outputs": [
    {
     "data": {
      "text/latex": [
       "$\\displaystyle \\frac{x^{2} \\sqrt{x^{2} + 1}}{3} + \\frac{\\sqrt{x^{2} + 1}}{3}$"
      ],
      "text/plain": [
       "x**2*sqrt(x**2 + 1)/3 + sqrt(x**2 + 1)/3"
      ]
     },
     "execution_count": 10,
     "metadata": {},
     "output_type": "execute_result"
    }
   ],
   "source": [
    "y = x * sqrt(1 + x**2)\n",
    "yi = integrate(y, x)\n",
    "\n",
    "yi"
   ]
  }
 ],
 "metadata": {
  "kernelspec": {
   "display_name": "Python 3",
   "language": "python",
   "name": "python3"
  },
  "language_info": {
   "codemirror_mode": {
    "name": "ipython",
    "version": 3
   },
   "file_extension": ".py",
   "mimetype": "text/x-python",
   "name": "python",
   "nbconvert_exporter": "python",
   "pygments_lexer": "ipython3",
   "version": "3.11.8"
  }
 },
 "nbformat": 4,
 "nbformat_minor": 2
}
