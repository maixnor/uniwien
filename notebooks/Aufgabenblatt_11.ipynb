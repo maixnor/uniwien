{
 "cells": [
  {
   "cell_type": "markdown",
   "metadata": {},
   "source": [
    "# Aufgabenblatt 11"
   ]
  },
  {
   "cell_type": "markdown",
   "metadata": {},
   "source": [
    "## Mehrdimensionale Analysis – Mehrfachintegrale 1"
   ]
  },
  {
   "cell_type": "markdown",
   "metadata": {},
   "source": [
    "### Aufgabe 1\n",
    "\n",
    "Berechnen Sie den Inhalt folgender beschränkter Menge des\n",
    "$\\mathbb{R}^3$:\n",
    "\n",
    "$$\n",
    "M=\\{(x_1,x_2,x_3)|0 \\leq x_1 \\leq 1, 0 \\leq x_2 \\leq x_1,0\n",
    "\\leq x_3 \\leq x_1x_2\\}\n",
    "$$"
   ]
  },
  {
   "cell_type": "markdown",
   "metadata": {},
   "source": [
    "### Aufgabe 2\n",
    "\n",
    "Berechnen Sie den Inhalt folgender beschränkter Menge des\n",
    "$\\mathbb{R}^3$:\n",
    "\n",
    "$$\n",
    "M=\\{(x_1,x_2,x_3)|0 \\leq x_1 \\leq 1, 0 \\leq x_2 \\leq 1,0\n",
    "\\leq x_3 \\leq \\min{(x_1,x_2)}\\}\n",
    "$$"
   ]
  },
  {
   "cell_type": "markdown",
   "metadata": {},
   "source": [
    "### Aufgabe 3\n",
    "\n",
    "Berechnen Sie den Inhalt folgender beschränkter Menge des\n",
    "$\\mathbb{R}^3$:\n",
    "\n",
    "$$\n",
    "M=\\{(x_1,x_2,x_3)|0 \\leq x_1 \\leq h, |x_2| \\leq ax_1,|x_3| \\leq ax_1\\};a,h\\in \\mathbb{R},a>0,h>0\n",
    "$$"
   ]
  },
  {
   "cell_type": "markdown",
   "metadata": {},
   "source": [
    "### Aufgabe 4\n",
    "\n",
    "Berechnen Sie $\\int_Bf(x)dx$ mit $x=(x_1,\\ldots,x_n) \\in\n",
    "\\mathbb{R}^n$ mit folgender Angabe:\n",
    "\n",
    "$$\n",
    "f(x_1,x_2)=x_1+x_2, B=\\{0 \\leq x_1 \\leq 1, 0 \\leq x_2 \\leq x_1\\}\n",
    "$$"
   ]
  },
  {
   "cell_type": "markdown",
   "metadata": {},
   "source": [
    "### Aufgabe 5\n",
    "\n",
    "Berechnen Sie $\\int_Bf(x)dx$ mit $x=(x_1,\\ldots,x_n) \\in\n",
    "\\mathbb{R}^n$ mit folgender Angabe:\n",
    "\n",
    "$$\n",
    "f(x_1,x_2)=\\frac{1}{x_1}+\\frac{1}{x_2}, B=\\{1 \\leq x_1 \\leq 2, 1 \\leq x_2 \\leq 2\\}\n",
    "$$\n",
    "\n",
    "Plotten Sie $\\int_Bf(x)dx$."
   ]
  },
  {
   "cell_type": "markdown",
   "metadata": {},
   "source": [
    "### Aufgabe 6\n",
    "\n",
    "Berechnen Sie $\\int_Bf(x)dx$ mit $x=(x_1,\\ldots,x_n) \\in\n",
    "\\mathbb{R}^n$ mit folgender Angabe:\n",
    "\n",
    "$$\n",
    "f(x_1,x_2,x_3)=x_1x_2x_3, B=\\{0 \\leq x_1 \\leq 1, x_2 \\geq 0, x_3\n",
    "\\geq 0, 0 \\leq x_2+x_3\\leq 1\\}$$\n",
    "\n",
    "\n",
    "Plotten Sie $B$."
   ]
  },
  {
   "cell_type": "markdown",
   "metadata": {},
   "source": [
    "### Aufgabe 7\n",
    "\n",
    "Berechnen Sie $\\int_Bf(x)dx$ mit $x=(x_1,\\ldots,x_n) \\in\n",
    "\\mathbb{R}^n$ mit folgender Angabe:\n",
    "\n",
    "$$\n",
    "f(x_1,x_2)=e^{-x_1x_2}, B=\\{-2 \\leq x_1 \\leq -1, x_1x_2 \\geq 1\\}\n",
    "$$\n",
    "\n",
    "Plotten Sie $B$."
   ]
  },
  {
   "cell_type": "markdown",
   "metadata": {},
   "source": [
    "### Aufgabe 8\n",
    "\n",
    "Berechnen Sie $\\int_Bf(x)dx$ mit $x=(x_1,\\ldots,x_n) \\in\n",
    "\\mathbb{R}^n$ mit folgender Angabe:\n",
    "\n",
    "$$\n",
    "f(x_1,x_2,x_3)=e^{-x_1-x_2-x_3}, B=\\{0 \\leq x_1, 0 \\leq x_2, 0 \\leq x_3\\}\n",
    "$$"
   ]
  }
 ],
 "metadata": {
  "kernelspec": {
   "display_name": "Python 3 (ipykernel)",
   "language": "python",
   "name": "python3"
  },
  "language_info": {
   "codemirror_mode": {
    "name": "ipython",
    "version": 3
   },
   "file_extension": ".py",
   "mimetype": "text/x-python",
   "name": "python",
   "nbconvert_exporter": "python",
   "pygments_lexer": "ipython3",
   "version": "3.11.8"
  }
 },
 "nbformat": 4,
 "nbformat_minor": 4
}
