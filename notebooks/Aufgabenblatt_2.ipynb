{
 "cells": [
  {
   "cell_type": "markdown",
   "metadata": {},
   "source": [
    "# Aufgabenblatt 2"
   ]
  },
  {
   "cell_type": "markdown",
   "metadata": {},
   "source": [
    "## Kombinatorik"
   ]
  },
  {
   "cell_type": "markdown",
   "metadata": {},
   "source": [
    "### Aufgabe 1"
   ]
  },
  {
   "cell_type": "markdown",
   "metadata": {},
   "source": [
    "Wie viele gleich lange Worte lassen sich aus dem Wort STATISTIK bilden?"
   ]
  },
  {
   "cell_type": "markdown",
   "metadata": {},
   "source": [
    "### Aufgabe 2"
   ]
  },
  {
   "cell_type": "markdown",
   "metadata": {},
   "source": [
    "Einer Studentin werden bei einer Prüfung 12 Fragen vorgelegt. Sie darf davon 4 auswählen. Man berechne die Anzahl der Wahlmöglichkeiten, wenn sie aus den ersten 6 Fragen mindestens drei auswählen muss."
   ]
  },
  {
   "cell_type": "markdown",
   "metadata": {},
   "source": [
    "### Aufgabe 3"
   ]
  },
  {
   "cell_type": "markdown",
   "metadata": {},
   "source": [
    "Bei einem Radrennen mit 10 Startern wird in jeweils 4 Rennen der\n",
    "Sieger ermittelt. Wie viele mögliche Gesamtergebnisse gibt es, wenn\n",
    "nur die Anzahl der gewonnenen Rennen berücksichtigt wird?"
   ]
  },
  {
   "cell_type": "markdown",
   "metadata": {},
   "source": [
    "### Aufgabe 4"
   ]
  },
  {
   "cell_type": "markdown",
   "metadata": {},
   "source": [
    "Aus 5 Ehepaaren werden zufällig 4 Personen ausgewählt. Wie viele unterschiedliche Anordnungen gibt es, wenn sich unter den 4 ausgewählten Personen kein Ehepaar befinden soll?"
   ]
  },
  {
   "cell_type": "markdown",
   "metadata": {},
   "source": [
    "### Aufgabe 5"
   ]
  },
  {
   "cell_type": "markdown",
   "metadata": {},
   "source": [
    "In einer Ebene sind 20 Punkte gegeben, man berechne die Anzahl der Kreise, die sich durch jeweils 3 Punkte der Ebene legen lassen, wenn auf einem der Kreise ausnahmsweise 8 Punkte liegen."
   ]
  },
  {
   "cell_type": "markdown",
   "metadata": {},
   "source": [
    "### Aufgabe 6"
   ]
  },
  {
   "cell_type": "markdown",
   "metadata": {},
   "source": [
    "Man berechne die Anzahl der vierstelligen Zahlen, welche die Ziffern 1 und 3 enthalten, wenn die Zahlen aus unterschiedlichen Ziffern bestehen."
   ]
  },
  {
   "cell_type": "markdown",
   "metadata": {},
   "source": [
    "### Aufgabe 7"
   ]
  },
  {
   "cell_type": "markdown",
   "metadata": {},
   "source": [
    "Ein kleines Unternehmen beschäftigt acht Personen in der Fertigungsabteilung, fünf Personen in der Marketingabteilung und drei Personen in der Buchhaltungsabteilung. Es soll ein Projektteam\n",
    "von sechs Personen gebildet werden, um die Einführung eines neuen Produkts zu diskutieren. Auf wie viele Arten kann das Team zusammengestellt werden, wenn:\n",
    "\n",
    "a) ihm aus jeder Abteilung zwei Personen angehören sollen?  \n",
    "b) ihm wenigstens zwei Personen aus der Fertigungsabteilung angehören sollen?  \n",
    "c) ihm Vertreter aus allen drei Abteilungen angehören sollen?\n"
   ]
  },
  {
   "cell_type": "markdown",
   "metadata": {},
   "source": [
    "### Aufgabe 8"
   ]
  },
  {
   "cell_type": "markdown",
   "metadata": {},
   "source": [
    "An einem Tennisturnier nehmen 12 Spieler teil. Wie viele verschiedene Paarungen sind für die erste Runde möglich?"
   ]
  }
 ],
 "metadata": {
  "kernelspec": {
   "display_name": "R",
   "language": "R",
   "name": "ir"
  },
  "language_info": {
   "codemirror_mode": "r",
   "file_extension": ".r",
   "mimetype": "text/x-r-source",
   "name": "R",
   "pygments_lexer": "r",
   "version": "4.4.1"
  }
 },
 "nbformat": 4,
 "nbformat_minor": 4
}
