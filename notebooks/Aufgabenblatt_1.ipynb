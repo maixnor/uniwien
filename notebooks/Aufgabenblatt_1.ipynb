{
 "cells": [
  {
   "cell_type": "markdown",
   "id": "e6f82c8c-98a0-4ccd-b3ab-174e2f9d477b",
   "metadata": {},
   "source": [
    "# Aufgabenblatt 1"
   ]
  },
  {
   "cell_type": "markdown",
   "id": "2b9ad599-810d-4972-821d-4b5fd6f9040f",
   "metadata": {},
   "source": [
    " 1. Geben Sie drei Möglichkeiten an, den Vektor (1, 4, 7, 1, 4, 7) zu erzeugen."
   ]
  },
  {
   "cell_type": "markdown",
   "id": "ce5f2dbf-e693-4093-aaf8-b70d72eb9a8c",
   "metadata": {},
   "source": [
    "2. Erzeugen Sie einen Vektor namens Groesse mit den Werten (S, M, L) und einen\n",
    "weiteren Vektor namens Anzahl mit den Werten (130,210,170). <br>\n",
    "a) Zeichnen Sie zwei zugehörige Histogramme, einmal mit den aboluten und mit den relativen Häufigkeiten.<br>\n",
    "b) Ersetzen Sie die Labels (S, M, L) durch (34, 38, 42) und machen Sie das gleiche wie in a). <br>\n",
    "c) Berechnen Sie drei statistische Kennwerte mithilfe Python Funktionen. <br>\n",
    "d) Fügen Sie die beiden Variablen Groesse und Anzahl zu einem Data Frame namens Daten\n",
    "zusammen."
   ]
  },
  {
   "cell_type": "markdown",
   "id": "821521a9-bdc2-433b-ac12-a31ce4a540f8",
   "metadata": {},
   "source": [
    "3. Suchen Sie sich ein data frame aus dem Internet aus und lesen Sie diesen hier ein. Printen Sie den head und zwei beliebige Spalten vom data frame. "
   ]
  },
  {
   "cell_type": "markdown",
   "id": "8990bbe7-f2cc-4974-86da-311734277789",
   "metadata": {},
   "source": [
    "4. Simulieren Sie eine genügend große Ziehung N aus den Ziffern 0 bis 9. <br>\n",
    "a) Stellen Sie das Ergebnis in einem passenden Format graphisch dar. <br>\n",
    "b) Berechnen Sie mithilfe einer Simulation die Wahrscheinlichkeit eine Ziffer größer als 6 zu ziehen. <br>\n",
    "c) Das Gesetz der großen Zahlen besagt, dass das arithemtische Mittel der Stichprobe mit großem N zum Mittelwert, welches hier 4.5 beträgt, konvergiert. Überprüfen Sie das mit Ihrer Stichprobe. <br>"
   ]
  },
  {
   "cell_type": "code",
   "execution_count": null,
   "id": "358f5747-b324-428c-bee0-f4d152637dab",
   "metadata": {},
   "outputs": [],
   "source": []
  }
 ],
 "metadata": {
  "kernelspec": {
   "display_name": "Python 3 (ipykernel)",
   "language": "python",
   "name": "python3"
  },
  "language_info": {
   "codemirror_mode": {
    "name": "ipython",
    "version": 3
   },
   "file_extension": ".py",
   "mimetype": "text/x-python",
   "name": "python",
   "nbconvert_exporter": "python",
   "pygments_lexer": "ipython3",
   "version": "3.10.10"
  }
 },
 "nbformat": 4,
 "nbformat_minor": 5
}
