{
 "cells": [
  {
   "cell_type": "markdown",
   "metadata": {},
   "source": [
    "# Aufgabenblatt 6"
   ]
  },
  {
   "cell_type": "markdown",
   "metadata": {},
   "source": [
    "## Erwartungswert und Varianz"
   ]
  },
  {
   "cell_type": "markdown",
   "metadata": {},
   "source": [
    "### Aufgabe 1"
   ]
  },
  {
   "cell_type": "markdown",
   "metadata": {},
   "source": [
    "Bei einer Jahrmarktslotterie kann man auf eine der Zahlen $1,2,\\ldots,6$ setzen. Falls beim Wurf dreier Würfel die gewählte Zahl genau $k$-mal erscheint ($k=1,2,3)$, so darf man seinen Einsatz behalten und erhält zusätzlich das $k$-fache seines Einsatzes. Erscheint die gewählte Zahl nicht, so ist der Einsatz verloren. Man berechne Erwartungswert und Varianz des Gewinns."
   ]
  },
  {
   "cell_type": "markdown",
   "metadata": {},
   "source": [
    "## Erwartungswert\n",
    "\n",
    "Sei $X$ der Gewinn. Dann gilt:\n",
    "$$\n",
    "X = \\begin{cases}\n",
    "0, & \\text{wenn die gewählte Zahl nicht erscheint} \\\\\n",
    "1, & \\text{wenn die gewählte Zahl einmal erscheint} \\\\\n",
    "2, & \\text{wenn die gewählte Zahl zweimal erscheint} \\\\\n",
    "3, & \\text{wenn die gewählte Zahl dreimal erscheint}\n",
    "\\end{cases}\n",
    "$$\n",
    "\n",
    "Die Wahrscheinlichkeiten für die jeweiligen Ereignisse sind:\n",
    "$$\n",
    "P(X = 0) = \\binom{3}{0} \\left(\\frac{1}{6}\\right)^0 \\left(\\frac{5}{6}\\right)^3 = \\left(\\frac{5}{6}\\right)^3\n",
    "$$\n",
    "$$\n",
    "P(X = 1) = \\binom{3}{1} \\left(\\frac{1}{6}\\right)^1 \\left(\\frac{5}{6}\\right)^2 = 3 \\cdot \\frac{1}{6} \\cdot \\left(\\frac{5}{6}\\right)^2\n",
    "$$\n",
    "$$\n",
    "P(X = 2) = \\binom{3}{2} \\left(\\frac{1}{6}\\right)^2 \\left(\\frac{5}{6}\\right)^1 = 3 \\cdot \\left(\\frac{1}{6}\\right)^2 \\cdot \\frac{5}{6}\n",
    "$$\n",
    "$$\n",
    "P(X = 3) = \\binom{3}{3} \\left(\\frac{1}{6}\\right)^3 \\left(\\frac{5}{6}\\right)^0 = \\left(\\frac{1}{6}\\right)^3\n",
    "$$\n",
    "\n",
    "Der Erwartungswert $E(X)$ ist:\n",
    "$$\n",
    "E(X) = 0 \\cdot P(X = 0) + 1 \\cdot P(X = 1) + 2 \\cdot P(X = 2) + 3 \\cdot P(X = 3)\n",
    "$$\n",
    "$$\n",
    "E(X) = 0 \\cdot \\left(\\frac{5}{6}\\right)^3 + 1 \\cdot 3 \\cdot \\frac{1}{6} \\cdot \\left(\\frac{5}{6}\\right)^2 + 2 \\cdot 3 \\cdot \\left(\\frac{1}{6}\\right)^2 \\cdot \\frac{5}{6} + 3 \\cdot \\left(\\frac{1}{6}\\right)^3\n",
    "$$\n",
    "$$\n",
    "E(X) = 3 \\cdot \\frac{1}{6} \\cdot \\left(\\frac{5}{6}\\right)^2 + 6 \\cdot \\left(\\frac{1}{6}\\right)^2 \\cdot \\frac{5}{6} + 3 \\cdot \\left(\\frac{1}{6}\\right)^3\n",
    "$$\n",
    "$$\n",
    "E(X) = 3 \\cdot \\frac{1}{6} \\cdot \\frac{25}{36} + 6 \\cdot \\frac{1}{36} \\cdot \\frac{5}{6} + 3 \\cdot \\frac{1}{216}\n",
    "$$\n",
    "$$\n",
    "E(X) = \\frac{75}{216} + \\frac{30}{216} + \\frac{3}{216}\n",
    "$$\n",
    "$$\n",
    "E(X) = \\frac{108}{216} = \\frac{1}{2}\n",
    "$$\n",
    "\n",
    "## Varianz\n",
    "\n",
    "Die Varianz $Var(X)$ ist:\n",
    "$$\n",
    "Var(X) = E(X^2) - (E(X))^2\n",
    "$$\n",
    "\n",
    "Wir berechnen $E(X^2)$:\n",
    "$$\n",
    "E(X^2) = 0^2 \\cdot P(X = 0) + 1^2 \\cdot P(X = 1) + 2^2 \\cdot P(X = 2) + 3^2 \\cdot P(X = 3)\n",
    "$$\n",
    "$$\n",
    "E(X^2) = 0 \\cdot \\left(\\frac{5}{6}\\right)^3 + 1 \\cdot 3 \\cdot \\frac{1}{6} \\cdot \\left(\\frac{5}{6}\\right)^2 + 4 \\cdot 3 \\cdot \\left(\\frac{1}{6}\\right)^2 \\cdot \\frac{5}{6} + 9 \\cdot \\left(\\frac{1}{6}\\right)^3\n",
    "$$\n",
    "$$\n",
    "E(X^2) = 3 \\cdot \\frac{1}{6} \\cdot \\left(\\frac{5}{6}\\right)^2 + 12 \\cdot \\left(\\frac{1}{6}\\right)^2 \\cdot \\frac{5}{6} + 9 \\cdot \\left(\\frac{1}{6}\\right)^3\n",
    "$$\n",
    "$$\n",
    "E(X^2) = 3 \\cdot \\frac{1}{6} \\cdot \\frac{25}{36} + 12 \\cdot \\frac{1}{36} \\cdot \\frac{5}{6} + 9 \\cdot \\frac{1}{216}\n",
    "$$\n",
    "$$\n",
    "E(X^2) = \\frac{75}{216} + \\frac{60}{216} + \\frac{9}{216}\n",
    "$$\n",
    "$$\n",
    "E(X^2) = \\frac{144}{216} = \\frac{2}{3}\n",
    "$$\n",
    "\n",
    "Die Varianz ist:\n",
    "$$\n",
    "Var(X) = \\frac{2}{3} - \\left(\\frac{1}{2}\\right)^2\n",
    "$$\n",
    "$$\n",
    "Var(X) = \\frac{2}{3} - \\frac{1}{4}\n",
    "$$\n",
    "$$\n",
    "Var(X) = \\frac{8}{12} - \\frac{3}{12}\n",
    "$$\n",
    "$$\n",
    "Var(X) = \\frac{5}{12}\n",
    "$$\n"
   ]
  },
  {
   "cell_type": "code",
   "execution_count": 3,
   "metadata": {},
   "outputs": [
    {
     "name": "stdout",
     "output_type": "stream",
     "text": [
      "Erwartungswert: 0.6666666666666667\n",
      "Varianz: 0.2222222222222222\n"
     ]
    }
   ],
   "source": [
    "import numpy as np\n",
    "from scipy.stats import binom\n",
    "\n",
    "# Anzahl der Würfe\n",
    "n = 3\n",
    "# Wahrscheinlichkeit, die gewählte Zahl zu treffen\n",
    "p = 1/6\n",
    "\n",
    "# Erwartungswert berechnen\n",
    "erw_expectation = sum(k * binom.pmf(k, n, p) * k for k in range(4))\n",
    "\n",
    "# Varianz berechnen\n",
    "erw_variance = sum((k * 1)**2 * binom.pmf(k, n, p) for k in range(4)) - erw_expectation**2\n",
    "\n",
    "print(f\"Erwartungswert: {erw_expectation}\")\n",
    "print(f\"Varianz: {erw_variance}\")"
   ]
  },
  {
   "cell_type": "markdown",
   "metadata": {},
   "source": [
    "### Aufgabe 2\n",
    "*(nur manuell)*"
   ]
  },
  {
   "cell_type": "markdown",
   "metadata": {},
   "source": [
    "Sei $X$ eine Zufallsvariable mit einer stetigen Verteilungsfunktion $F$ der Form\n",
    "\n",
    "$$F(x)=\\left\\{\n",
    "         \\begin{array}{ll}\n",
    "           0 & \\textrm{für } x<-2\\\\\n",
    "           \\frac{1}{4}+\\frac{1}{8}x & \\textrm{für } -2 \\leq x \\leq 0\\\\\n",
    "           c_1+c_2(1-e^{-x}) & \\textrm{für } 0 < x\\\\\n",
    "         \\end{array}\n",
    "       \\right.\n",
    "$$\n",
    "\n",
    "a) Man bestimme die Konstanten $c_1$ und $c_2$.  \n",
    "b) Man berechne den Erwartungswert $E(X)$.  \n",
    "c) Wie groß ist die Wahrscheinlichkeit dafür, dass $X$ einen Wert größer $-1$ annimmt?"
   ]
  },
  {
   "cell_type": "markdown",
   "metadata": {},
   "source": []
  },
  {
   "cell_type": "markdown",
   "metadata": {},
   "source": [
    "### Aufgabe 3"
   ]
  },
  {
   "cell_type": "markdown",
   "metadata": {},
   "source": [
    "Die Verteilung der Zufallsvariablen $X$ sei gegeben durch\n",
    "\n",
    "$$P(X=\\sqrt{i})=ci^{-2}, i \\in \\mathbb{N}, \\textrm{mit } c=1/\\sum_{i=1}^\\infty i^{-2}=\\frac{6}{\\pi^2}$$\n",
    "\n",
    "Man zeige, dass $X$ einen Erwartungswert, aber keine Varianz besitzt. Wie groß ist $E(X)$?"
   ]
  },
  {
   "cell_type": "code",
   "execution_count": 2,
   "metadata": {},
   "outputs": [
    {
     "name": "stdout",
     "output_type": "stream",
     "text": [
      "Erwartungswert von X: 1.584288915707011\n"
     ]
    }
   ],
   "source": [
    "import numpy as np\n",
    "\n",
    "# Konstante c\n",
    "c = 6 / np.pi**2\n",
    "\n",
    "# Berechnung des Erwartungswerts E(X) = c * sum_{i=1}^∞ i^{-3/2}\n",
    "i_max = 100000\n",
    "i = np.arange(1, i_max + 1)\n",
    "E_X = c * np.sum(1 / i**1.5)\n",
    "\n",
    "print(f\"Erwartungswert von X: {E_X}\")"
   ]
  },
  {
   "cell_type": "markdown",
   "metadata": {},
   "source": [
    "### Aufgabe 4\n",
    "*(nur manuell)*"
   ]
  },
  {
   "cell_type": "markdown",
   "metadata": {},
   "source": [
    "Sei $Y$ eine Zufallsvariable mit der Dichte\n",
    "\n",
    "$$f(x)=\\frac{1}{\\pi}\\cdot\\frac{1}{1+x^2}, x \\in \\mathbb{R}$$\n",
    "\n",
    "($Y$ heißt Cauchy-verteilt.)\n",
    "Besitzt $Y$ einen Erwartungswert?\n"
   ]
  },
  {
   "cell_type": "markdown",
   "metadata": {},
   "source": [
    "### Aufgabe 5"
   ]
  },
  {
   "cell_type": "markdown",
   "metadata": {},
   "source": [
    "Es seien $X$ und bzw. $K$ Zufallsvariablen, mit denen Gesprächsdauer bzw. Kosten eines Telefonanrufs beschrieben werden können. $X$ sei stetig verteilt mit der Dichte\n",
    "\n",
    "$$f(x)=\\left\\{\n",
    "         \\begin{array}{ll}\n",
    "           4xe^{-2x} & x\\geq 0\\\\\n",
    "           0 &  x < 0\\\\\n",
    "         \\end{array}\n",
    "       \\right.\n",
    "$$\n",
    "\n",
    "Die Kosten eines Anrufes der Länge $y$ betragen\n",
    "\n",
    "$$k(y)=\\left\\{\n",
    "         \\begin{array}{ll}\n",
    "           1 & y\\leq 4\\\\\n",
    "           \\frac{1}{4}y &  y > 4\\\\\n",
    "         \\end{array}\n",
    "       \\right.\n",
    "$$\n",
    "\n",
    "Man ermittle den Erwartungswert der Zufallsvariablen $K$."
   ]
  },
  {
   "cell_type": "code",
   "execution_count": 1,
   "metadata": {},
   "outputs": [
    {
     "name": "stdout",
     "output_type": "stream",
     "text": [
      "Erwartungswert von K: 0.3750\n"
     ]
    }
   ],
   "source": [
    "import numpy as np\n",
    "from scipy.stats import gamma\n",
    "\n",
    "# Parameter der Gamma-Verteilung\n",
    "k = 2\n",
    "theta = 0.5\n",
    "\n",
    "# P(X <= 4)\n",
    "P_leq_4 = gamma.cdf(4, a=k, scale=theta)\n",
    "\n",
    "# P(X > 4)\n",
    "P_gt_4 = 1 - P_leq_4\n",
    "\n",
    "# Erwartungswert von X\n",
    "E_X = gamma.mean(a=k, scale=theta)\n",
    "\n",
    "# Erwartungswert von X | X > 4\n",
    "E_X_given_gt_4 = (gamma.mean(a=k+1, scale=theta) - 4 * P_leq_4) / P_gt_4\n",
    "\n",
    "# Erwartungswert von K\n",
    "E_K = 1 * P_leq_4 + (1/4) * E_X_given_gt_4 * P_gt_4\n",
    "\n",
    "print(f\"Erwartungswert von K: {E_K:.4f}\")"
   ]
  },
  {
   "cell_type": "markdown",
   "metadata": {},
   "source": [
    "### Aufgabe 6\n",
    "*(nur manuell)*"
   ]
  },
  {
   "cell_type": "markdown",
   "metadata": {},
   "source": [
    "In einer Urne befindet sich eine gewisse Anzahl von Kugeln, von denen jede mit einer der Zahlen $1,\\ldots,4$ beschriftet ist. Spieler 1 zieht nun zufällig (Laplace-Annahme) eine Kugel aus der Urne. Spieler 2 soll sich über die Zahl auf der gezogenen Kugel dadurch Klarheit verschaffen, dass er Fragen stellt, die von Spieler 1 mit ja oder nein beantwortet werden. Er hat sich dazu zwei Fragestrategien ausgedacht:\n",
    "\n",
    "*Strategie 1:* Spieler 2 fragt zunächst, ob 4 die gezogene Zahl sei. Erhält er \"Nein\" als Antwort, so fragt er, ob 3 gezogen wurde. Wird auch diese Frage verneint, so verschafft er sich durch die Frage, ob 2 die gezogene Zahl sei, vollständige Klarheit.\n",
    "\n",
    "*Strategie 2:* Spieler 2 fragt zuerst, ob eine der Zahlen 3 oder 4 gezogen wurde. Wird diese Frage bejaht (verneint), so verschafft er sich durch die Frage, ob 4(2) die gezogene Zahl sei, vollständige Klarheit.\n",
    "\n",
    "Die Zufallsvariable $X$ beschreibe die Anzahl der Fragen, die Spieler 2 unter Anwendung der Strategie 1 stellen muss, um die gezogene Zahl zu erfragen. Man berechne den Erwartungswert $E(X)$, falls die Zahl $k$\n",
    "\n",
    "a) genau $(5-k)$-mal bzw.  \n",
    "b) genau einmal bzw.  \n",
    "c) genau $k$-mal\n",
    "\n",
    "als Zahl einer Kugel auftritt, $k=1,\\ldots,4$. In welchem der drei Fälle ist Strategie 1 der Strategie 2 vorzuziehen?"
   ]
  },
  {
   "cell_type": "markdown",
   "metadata": {},
   "source": [
    "### Aufgabe 7"
   ]
  },
  {
   "cell_type": "markdown",
   "metadata": {},
   "source": [
    "In einer Getränkefabrik werden 1-Liter-Flaschen eines Erfrischungsgetränkes maschinell abgefüllt. Die Erfahrung zeigt, dass im Mittel 4\\% aller abgefüllten Flaschen weniger als 0.97 l und 3\\% aller abgefüllten Flaschen mehr als 1.03 l des betreffenden Getränkes enthalten. Die zufällig in eine Flasche eingefüllte Getränkemenge (in Litern) wird als Wert der Zufallsvariablen $X$ angesehen. Man berechne Erwartungswert und Varianz von $X$, wenn $X$ eine $N(\\mu,\\sigma^2)$-Verteilung besitzt und im Einklang mit den angegebenen Erfahrungswerten $P(X<0.97)=0.04$ und $P(X>1.03)=0.03$ gilt.\n",
    "\n",
    "Plotten Sie $P(0.97<X<1.03)$ als Fläche unter der Dichtefunktion."
   ]
  },
  {
   "cell_type": "markdown",
   "metadata": {},
   "source": [
    "### Aufgabe 8"
   ]
  },
  {
   "cell_type": "markdown",
   "metadata": {},
   "source": [
    "Eine Pumpe sei ununterbrochen in Betrieb, bis sie ausfalle. Die Zufallsvariable $X$, die die zufällige Dauer der Funktionsfähigkeit der Pumpe beschreibt, möge stetig verteilt sein mit einer Dichte der Form\n",
    "\n",
    "$$f(x)=\\left\\{\n",
    "         \\begin{array}{ll}\n",
    "           \\lambda^2xe^{-\\lambda x} & x> 0\\\\\n",
    "           0 &  x \\leq 0\\\\\n",
    "         \\end{array}\n",
    "       \\right.\n",
    "$$\n",
    "\n",
    "Weiters sei bekannt, dass Pumpen dieser Art im Mittel 100 Stunden laufen, bis sie ausfallen.\n",
    "\n",
    "a) Wie ist der Parameter $\\lambda$ zu wählen, damit der Erwartungswert von $X$ gleich der mittleren Laufzeit dieser Pumpen ist?  \n",
    "b) Man bestimme folgende Wahrscheinlichkeiten:\n",
    "\n",
    "$$P(X\\leq100),P(X\\leq200|X\\geq100), P(X\\leq300|X\\geq200).$$\n",
    "\n",
    "c) Aus Sicherheitsgründen tauscht man eine Pumpe, sobald sie 100 Stunden lang ununterbrochen gelaufen ist, gegen eine neue gleichartige aus. Man bestimme die Verteilungsfunktion der Zufallsvariablen $Y$, die die Einsatzzeit einer Pumpe beschreibt. (Die Einsatzzeit ist die Zeit, die vergeht, bis die Pumpe entweder ausfällt oder aber ausgewechselt wird.)"
   ]
  }
 ],
 "metadata": {
  "kernelspec": {
   "display_name": "Python 3",
   "language": "python",
   "name": "python3"
  },
  "language_info": {
   "codemirror_mode": {
    "name": "ipython",
    "version": 3
   },
   "file_extension": ".py",
   "mimetype": "text/x-python",
   "name": "python",
   "nbconvert_exporter": "python",
   "pygments_lexer": "ipython3",
   "version": "3.12.6"
  }
 },
 "nbformat": 4,
 "nbformat_minor": 4
}
