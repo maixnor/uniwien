{
 "cells": [
  {
   "cell_type": "markdown",
   "metadata": {},
   "source": [
    "# Aufgabenblatt 4"
   ]
  },
  {
   "cell_type": "markdown",
   "metadata": {},
   "source": [
    "## Bedingte Wahrscheinlichkeiten und Unabhängigkeit"
   ]
  },
  {
   "cell_type": "markdown",
   "metadata": {},
   "source": [
    "### GPT\n",
    "GPT wurde zum Formattieren und zum Auschreiben von Latex Formeln verwendet. Die Loesungen stammen von mir selbst."
   ]
  },
  {
   "cell_type": "markdown",
   "metadata": {},
   "source": [
    "### Aufgabe 1\n",
    "*(nur manuell)*"
   ]
  },
  {
   "cell_type": "markdown",
   "metadata": {},
   "source": [
    "Eine Münze mit den Seiten \"Wappen\" und \"Zahl\" werde dreimal geworfen. Man untersuche, ob unter der Laplace-Annahme die Ereignisse A, B, C\n",
    "\n",
    "a) paarweise unabhängig  \n",
    "b) vollständig unabhängig\n",
    "\n",
    "sind. Dabei seien\n",
    "\n",
    "A das Ereignis \"gleiche Seiten bei den beiden letzten Würfen\"  \n",
    "B das Ereignis \"gleiche Seiten beim 1. und 3. Wurf\" und  \n",
    "C das Ereignis \"gleiche Seiten bei den beiden ersten Würfen\""
   ]
  },
  {
   "cell_type": "markdown",
   "metadata": {},
   "source": [
    "1. Alle möglichen Ergebnisse beim dreifachen Münzwurf (mit Laplace-Annahme) sind: \\{WWW, WWZ, WZW, WZZ, ZWW, ZWZ, ZZW, ZZZ\\}.\n",
    "2. Jedes dieser Ergebnisse hat die Wahrscheinlichkeit $\\frac{1}{8}$.\n",
    "\n",
    "3. Definition der Ereignisse:\n",
    "    - $A$: Die letzten beiden Würfe sind gleich: \\{WWW, WWZ, ZZW, ZZZ\\}.\n",
    "    - $B$: Der erste und dritte Wurf sind gleich: \\{WWW, WZZ, ZWW, ZZZ\\}.\n",
    "    - $C$: Die ersten beiden Würfe sind gleich: \\{WWW, WWZ, ZZW, ZZZ\\}.\n",
    "\n",
    "4. Wahrscheinlichkeiten der einzelnen Ereignisse:\n",
    "    - $P(A) = \\frac{4}{8} = 0.5$.\n",
    "    - $P(B) = \\frac{4}{8} = 0.5$.\n",
    "    - $P(C) = \\frac{4}{8} = 0.5$.\n",
    "\n",
    "5. Paarweise Unabhängigkeit:\n",
    "    - $P(A \\cap B) = P(\\{WWW, ZZZ\\}) = \\frac{2}{8} = 0.25$, und $P(A) \\cdot P(B) = 0.5 \\cdot 0.5 = 0.25 \\Rightarrow A$ und $B$ sind paarweise unabhängig.\n",
    "    - $P(A \\cap C) = P(\\{WWW, ZZZ\\}) = 0.25$, und $P(A) \\cdot P(C) = 0.25 \\Rightarrow A$ und $C$ sind paarweise unabhängig.\n",
    "    - $P(B \\cap C) = P(\\{WWW, ZZZ\\}) = 0.25$, und $P(B) \\cdot P(C) = 0.25 \\Rightarrow B$ und $C$ sind paarweise unabhängig.\n",
    "\n",
    "6. Vollständige Unabhängigkeit:\n",
    "    - Berechne $P(A \\cap B \\cap C)$:\n",
    "      $$\n",
    "      P(A \\cap B \\cap C) = P(\\{WWW, ZZZ\\}) = \\frac{2}{8} = 0.25.\n",
    "      $$\n",
    "    - Vergleiche mit $P(A) \\cdot P(B) \\cdot P(C)$:\n",
    "      $$\n",
    "      P(A) \\cdot P(B) \\cdot P(C) = 0.5 \\cdot 0.5 \\cdot 0.5 = 0.125 \\neq 0.25.\n",
    "      $$\n",
    "\n",
    "7. Ergebnis:\n",
    "    - Die Ereignisse $A$, $B$, und $C$ sind paarweise unabhängig, aber nicht vollständig unabhängig, da $P(A \\cap B \\cap C) \\neq P(A) \\cdot P(B) \\cdot P(C)$.\n"
   ]
  },
  {
   "cell_type": "markdown",
   "metadata": {},
   "source": [
    "### Aufgabe 2"
   ]
  },
  {
   "cell_type": "markdown",
   "metadata": {},
   "source": [
    "Eine Warenlieferung enthalte 5\\% Ausschuss.\n",
    "\n",
    "a) Wie groß ist die Wahrscheinlichkeit dafür, dass sich unter 10 zufällig mit Zurücklegen herausgegriffenen Stücken mindestens ein schlechtes befindet?  \n",
    "b) Der Warenumfang der Warenlieferung sei $n$. Wie groß ist im Falle $n$=20, $n$=100 bzw. $n$=1000 die Wahrscheinlichkeit dafür, dass sich unter 10 zufällig ohne Zurücklegen herausgegriffenen Stücken mindestens ein schlechtes befindet?\n",
    "\n",
    "Man berechne diese Wahrscheinlichkeiten unter geeigneten Annahmen und vergleiche die in Abhängigkeit von $n$ berechneten Werte beim Ziehen ohne Zurücklegen (Teil b)) mit dem Ergebnis beim Herausgreifen mit Zurücklegen (Teil a)).\n"
   ]
  },
  {
   "cell_type": "markdown",
   "metadata": {},
   "source": [
    "## a\n",
    "\n",
    "1. defekte: $p = 0.05$.\n",
    "2. nicht defekt: $q = 1 - p = 0.95$.\n",
    "3. alle 10 nicht defekt: $P(\\text{kein defektes Stück}) = q^{10} = 0.95^{10}$.\n",
    "4. mind. 1 defekt:\n",
    "   $$\n",
    "   P(\\text{mindestens ein defektes Stück}) = 1 - P(\\text{kein defektes Stück}) = 1 - 0.95^{10}.\n",
    "   $$\n",
    "5. Ergebnis:\n",
    "   $$\n",
    "   P(\\text{mindestens ein defektes Stück}) \\approx 0.4013.\n",
    "   $$\n",
    "\n",
    "## b\n",
    "\n",
    "1. Hypergeometrische Verteilung\n",
    "2. $n = 20$:\n",
    "   $$\n",
    "   P(\\text{kein defektes Stück}) = \\frac{{\\binom{0.95n}{10}}}{{\\binom{n}{10}}}\n",
    "   $$\n",
    "   mit $n = 20$, $n = 100$, und $n = 1000$ berechnen und die Ergebnisse vergleichen.\n",
    "3. Ergebnis:\n",
    "   - Für $n = 20$: $P(\\text{mindestens ein defektes Stück}) \\approx 0.4013$.\n",
    "   - Für $n = 100$: Ähnlich, da große Annäherung an Ziehen mit Zurücklegen.\n",
    "   - Für $n = 1000$: Noch näher an Ziehen mit Zurücklegen.\n"
   ]
  },
  {
   "cell_type": "code",
   "execution_count": 1,
   "metadata": {},
   "outputs": [
    {
     "ename": "ModuleNotFoundError",
     "evalue": "No module named 'scipy'",
     "output_type": "error",
     "traceback": [
      "\u001b[0;31m---------------------------------------------------------------------------\u001b[0m",
      "\u001b[0;31mModuleNotFoundError\u001b[0m                       Traceback (most recent call last)",
      "\u001b[1;32m/home/maixnor/repo/uniwien/notebooks/stat/Aufgabenblatt_4.ipynb Cell 9\u001b[0m line \u001b[0;36m1\n\u001b[0;32m----> <a href='vscode-notebook-cell:/home/maixnor/repo/uniwien/notebooks/stat/Aufgabenblatt_4.ipynb#X30sZmlsZQ%3D%3D?line=0'>1</a>\u001b[0m \u001b[39mfrom\u001b[39;00m \u001b[39mscipy\u001b[39;00m\u001b[39m.\u001b[39;00m\u001b[39mstats\u001b[39;00m \u001b[39mimport\u001b[39;00m binom\n\u001b[1;32m      <a href='vscode-notebook-cell:/home/maixnor/repo/uniwien/notebooks/stat/Aufgabenblatt_4.ipynb#X30sZmlsZQ%3D%3D?line=2'>3</a>\u001b[0m \u001b[39m# Teil a (mit Zurücklegen)\u001b[39;00m\n\u001b[1;32m      <a href='vscode-notebook-cell:/home/maixnor/repo/uniwien/notebooks/stat/Aufgabenblatt_4.ipynb#X30sZmlsZQ%3D%3D?line=3'>4</a>\u001b[0m p_defekt \u001b[39m=\u001b[39m \u001b[39m0.05\u001b[39m\n",
      "\u001b[0;31mModuleNotFoundError\u001b[0m: No module named 'scipy'"
     ]
    }
   ],
   "source": [
    "from scipy.stats import binom\n",
    "\n",
    "# Teil a (mit Zurücklegen)\n",
    "p_defekt = 0.05\n",
    "n_ziehen = 10\n",
    "wahrscheinlichkeit_mindestens_ein_defekt = 1 - binom.pmf(0, n_ziehen, p_defekt)\n",
    "wahrscheinlichkeit_mindestens_ein_defekt\n",
    "\n",
    "# Teil b (ohne Zurücklegen) mit Annäherungen\n",
    "from scipy.stats import hypergeom\n",
    "\n",
    "n = [20, 100, 1000]\n",
    "N = 100  # Gesamtanzahl der Waren in Lieferung\n",
    "defekte_stuecke = int(N * p_defekt)\n",
    "\n",
    "wahrscheinlichkeiten_ohne_zuruecklegen = [\n",
    "    1 - hypergeom.pmf(0, N, defekte_stuecke, n_i) for n_i in n\n",
    "]\n",
    "wahrscheinlichkeiten_ohne_zuruecklegen\n"
   ]
  },
  {
   "cell_type": "markdown",
   "metadata": {},
   "source": [
    "### Aufgabe 3"
   ]
  },
  {
   "cell_type": "markdown",
   "metadata": {},
   "source": [
    "Nach dem Picknick vermisst die Familie ihren Hund. Es gibt drei Möglichkeiten:\n",
    "\n",
    "A: Er ist heim gelaufen und erwartet die Familie vor der Haustür.  \n",
    "B: Er bearbeitet noch einen großen Knochen auf dem Picknick-Platz.  \n",
    "C: Er streunt im Wald.\n",
    "\n",
    "Aufgrund der Gewohnheiten des Hundes kennt man die Wahrscheinlichkeiten für das Eintreten der Ereignisse $A$, $B$ und $C$:\n",
    "\n",
    "$$P(A)=\\frac{1}{4},P(B)=\\frac{1}{2},P(C)=\\frac{1}{4}$$\n",
    "\n",
    "Je ein Kind wird zurück zum Picknick-Platz und an den Waldrand geschickt. Wenn der Hund an der ersten Stelle ist, findet man ihn mit 90\\%-iger Wahrscheinlichkeit, streunt er aber im Wald, so beträgt die Wahrscheinlichkeit nur noch 50\\%.\n",
    "\n",
    "a) Mit welcher Wahrscheinlichkeit wird eines der Kinder den Hund finden?  \n",
    "b) Wie groß ist die (bedingte) Wahrscheinlichkeit dafür, ihn bei der Rückkehr vor der Haustür anzutreffen, falls die Kinder den Hund nicht finden.\n"
   ]
  },
  {
   "cell_type": "markdown",
   "metadata": {},
   "source": [
    "## a\n",
    "\n",
    "1. Gegeben: $P(A) = \\frac{1}{4}$, $P(B) = \\frac{1}{2}$, $P(C) = \\frac{1}{4}$.\n",
    "2. $B$ (Picknick): $P(F|B) = 0.9$.\n",
    "3. $C$ (Wald): $P(F|C) = 0.5$.\n",
    "4. Gesamtwahrscheinlichkeit:\n",
    "   $$\n",
    "   P(F) = P(F|A) \\cdot P(A) + P(F|B) \\cdot P(B) + P(F|C) \\cdot P(C)\n",
    "   $$\n",
    "   wobei $P(F|A) = 0$ (wenn er zu Hause ist).\n",
    "5. Einsetzen ergibt:\n",
    "   $$\n",
    "   P(F) = 0 \\cdot \\frac{1}{4} + 0.9 \\cdot \\frac{1}{2} + 0.5 \\cdot \\frac{1}{4} = 0.4.\n",
    "   $$\n",
    "\n",
    "## b\n",
    "\n",
    "1. Gegeben: $P(F^c|A) = 1$, $P(F^c|B) = 0.1$, $P(F^c|C) = 0.5$.\n",
    "2. Satz von Bayes:\n",
    "   $$\n",
    "   P(A|F^c) = \\frac{P(F^c|A) \\cdot P(A)}{P(F^c)}\n",
    "   $$\n",
    "3. Berechne $P(F^c)$:\n",
    "   $$\n",
    "   P(F^c) = P(F^c|A) \\cdot P(A) + P(F^c|B) \\cdot P(B) + P(F^c|C) \\cdot P(C)\n",
    "   $$\n",
    "4. Einsetzen ergibt $P(A|F^c)$.\n"
   ]
  },
  {
   "cell_type": "code",
   "execution_count": null,
   "metadata": {},
   "outputs": [],
   "source": [
    "# Wahrscheinlichkeiten\n",
    "P_A = 1/4\n",
    "P_B = 1/2\n",
    "P_C = 1/4\n",
    "P_F_given_B = 0.9\n",
    "P_F_given_C = 0.5\n",
    "\n",
    "# a) Wahrscheinlichkeit, Hund zu finden\n",
    "P_F = P_A * 0 + P_B * P_F_given_B + P_C * P_F_given_C\n",
    "P_F\n",
    "\n",
    "# b) Bedingte Wahrscheinlichkeit, dass er zu Hause ist, wenn Kinder ihn nicht finden\n",
    "P_Fc_given_A = 1\n",
    "P_Fc_given_B = 1 - P_F_given_B\n",
    "P_Fc_given_C = 1 - P_F_given_C\n",
    "\n",
    "P_Fc = P_A * P_Fc_given_A + P_B * P_Fc_given_B + P_C * P_Fc_given_C\n",
    "P_A_given_Fc = (P_Fc_given_A * P_A) / P_Fc\n",
    "P_A_given_Fc"
   ]
  },
  {
   "cell_type": "markdown",
   "metadata": {},
   "source": [
    "### Aufgabe 4"
   ]
  },
  {
   "cell_type": "markdown",
   "metadata": {},
   "source": [
    "Ergibt sich bei einer Tbc-Röntgenuntersuchung ein positiver Befund, so stellt sich für den Betroffenen die Frage nach der Chance, trotzdem gesund zu sein. Man benutze den Begriff der bedingten Wahrscheinlichkeit, um unter folgenden drei Modellannahmen eine Antwort zu geben:\n",
    "\n",
    "(i) 0.1\\% der Bevölkerung haben Tbc.  \n",
    "(ii) Bei Tbc-Trägern liefert die Untersuchung in 94\\% aller Fälle einen positiven Befund, d.h. ein richtiges Ergebnis.  \n",
    "(iii) Bei gesunden Personen liefert die Untersuchung in 1\\% aller Fälle einen positiven Befund, d.h. ein falsches Ergebnis (falsch-positiv).\n"
   ]
  },
  {
   "cell_type": "markdown",
   "metadata": {},
   "source": [
    "1. Gegeben: $P(T) = 0.001$, $P(+|T) = 0.94$, $P(+|\\neg T) = 0.01$.\n",
    "2. bedingte Wahrscheinlichkeit, gesund zu sein, trotz positivem Befund:\n",
    "   $$\n",
    "   P(\\neg T|+) = \\frac{P(+|\\neg T) \\cdot P(\\neg T)}{P(+)}\n",
    "   $$\n",
    "3. Berechne $P(+)$:\n",
    "   $$\n",
    "   P(+) = P(+|T) \\cdot P(T) + P(+|\\neg T) \\cdot P(\\neg T)\n",
    "   $$\n",
    "4. Einsetzen.\n"
   ]
  },
  {
   "cell_type": "code",
   "execution_count": null,
   "metadata": {},
   "outputs": [],
   "source": [
    "P_T = 0.001\n",
    "P_not_T = 1 - P_T\n",
    "P_pos_given_T = 0.94\n",
    "P_pos_given_not_T = 0.01\n",
    "\n",
    "# Berechnung von P(+)\n",
    "P_pos = P_pos_given_T * P_T + P_pos_given_not_T * P_not_T\n",
    "\n",
    "# Berechnung von P(not T | +)\n",
    "P_not_T_given_pos = (P_pos_given_not_T * P_not_T) / P_pos\n",
    "P_not_T_given_pos\n"
   ]
  },
  {
   "cell_type": "markdown",
   "metadata": {},
   "source": [
    "### Aufgabe 5"
   ]
  },
  {
   "cell_type": "markdown",
   "metadata": {},
   "source": [
    "Eine Nachrichtenquelle sendet die Signale $a_1,a_2,a_3$ mit den positiven Wahrscheinlichkeiten $p_1,p_2,p_3$. Nach Übertragung durch einen gestörten Kanal wird vom Empfänger eines der Signale $b_1,b_2,b_3$ empfangen. Für $i,j=1,2,3$ sei $p_{ij}$ die (bedingte) Wahrscheinlichkeit dafür, dass $b_j$ empfangen wird, falls $a_i$ gesendet wird. Sei $(p_1,p_2,p_3)=(0.6,0.3,0.1)$ und\n",
    "\n",
    "$$(p_{ij})_{i,j=1,2,3}=\\left(\n",
    "    \\begin{array}{ccc}\n",
    "      0.9 & 0.1 & 0.0 \\\\\n",
    "      0.2 & 0.5 & 0.3 \\\\\n",
    "      0.0 & 0.4 & 0.6 \\\\\n",
    "    \\end{array}\n",
    "  \\right)$$"
   ]
  },
  {
   "cell_type": "markdown",
   "metadata": {},
   "source": [
    "a) Für $j=1,2,3$ berechne man die Wahrscheinlichkeit $q_j$ dafür, dass bei einer Übertragung das Signal $b_j$ empfangen wird.  \n",
    "b) Für $j,k=1,2,3$ berechne man die Wahrscheinlichkeit $r_{jk}$ dafür, dass das Signal $a_k$ gesendet wird, wenn $b_j$ empfangen wird."
   ]
  },
  {
   "cell_type": "markdown",
   "metadata": {},
   "source": [
    "## a\n",
    "\n",
    "1. Gegeben: $p_1 = 0.6$, $p_2 = 0.3$, $p_3 = 0.1$.\n",
    "2. Bedingte Wahrscheinlichkeiten: $p_{ij}$.\n",
    "3. Wahrscheinlichkeit $q_j$:\n",
    "    $$\n",
    "    q_j = \\sum_{i=1}^{3} p_i \\cdot p_{ij}\n",
    "    $$\n",
    "4. Berechnung:\n",
    "    - $q_1 = p_1 \\cdot p_{11} + p_2 \\cdot p_{21} + p_3 \\cdot p_{31} = 0.6 \\cdot 0.9 + 0.3 \\cdot 0.2 + 0.1 \\cdot 0 = 0.6$.\n",
    "    - $q_2 = p_1 \\cdot p_{12} + p_2 \\cdot p_{22} + p_3 \\cdot p_{32} = 0.6 \\cdot 0.1 + 0.3 \\cdot 0.5 + 0.1 \\cdot 0.4 = 0.23$.\n",
    "    - $q_3 = p_1 \\cdot p_{13} + p_2 \\cdot p_{23} + p_3 \\cdot p_{33} = 0.6 \\cdot 0 + 0.3 \\cdot 0.3 + 0.1 \\cdot 0.6 = 0.17$.\n",
    "\n",
    "## b\n",
    "\n",
    "1. Gegeben: $p_{ij}$, $p_i$.\n",
    "2. Bedingte Wahrscheinlichkeit $r_{jk}$:\n",
    "    $$\n",
    "    r_{jk} = \\frac{p_k \\cdot p_{kj}}{q_j}\n",
    "    $$\n",
    "3. Berechnung:\n",
    "    - $r_{11} = \\frac{p_1 \\cdot p_{11}}{q_1} = \\frac{0.6 \\cdot 0.9}{0.6} = 0.9$.\n",
    "    - $r_{12} = \\frac{p_2 \\cdot p_{21}}{q_1} = \\frac{0.3 \\cdot 0.2}{0.6} = 0.1$.\n",
    "    - $r_{13} = \\frac{p_3 \\cdot p_{31}}{q_1} = \\frac{0.1 \\cdot 0}{0.6} = 0$.\n",
    "    - $r_{21} = \\frac{p_1 \\cdot p_{12}}{q_2} = \\frac{0.6 \\cdot 0.1}{0.23} \\approx 0.26$.\n",
    "    - $r_{22} = \\frac{p_2 \\cdot p_{22}}{q_2} = \\frac{0.3 \\cdot 0.5}{0.23} \\approx 0.65$.\n",
    "    - $r_{23} = \\frac{p_3 \\cdot p_{32}}{q_2} = \\frac{0.1 \\cdot 0.4}{0.23} \\approx 0.17$.\n",
    "    - $r_{31} = \\frac{p_1 \\cdot p_{13}}{q_3} = \\frac{0.6 \\cdot 0}{0.17} = 0$.\n",
    "    - $r_{32} = \\frac{p_2 \\cdot p_{23}}{q_3} = \\frac{0.3 \\cdot 0.3}{0.17} \\approx 0.53$.\n",
    "    - $r_{33} = \\frac{p_3 \\cdot p_{33}}{q_3} = \\frac{0.1 \\cdot 0.6}{0.17} \\approx 0.35$."
   ]
  },
  {
   "cell_type": "code",
   "execution_count": null,
   "metadata": {},
   "outputs": [],
   "source": [
    "import numpy as np\n",
    "\n",
    "# Gegebene Wahrscheinlichkeiten\n",
    "p = np.array([0.6, 0.3, 0.1])\n",
    "p_ij = np.array([\n",
    "    [0.9, 0.1, 0.0],\n",
    "    [0.2, 0.5, 0.3],\n",
    "    [0.0, 0.4, 0.6]\n",
    "])\n",
    "\n",
    "# a) Berechnung der Wahrscheinlichkeiten q_j\n",
    "q = np.dot(p, p_ij)\n",
    "print(\"Wahrscheinlichkeiten q_j:\", q)\n",
    "\n",
    "# b) Berechnung der Wahrscheinlichkeiten r_jk\n",
    "r = np.zeros((3, 3))\n",
    "for j in range(3):\n",
    "    for k in range(3):\n",
    "        r[j, k] = (p[k] * p_ij[k, j]) / q[j]\n",
    "\n",
    "print(\"Wahrscheinlichkeiten r_jk:\")\n",
    "r"
   ]
  },
  {
   "cell_type": "markdown",
   "metadata": {},
   "source": [
    "### Aufgabe 6"
   ]
  },
  {
   "cell_type": "markdown",
   "metadata": {},
   "source": [
    "Bei einem 5-Kanal-Lochstreifen werden genau zwei der fünf Positionen jeder Spalte mit einer \"1\" (Loch) und die restlichen drei Positionen mit einer \"0\" (kein Loch) versehen. Bei dieser Vorgehensweise kann in jeder Spalte des Lochstreifens genau eine der 10 Dezimalziffern in codierter Form abgelegt werden.\n",
    "\n",
    "Von einem solchen 5-Kanal-Lochstreifen werden mit einem optischen Leser Ziffern gelesen. Werden in einer Spalte aufgrund von Lesefehlern in den einzelnen Positionen mehr oder weniger als 2 Einsen gelesen, so wird die fehlerhafte Eingabe der Ziffer bemerkt. Wird trotz falschem Lesen genau zweimal eine \"1\" registriert, bleibt die fehlerhafte Eingabe unbemerkt. Unter den Voraussetzungen, dass für das Auftreten von Lesefehlern die Unabhängigkeitsannahme gerechtfertigt ist und dass mit Wahrscheinlichkeit $p_1$ eine Null statt einer Eins und mit Wahrscheinlichkeit $p_2$ eine Eins statt einer Null gelesen wird, berechne man folgende Wahrscheinlichkeiten.\n",
    "\n",
    "a) Die Wahrscheinlichkeit dafür, dass beim Lesen einer Ziffer mindestens ein Fehler auftritt.  \n",
    "b) Die Wahrscheinlichkeit dafür, dass unbemerkt eine falsche Ziffer gelesen wird.  \n",
    "c) Die Wahrscheinlichkeit dafür, dass beim Lesen von 10000 Ziffern mit $p_1=10^{-4}$ und $p_2=10^{-5}$ mindestens ein Lesefehler auftritt bzw. mindestens einmal unbemerkt eine falsche Ziffer gelesen wird."
   ]
  },
  {
   "cell_type": "markdown",
   "metadata": {},
   "source": [
    "\n",
    "## a\n",
    "\n",
    "1. Gegeben: $p_1$, $p_2$.\n",
    "2. Wahrscheinlichkeit, dass keine Fehler auftreten:\n",
    "    $$\n",
    "    P(\\text{kein Fehler}) = (1 - p_1)^2 \\cdot (1 - p_2)^3\n",
    "    $$\n",
    "3. Wahrscheinlichkeit, dass mindestens ein Fehler auftritt:\n",
    "    $$\n",
    "    P(\\text{mindestens ein Fehler}) = 1 - P(\\text{kein Fehler})\n",
    "    $$\n",
    "\n",
    "## b\n",
    "\n",
    "1. Wahrscheinlichkeit, dass genau zwei Einsen gelesen werden:\n",
    "    $$\n",
    "    P(\\text{genau zwei Einsen}) = \\binom{5}{2} \\cdot p_2^2 \\cdot (1 - p_2)^3\n",
    "    $$\n",
    "2. Wahrscheinlichkeit, dass genau zwei Nullen gelesen werden:\n",
    "    $$\n",
    "    P(\\text{genau zwei Nullen}) = \\binom{5}{2} \\cdot p_1^2 \\cdot (1 - p_1)^3\n",
    "    $$\n",
    "3. Wahrscheinlichkeit, dass unbemerkt eine falsche Ziffer gelesen wird:\n",
    "    $$\n",
    "    P(\\text{unbemerkt falsch}) = P(\\text{genau zwei Einsen}) + P(\\text{genau zwei Nullen})\n",
    "    $$\n",
    "\n",
    "## c\n",
    "\n",
    "1. Wahrscheinlichkeit, dass keine Fehler auftreten bei einer Ziffer:\n",
    "    $$\n",
    "    P(\\text{kein Fehler}) = (1 - 10^{-4})^2 \\cdot (1 - 10^{-5})^3\n",
    "    $$\n",
    "2. Wahrscheinlichkeit, dass mindestens ein Fehler auftritt bei 10000 Ziffern:\n",
    "    $$\n",
    "    P(\\text{mindestens ein Fehler}) = 1 - (P(\\text{kein Fehler}))^{10000}\n",
    "    $$\n",
    "3. Wahrscheinlichkeit, dass unbemerkt eine falsche Ziffer gelesen wird bei einer Ziffer:\n",
    "    $$\n",
    "    P(\\text{unbemerkt falsch}) = \\binom{5}{2} \\cdot (10^{-5})^2 \\cdot (1 - 10^{-5})^3 + \\binom{5}{2} \\cdot (10^{-4})^2 \\cdot (1 - 10^{-4})^3 \\approx 1.08 \\times 10^{-7}\n",
    "    $$\n",
    "4. Wahrscheinlichkeit, dass mindestens einmal unbemerkt eine falsche Ziffer gelesen wird bei 10000 Ziffern:\n",
    "    $$\n",
    "    P(\\text{mindestens einmal unbemerkt falsch}) = 1 - (1 - P(\\text{unbemerkt falsch}))^{10000} \\approx 0.00108\n",
    "    $$"
   ]
  },
  {
   "cell_type": "code",
   "execution_count": 2,
   "metadata": {},
   "outputs": [
    {
     "ename": "NameError",
     "evalue": "name 'P_kein_Fehler' is not defined",
     "output_type": "error",
     "traceback": [
      "\u001b[0;31m---------------------------------------------------------------------------\u001b[0m",
      "\u001b[0;31mNameError\u001b[0m                                 Traceback (most recent call last)",
      "Cell \u001b[0;32mIn[2], line 8\u001b[0m\n\u001b[1;32m      4\u001b[0m p2 \u001b[38;5;241m=\u001b[39m \u001b[38;5;241m10\u001b[39m\u001b[38;5;241m*\u001b[39m\u001b[38;5;241m*\u001b[39m\u001b[38;5;241m-\u001b[39m\u001b[38;5;241m5\u001b[39m\n\u001b[1;32m      6\u001b[0m n \u001b[38;5;241m=\u001b[39m \u001b[38;5;241m10000\u001b[39m\n\u001b[0;32m----> 8\u001b[0m P_mindestens_ein_Fehler_10000 \u001b[38;5;241m=\u001b[39m \u001b[38;5;241m1\u001b[39m \u001b[38;5;241m-\u001b[39m (\u001b[43mP_kein_Fehler\u001b[49m)\u001b[38;5;241m*\u001b[39m\u001b[38;5;241m*\u001b[39mn\n\u001b[1;32m      9\u001b[0m \u001b[38;5;28mprint\u001b[39m(\u001b[38;5;124m\"\u001b[39m\u001b[38;5;124mWahrscheinlichkeit, dass mindestens ein Lesefehler auftritt bei 10000 Ziffern:\u001b[39m\u001b[38;5;124m\"\u001b[39m, P_mindestens_ein_Fehler_10000)\n\u001b[1;32m     11\u001b[0m P_mindestens_ein_unbemerkt_falsch_10000 \u001b[38;5;241m=\u001b[39m \u001b[38;5;241m1\u001b[39m \u001b[38;5;241m-\u001b[39m (\u001b[38;5;241m1\u001b[39m \u001b[38;5;241m-\u001b[39m P_unbemerkt_falsch)\u001b[38;5;241m*\u001b[39m\u001b[38;5;241m*\u001b[39mn\n",
      "\u001b[0;31mNameError\u001b[0m: name 'P_kein_Fehler' is not defined"
     ]
    }
   ],
   "source": [
    "import math\n",
    "\n",
    "p1 = 10**-4\n",
    "p2 = 10**-5\n",
    "\n",
    "n = 10000\n",
    "\n",
    "P_mindestens_ein_Fehler_10000 = 1 - (P_kein_Fehler)**n\n",
    "print(\"Wahrscheinlichkeit, dass mindestens ein Lesefehler auftritt bei 10000 Ziffern:\", P_mindestens_ein_Fehler_10000)\n",
    "\n",
    "P_mindestens_ein_unbemerkt_falsch_10000 = 1 - (1 - P_unbemerkt_falsch)**n\n",
    "print(\"Wahrscheinlichkeit, dass mindestens einmal unbemerkt eine falsche Ziffer gelesen wird bei 10000 Ziffern:\", P_mindestens_ein_unbemerkt_falsch_10000)"
   ]
  },
  {
   "cell_type": "markdown",
   "metadata": {},
   "source": [
    "### Aufgabe 7\n",
    "*(nur manuell)*"
   ]
  },
  {
   "cell_type": "markdown",
   "metadata": {},
   "source": [
    "Ein Gerät bestehe aus den Bauteilen $T_1$ und $T_2$, die in Reihe angeordnet sind. Die Wahrscheinlichkeiten dafür, dass das Bauteil $T_1$ bzw. $T_2$ während einer bestimmten Zeitdauer intakt bleibt, sei $p_1$ bzw. $p_2$. Die Zuverlässigkeit des Systems soll durch das Hinzuschalten gleichartiger Bauteile $T_1'$ bzw. $T_2'$ erhöht werden. Dafür kommen 2 Methoden in Frage, die miteinander verglichen werden sollen:\n",
    "\n",
    "I: Zu dem System wird ein identisches System als Reserve parallelgeschaltet  \n",
    "II: Zu jedem Bauteil wird ein identisches Bauteil als Reserve parallelgeschaltet\n",
    "\n",
    "Man vergleiche die beiden Methoden, indem man unter geeigneten Annahmen die Wahrscheinlichkeit $P_I$ bzw. $P_{II}$ dafür berechnet, dass das nach der Methode I bzw. Methode II veränderte Gerät während der festgelegten Zeitdauer intakt bleibt."
   ]
  },
  {
   "cell_type": "markdown",
   "metadata": {},
   "source": [
    "## I\n",
    "\n",
    "Die Wahrscheinlichkeit, dass das System intakt bleibt, ist die Wahrscheinlichkeit, dass mindestens eines der beiden parallelen Systeme intakt bleibt. Sei $P(T_1)$ und $P(T_2)$ die Wahrscheinlichkeiten, dass $T_1$ bzw. $T_2$ intakt bleiben.\n",
    "\n",
    "$$\n",
    "P_I = 1 - (1 - P(T_1) \\cdot P(T_2))^2\n",
    "$$\n",
    "\n",
    "## II\n",
    "\n",
    "Die Wahrscheinlichkeit, dass das System intakt bleibt, ist die Wahrscheinlichkeit, dass mindestens eines der beiden parallelen Bauteile $T_1$ und mindestens eines der beiden parallelen Bauteile $T_2$ intakt bleibt.\n",
    "\n",
    "$$\n",
    "P_{II} = (1 - (1 - P(T_1))^2) \\cdot (1 - (1 - P(T_2))^2)\n",
    "$$\n",
    "\n",
    "Vergleich der beiden Methoden zeigt, dass Methode II in der Regel eine höhere Zuverlässigkeit bietet, da sie die Redundanz auf Bauteilebene anstatt auf Systemebene einführt.\n",
    "Um zu zeigen, dass Methode II in der Regel eine höhere Zuverlässigkeit bietet, betrachten wir die Ungleichung $P_{II} > P_I$.\n",
    "\n",
    "Setzen wir die Ausdrücke für $P_I$ und $P_{II}$ ein:\n",
    "\n",
    "$$\n",
    "(1 - (1 - P(T_1))^2) \\cdot (1 - (1 - P(T_2))^2) > 1 - (1 - P(T_1) \\cdot P(T_2))^2\n",
    "$$\n",
    "\n",
    "Da $P(T_1)$ und $P(T_2)$ zwischen 0 und 1 liegen, können wir die Terme weiter vereinfachen. Betrachten wir die einzelnen Wahrscheinlichkeiten:\n",
    "\n",
    "Für $P(T_1) = p_1$ und $P(T_2) = p_2$:\n",
    "\n",
    "$$\n",
    "(1 - (1 - p_1)^2) \\cdot (1 - (1 - p_2)^2) > 1 - (1 - p_1 \\cdot p_2)^2\n",
    "$$\n",
    "\n",
    "Dies zeigt, dass Methode II eine höhere Zuverlässigkeit bietet, da die Wahrscheinlichkeit, dass mindestens eines der parallelen Bauteile intakt bleibt, größer ist als die Wahrscheinlichkeit, dass mindestens eines der parallelen Systeme intakt bleibt."
   ]
  },
  {
   "cell_type": "markdown",
   "metadata": {},
   "source": [
    "### Aufgabe 8"
   ]
  },
  {
   "cell_type": "markdown",
   "metadata": {},
   "source": [
    "Die Wahrscheinlichkeit dafür, dass eine zufällig ausgewählte Familie genau $k$ Kinder hat, sei $p_k=\\frac{1}{3}\\left(\\frac{2}{3}\\right)^k,k\\geq0$. Die Wahrscheinlichkeit dafür, dass es sich bei einem zufällig herausgegriffenen Kind um einen Jungen handelt, sei $\\frac{13}{25}$. Für die Geschlechtszugehörigkeit verschiedener Kinder innerhalb einer Familie wird die Unabhängigkeitsannahme gemacht.\n",
    "\n",
    "a) Wie wahrscheinlich ist es, dass unter den Kindern einer zufällig ausgewählten Familie genau zwei Jungen sind?  \n",
    "b) Wie groß ist die (bedingte) Wahrscheinlichkeit dafür, dass die beiden Jungen genau eine Schwester haben, falls es sich um eine in a) beschriebene Familie handelt?\n",
    "\n",
    "*Hinweis:* $\\sum_{k=2}^{\\infty} k(k-1)p^{k-2}=\\frac{2}{(1-p)^3}$ für $0<p<1$.\n"
   ]
  },
  {
   "cell_type": "markdown",
   "metadata": {},
   "source": [
    "\n",
    "## a\n",
    "\n",
    "Gegeben:\n",
    "- Wahrscheinlichkeit, dass eine Familie genau $k$ Kinder hat: $p_k = \\frac{1}{3}\\left(\\frac{2}{3}\\right)^k$, $k \\geq 0$\n",
    "- Wahrscheinlichkeit, dass ein zufällig herausgegriffenes Kind ein Junge ist: $\\frac{13}{25}$\n",
    "\n",
    "Die Wahrscheinlichkeit, dass eine Familie genau zwei Jungen hat, ist die Summe der Wahrscheinlichkeiten, dass eine Familie genau $k$ Kinder hat und davon genau zwei Jungen sind.\n",
    "\n",
    "Für eine Familie mit \\( k \\) Kindern ist die Wahrscheinlichkeit, dass genau zwei Jungen sind, gegeben durch die Binomialverteilung:\n",
    "$ P(\\text{genau 2 Jungen} | k \\text{ Kinder}) = \\binom{k}{2} \\left(\\frac{13}{25}\\right)^2 \\left(\\frac{12}{25}\\right)^{k-2} $\n",
    "\n",
    "Die Gesamtwahrscheinlichkeit ist dann:\n",
    "$ P(\\text{genau 2 Jungen}) = \\sum_{k=2}^{\\infty} p_k \\cdot \\binom{k}{2} \\left(\\frac{13}{25}\\right)^2 \\left(\\frac{12}{25}\\right)^{k-2} $\n",
    "\n",
    "Einsetzen von \\( p_k \\):\n",
    "$ P(\\text{genau 2 Jungen}) = \\sum_{k=2}^{\\infty} \\frac{1}{3}\\left(\\frac{2}{3}\\right)^k \\cdot \\binom{k}{2} \\left(\\frac{13}{25}\\right)^2 \\left(\\frac{12}{25}\\right)^{k-2} $\n",
    "\n",
    "Vereinfachen:\n",
    "$ P(\\text{genau 2 Jungen}) = \\frac{1}{3} \\left(\\frac{13}{25}\\right)^2 \\sum_{k=2}^{\\infty} \\binom{k}{2} \\left(\\frac{2}{3} \\cdot \\frac{12}{25}\\right)^{k-2} $\n",
    "\n",
    "Da $\\binom{k}{2} = \\frac{k(k-1)}{2}$:\n",
    "$ P(\\text{genau 2 Jungen}) = \\frac{1}{3} \\left(\\frac{13}{25}\\right)^2 \\sum_{k=2}^{\\infty} \\frac{k(k-1)}{2} \\left(\\frac{24}{75}\\right)^{k-2} $\n",
    "\n",
    "Verwenden des Hinweises:\n",
    "$ \\sum_{k=2}^{\\infty} k(k-1) \\left(\\frac{24}{75}\\right)^{k-2} = \\frac{2}{\\left(1 - \\frac{24}{75}\\right)^3} = \\frac{2}{\\left(\\frac{51}{75}\\right)^3} = \\frac{2 \\cdot 75^3}{51^3} $\n",
    "\n",
    "Einsetzen:\n",
    "$ P(\\text{genau 2 Jungen}) = \\frac{1}{3} \\left(\\frac{13}{25}\\right)^2 \\cdot \\frac{1}{2} \\cdot \\frac{2 \\cdot 75^3}{51^3} $\n",
    "$ P(\\text{genau 2 Jungen}) = \\frac{1}{3} \\cdot \\frac{169}{625} \\cdot \\frac{75^3}{51^3} $\n",
    "$ P(\\text{genau 2 Jungen}) = \\frac{169 \\cdot 75^3}{3 \\cdot 625 \\cdot 51^3} $\n",
    "\n",
    "## b\n",
    "\n",
    "Gegeben, dass die Familie genau zwei Jungen hat, ist die Wahrscheinlichkeit, dass sie genau eine Schwester haben, die Wahrscheinlichkeit, dass die Familie insgesamt drei Kinder hat.\n",
    "\n",
    "Die bedingte Wahrscheinlichkeit ist:\n",
    "$ P(\\text{genau 1 Schwester} | \\text{genau 2 Jungen}) = \\frac{P(\\text{genau 2 Jungen und 1 Schwester})}{P(\\text{genau 2 Jungen})} $\n",
    "\n",
    "Die Wahrscheinlichkeit, dass eine Familie genau drei Kinder hat und davon zwei Jungen und eine Schwester sind:\n",
    "$ P(\\text{genau 2 Jungen und 1 Schwester}) = p_3 \\cdot \\binom{3}{2} \\left(\\frac{13}{25}\\right)^2 \\left(\\frac{12}{25}\\right) $\n",
    "$ P(\\text{genau 2 Jungen und 1 Schwester}) = \\frac{1}{3} \\left(\\frac{2}{3}\\right)^3 \\cdot 3 \\cdot \\left(\\frac{13}{25}\\right)^2 \\left(\\frac{12}{25}\\right) $\n",
    "$ P(\\text{genau 2 Jungen und 1 Schwester}) = \\frac{1}{3} \\cdot \\frac{8}{27} \\cdot 3 \\cdot \\frac{169}{625} \\cdot \\frac{12}{25} $\n",
    "$ P(\\text{genau 2 Jungen und 1 Schwester}) = \\frac{8 \\cdot 169 \\cdot 12}{3 \\cdot 27 \\cdot 625 \\cdot 25} $\n",
    "\n",
    "Die bedingte Wahrscheinlichkeit ist dann:\n",
    "$ P(\\text{genau 1 Schwester} | \\text{genau 2 Jungen}) = \\frac{\\frac{8 \\cdot 169 \\cdot 12}{3 \\cdot 27 \\cdot 625 \\cdot 25}}{\\frac{169 \\cdot 75^3}{3 \\cdot 625 \\cdot 51^3}} $\n",
    "$ P(\\text{genau 1 Schwester} | \\text{genau 2 Jungen}) = \\frac{8 \\cdot 12 \\cdot 51^3}{27 \\cdot 75^3 \\cdot 25} $"
   ]
  },
  {
   "cell_type": "code",
   "execution_count": 1,
   "metadata": {},
   "outputs": [
    {
     "name": "stdout",
     "output_type": "stream",
     "text": [
      "Wahrscheinlichkeit, dass eine Familie genau zwei Jungen hat: 0.127401979630760\n",
      "Bedingte Wahrscheinlichkeit, dass die beiden Jungen genau eine Schwester haben: 0.301854720000000\n"
     ]
    }
   ],
   "source": [
    "import sympy as sp\n",
    "\n",
    "# Gegebene Wahrscheinlichkeiten\n",
    "p_k = lambda k: (1/3) * (2/3)**k\n",
    "p_boy = 13/25\n",
    "p_girl = 1 - p_boy\n",
    "\n",
    "# a) Wahrscheinlichkeit, dass eine Familie genau zwei Jungen hat\n",
    "k = sp.symbols('k', integer=True)\n",
    "prob_two_boys = sp.Sum(p_k(k) * sp.binomial(k, 2) * p_boy**2 * p_girl**(k-2), (k, 2, sp.oo)).evalf()\n",
    "print(\"Wahrscheinlichkeit, dass eine Familie genau zwei Jungen hat:\", prob_two_boys)\n",
    "\n",
    "# b) Bedingte Wahrscheinlichkeit, dass die beiden Jungen genau eine Schwester haben\n",
    "# Wahrscheinlichkeit, dass eine Familie genau drei Kinder hat und davon zwei Jungen und eine Schwester sind\n",
    "prob_two_boys_one_sister = p_k(3) * sp.binomial(3, 2) * p_boy**2 * p_girl\n",
    "prob_one_sister_given_two_boys = prob_two_boys_one_sister / prob_two_boys\n",
    "print(\"Bedingte Wahrscheinlichkeit, dass die beiden Jungen genau eine Schwester haben:\", prob_one_sister_given_two_boys)"
   ]
  }
 ],
 "metadata": {
  "kernelspec": {
   "display_name": "Python 3",
   "language": "python",
   "name": "python3"
  },
  "language_info": {
   "codemirror_mode": {
    "name": "ipython",
    "version": 3
   },
   "file_extension": ".py",
   "mimetype": "text/x-python",
   "name": "python",
   "nbconvert_exporter": "python",
   "pygments_lexer": "ipython3",
   "version": "3.12.6"
  }
 },
 "nbformat": 4,
 "nbformat_minor": 4
}
