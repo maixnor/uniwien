{
 "cells": [
  {
   "cell_type": "markdown",
   "metadata": {},
   "source": [
    "# Aufgabenblatt 8"
   ]
  },
  {
   "cell_type": "markdown",
   "metadata": {},
   "source": [
    "## Testverfahren 1"
   ]
  },
  {
   "cell_type": "markdown",
   "metadata": {},
   "source": [
    "# GPT\n",
    "\n",
    "GPT 4o wurde verwendet um das Dokument zu formattieren. Die Loesungen sind meine eigenen Leistungen. "
   ]
  },
  {
   "cell_type": "markdown",
   "metadata": {},
   "source": [
    "### Aufgabe 1"
   ]
  },
  {
   "cell_type": "markdown",
   "metadata": {},
   "source": [
    "Eine neue Sorte von Reagenzgläsern soll bezüglich ihrer Schmelztemperatur mit einer gebräuchlichen Sorte, bei der die mittlere Schmelztemperatur $745^\\circ$C beträgt, verglichen werden. Bei der neuen Sorte von Reagenzgläsern wurden folgende Temperaturwerte ermittelt (in $^\\circ$C):\n",
    "\n",
    "675 720 621 653 750 631 742 828 715 611 790 671 820 730 650 785\n",
    "\n",
    "Es wird angenommen, dass die Messwerte $x_1,\\ldots,x_{16}$ eine Realisierung von unabhängigen identisch $N(\\mu,4900)$-verteilten Zufallsvariablen $X_1,\\ldots,X_{16}$ sind. Durch Anwendung eines geeigneten Tests zum Niveau 0.05 überprüfe man\n",
    "\n",
    "a) die Hypothese $H_0: \\mu=745$ gegen $H_1:\\mu \\neq 745$  \n",
    "b) die Hypothese $H_0: \\mu=745$ gegen $H_1:\\mu < 745$\n",
    "\n",
    "Plotten Sie jeweils den Annahmebereich als Fläche unter der Dichtefunktion der Testverteilung."
   ]
  },
  {
   "cell_type": "code",
   "execution_count": null,
   "metadata": {
    "vscode": {
     "languageId": "r"
    }
   },
   "outputs": [
    {
     "ename": "NameError",
     "evalue": "name 'temp' is not defined",
     "output_type": "error",
     "traceback": [
      "\u001b[0;31m---------------------------------------------------------------------------\u001b[0m",
      "\u001b[0;31mNameError\u001b[0m                                 Traceback (most recent call last)",
      "Cell \u001b[0;32mIn[2], line 1\u001b[0m\n\u001b[0;32m----> 1\u001b[0m \u001b[43mtemp\u001b[49m \u001b[38;5;241m<\u001b[39m\u001b[38;5;241m-\u001b[39m c(\u001b[38;5;241m675\u001b[39m, \u001b[38;5;241m720\u001b[39m, \u001b[38;5;241m621\u001b[39m, \u001b[38;5;241m653\u001b[39m, \u001b[38;5;241m750\u001b[39m, \u001b[38;5;241m631\u001b[39m, \u001b[38;5;241m742\u001b[39m, \u001b[38;5;241m828\u001b[39m, \u001b[38;5;241m715\u001b[39m, \u001b[38;5;241m611\u001b[39m, \u001b[38;5;241m790\u001b[39m, \u001b[38;5;241m671\u001b[39m, \u001b[38;5;241m820\u001b[39m, \u001b[38;5;241m730\u001b[39m, \u001b[38;5;241m650\u001b[39m, \u001b[38;5;241m785\u001b[39m)\n",
      "\u001b[0;31mNameError\u001b[0m: name 'temp' is not defined"
     ]
    }
   ],
   "source": [
    "temp <- c(675, 720, 621, 653, 750, 631, 742, 828, 715, 611, 790, 671, 820, 730, 650, 785)\n",
    "# Aufgabe 1a\n",
    "t.test(temp, mu = 745, alternative = \"two.sided\", conf.level = 0.95)\n",
    "\n",
    "# Aufgabe 1b\n",
    "t.test(temp, mu = 745, alternative = \"less\", conf.level = 0.95)"
   ]
  },
  {
   "cell_type": "markdown",
   "metadata": {},
   "source": [
    "### Aufgabe 2"
   ]
  },
  {
   "cell_type": "markdown",
   "metadata": {},
   "source": [
    "Das Gewicht von Brötchen (gemessen in g) ist zufallsabhängig. Man nimmt an, dass die Zufallsvariable, die das Gewicht beschreibt, $N(\\mu, 36)$ verteilt ist. Für 81 (zufällig und unabhängig) ausgewählte Brötchen ergab sich das Durchschnittsgewicht zu $\\overline{x}=37$g.\n",
    "\n",
    "a) Man überprüfe mittels eines zweiseitigen Tests, ob das Datenmaterial mit der Nullhypothese $H_0$: \"Das Durchschnittsgewicht der Brötchen beträgt 38g\" auf dem 5\\%-Niveau vereinbar ist.  \n",
    "b) Sei nun $\\mu=37$ der tatsächliche Wert von $\\mu$. Wie groß ist dann die Fehlerwahrscheinlichkeit 2. Art bei dem in a) angewendeten Test? Plotten Sie die Fehlerwahrscheinlichkeit 2. Art als Fläche unter den beiden Dichtefunktionen.  \n",
    "c) Der Test in a) soll durch Erhöhung des Stichprobenumfanges so abgeändert werden, dass unter Beibehaltung der Hypothese $H_0$ und der Fehlerwahrscheinlichkeit 1. Art nun für die Alternative $H_1: \\mu_1=37$ die Fehlerwahrscheinlichkeit 2. Art kleiner gleich 5\\% wird. Wie groß muss der Stichprobenumfang $n$ mindestens gewählt werden, damit das gewährleistet ist?"
   ]
  },
  {
   "cell_type": "code",
   "execution_count": null,
   "metadata": {},
   "outputs": [],
   "source": [
    "# Aufgabe 2a\n",
    "# Gegebene Daten\n",
    "n <- 81\n",
    "x_strich <- 37\n",
    "mu_0 <- 38\n",
    "sigma <- 6\n",
    "alpha <- 0.05\n",
    "\n",
    "# Berechnung der Teststatistik\n",
    "z <- (x_strich - mu_0) / (sigma / sqrt(n))\n",
    "\n",
    "# Berechnung des kritischen Wertes\n",
    "z_kritisch <- qnorm(1 - alpha / 2)\n",
    "\n",
    "# Entscheidungsregel\n",
    "if (abs(z) > z_kritisch) {\n",
    "    ergebnis_a <- \"H0 ablehnen\"\n",
    "} else {\n",
    "    ergebnis_a <- \"H0 nicht ablehnen\"\n",
    "}\n",
    "\n",
    "ergebnis_a\n",
    "\n",
    "# Aufgabe 2b\n",
    "# Gegebene Daten\n",
    "mu_tatsaechlich <- 37\n",
    "\n",
    "# Berechnung der Teststatistik unter dem tatsächlichen Mittelwert\n",
    "z_tatsaechlich <- (mu_tatsaechlich - mu_0) / (sigma / sqrt(n))\n",
    "\n",
    "# Berechnung der Teststärke (1 - Beta)\n",
    "beta <- pnorm(z_kritisch - z_tatsaechlich) - pnorm(-z_kritisch - z_tatsaechlich)\n",
    "power <- 1 - beta\n",
    "\n",
    "# Plot der Fehlerwahrscheinlichkeit 2. Art\n",
    "curve(dnorm(x, mean = z_tatsaechlich, sd = 1), from = -4, to = 4, col = \"blue\", lwd = 2, ylab = \"Dichte\", xlab = \"z\")\n",
    "abline(v = c(-z_kritisch, z_kritisch), col = \"red\", lwd = 2, lty = 2)\n",
    "polygon(c(-4, seq(-4, -z_kritisch, length = 100), -z_kritisch), c(0, dnorm(seq(-4, -z_kritisch, length = 100), mean = z_tatsaechlich, sd = 1), 0), col = rgb(1, 0, 0, 0.5))\n",
    "polygon(c(z_kritisch, seq(z_kritisch, 4, length = 100), 4), c(0, dnorm(seq(z_kritisch, 4, length = 100), mean = z_tatsaechlich, sd = 1), 0), col = rgb(1, 0, 0, 0.5))\n",
    "\n",
    "# Aufgabe 2c\n",
    "# Gegebene Daten\n",
    "beta_ziel <- 0.05\n",
    "z_beta <- qnorm(1 - beta_ziel)\n",
    "\n",
    "# Berechnung der erforderlichen Stichprobengröße\n",
    "n_erforderlich <- ((z_kritisch + z_beta) * sigma / (mu_0 - mu_tatsaechlich))^2\n",
    "n_erforderlich <- ceiling(n_erforderlich)\n",
    "\n",
    "n_erforderlich"
   ]
  },
  {
   "cell_type": "markdown",
   "metadata": {},
   "source": [
    "### Aufgabe 3"
   ]
  },
  {
   "cell_type": "markdown",
   "metadata": {},
   "source": [
    "Es wird angenommen, dass die vorliegenden Messwerte $x_1,\\ldots,x_{10}$ bzw. $y_1,\\ldots,y_{16}$ eine Realisierung von unabhängigen identisch $N(\\mu_1,0.25)$ bzw. $N(\\mu_2,0.36)$-verteilten Zufallsvariablen sind:\n",
    "\n",
    "$x_i$: 5.46 5.34 4.34 4.82 4.40 5.12 5.69 5.53 4.77 5.82\n",
    "\n",
    "$y_i$: 5.45 5.31 4.11 4.69 4.18 5.05 5.72 5.54 4.62 5.89 5.60 5.19 3.31 4.43 5.30 4.09\n",
    "\n",
    "Man überprüfe die Hypothese $H_0: \\mu_2\\geq\\mu_1$ gegen $H_1: \\mu_2 <\\mu_1$ mit einem geeigneten Test zum Niveau $\\alpha=0.05$.\n"
   ]
  },
  {
   "cell_type": "code",
   "execution_count": null,
   "metadata": {},
   "outputs": [],
   "source": [
    "x <- c(5.46, 5.34, 4.34, 4.82, 4.40, 5.12, 5.69, 5.53, 4.77, 5.82)\n",
    "y <- c(5.45, 5.31, 4.11, 4.69, 4.18, 5.05, 5.72, 5.54, 4.62, 5.89, 5.60, 5.19, 3.31, 4.43, 5.30, 4.09)\n",
    "\n",
    "# Gegebene Daten\n",
    "alpha <- 0.05\n",
    "n_x <- length(x)\n",
    "n_y <- length(y)\n",
    "mu_1 <- mean(x)\n",
    "mu_2 <- mean(y)\n",
    "sigma_1 <- sqrt(0.25)\n",
    "sigma_2 <- sqrt(0.36)\n",
    "\n",
    "# Berechnung der Teststatistik\n",
    "z <- (mu_2 - mu_1) / sqrt(sigma_1^2 / n_x + sigma_2^2 / n_y)\n",
    "\n",
    "# Berechnung des kritischen Wertes\n",
    "z_kritisch <- qnorm(alpha)\n",
    "\n",
    "# Entscheidungsregel\n",
    "if (z < z_kritisch) {\n",
    "    ergebnis <- \"H0 ablehnen\"\n",
    "} else {\n",
    "    ergebnis <- \"H0 nicht ablehnen\"\n",
    "}\n",
    "\n",
    "ergebnis"
   ]
  },
  {
   "cell_type": "markdown",
   "metadata": {},
   "source": [
    "### Aufgabe 4"
   ]
  },
  {
   "cell_type": "markdown",
   "metadata": {},
   "source": [
    "In einem landwirtschaftlichen Betrieb erhielten von 20 Versuchsrindern 10 Rinder (Gruppe I) jeden Tag Kraftfutter der Zusammensetzung A, die übrigen 10 Rinder (Gruppe II) erhielten das herkömmliche Futter der Zusammensetzung B. Nach einer gewissen Zeit wurde die Gewichszunahme in kg in beiden Gruppen festgestellt:\n",
    "\n",
    "Gruppe I:  7.2 4.1 5.5 4.5 5.7 3.8 4.6 6.0 5.2 5.4\n",
    "\n",
    "Gruppe II: 5.3 4.4 5.0 3.5 3.9 4.9 5.6 2.5 4.0 3.6\n",
    "\n",
    "a) Unter der Annahme, dass sich die Gewichtszunahme durch unabhängige, in beiden Fällen identisch normalverteilte Zufallsvariablen beschreiben lässt, prüfe man mit einem geeigneten Test zum Niveau $\\alpha=0.1$, ob die Annahme, dass die Gewichtszunahme bei Verabreichung von Kraftfutter der Zusammensetzung A die gleiche Streuung aufweist wie die Gewichtszunahme bei Verabreichung des herkömmlichen Futters der Zusammensetzung B, zu verwerfen ist. Plotten Sie den Annahmebereich als Fläche unter der Dichtefunktion der Testverteilung.  \n",
    "b) Unter der Annahme, dass sich die Gewichtszunahme durch unabhängige, in beiden Fällen identisch normalverteilte Zufallsvariablen mit gleicher Varianz beschreiben lässt, prüfe man mit einem geeigneten Test zum Niveau $\\alpha=0.025$ die Hypothese, dass die Gewichtszunahme bei Verabreichung von Kraftfutter der Zusammensetzung A nicht größer ist als die Gewichtszunahme bei Verabreichung des herkömmlichen Futters der Zusammensetzung B."
   ]
  },
  {
   "cell_type": "code",
   "execution_count": null,
   "metadata": {},
   "outputs": [],
   "source": [
    "# Aufgabe 4a\n",
    "g1 <- c(7.2, 4.1, 5.5, 4.5, 5.7, 3.8, 4.6, 6.0, 5.2, 5.4)\n",
    "g2 <- c(5.3, 4.4, 5.0, 3.5, 3.9, 4.9, 5.6, 2.5, 4.0, 3.6)\n",
    "\n",
    "# Varianzhomogenitätstest (F-Test)\n",
    "var_test <- var.test(g1, g2, alternative = \"two.sided\", conf.level = 0.9)\n",
    "\n",
    "# Plot des Annahmebereichs\n",
    "f_critical_low <- qf(0.05, df1 = length(g1) - 1, df2 = length(g2) - 1)\n",
    "f_critical_high <- qf(0.95, df1 = length(g1) - 1, df2 = length(g2) - 1)\n",
    "curve(df(x, df1 = length(g1) - 1, df2 = length(g2) - 1), from = 0, to = 5, col = \"blue\", lwd = 2, ylab = \"Dichte\", xlab = \"F\")\n",
    "abline(v = c(f_critical_low, f_critical_high), col = \"red\", lwd = 2, lty = 2)\n",
    "polygon(c(0, seq(0, f_critical_low, length = 100), f_critical_low), c(0, df(seq(0, f_critical_low, length = 100), df1 = length(g1) - 1, df2 = length(g2) - 1), 0), col = rgb(1, 0, 0, 0.5))\n",
    "polygon(c(f_critical_high, seq(f_critical_high, 5, length = 100), 5), c(0, df(seq(f_critical_high, 5, length = 100), df1 = length(g1) - 1, df2 = length(g2) - 1), 0), col = rgb(1, 0, 0, 0.5))\n",
    "\n",
    "var_test\n",
    "\n",
    "# Aufgabe 4b\n",
    "t_test <- t.test(g1, g2, alternative = \"greater\", var.equal = TRUE, conf.level = 0.975)\n",
    "\n",
    "t_test"
   ]
  },
  {
   "cell_type": "markdown",
   "metadata": {},
   "source": [
    "# GPT\n",
    "\n",
    "GPT 4o wurde verwendet um das Dokument zu formattieren. Die Loesungen sind meine eigenen Leistungen. "
   ]
  },
  {
   "cell_type": "markdown",
   "metadata": {},
   "source": [
    "### Aufgabe 5"
   ]
  },
  {
   "cell_type": "markdown",
   "metadata": {},
   "source": [
    "Bei einer Untersuchung der Auswirkungen eines Medikaments auf das Wachstum wurde 15 jungen Versuchstieren das Medikament verabreicht. Einer Vergleichsgruppe mit 20 Tieren wurde das Medikament nicht gegeben. Bei der ersten Gruppe errechnete man aus den Zunahmen $x_1,\\ldots,x_{15}$ der Körperlängen der Tiere während der Versuchszeit das arithmetische Mittel $\\overline{x}=72$cm und die Streuung $s_x=13$cm, bei der Vergleichsgruppe aus den Zunahmen $y_1,\\ldots,y_{20}$ der Körperlängen das arithmetische Mittel $\\overline{y}=75$cm und die Streuung $s_y=12$cm. Man überprüfe mit dem Zweistichproben-t-Test zum Niveau $\\alpha=0.05$ die Behauptung, dass das Medikament keine Auswirkung auf das Wachstum habe."
   ]
  },
  {
   "cell_type": "code",
   "execution_count": null,
   "metadata": {
    "vscode": {
     "languageId": "r"
    }
   },
   "outputs": [],
   "source": [
    "# Gegebene Daten\n",
    "n1 <- 15\n",
    "n2 <- 20\n",
    "x_bar <- 72\n",
    "y_bar <- 75\n",
    "s_x <- 13\n",
    "s_y <- 12\n",
    "alpha <- 0.05\n",
    "\n",
    "# Berechnung der Teststatistik\n",
    "x <- rnorm(n1, mean = x_bar, sd = s_x)\n",
    "y <- rnorm(n2, mean = y_bar, sd = s_y)\n",
    "t_test_result <- t.test(x = x, y = y, alternative = \"two.sided\", var.equal = TRUE, conf.level = 1 - alpha)\n",
    "\n",
    "t_test_result\n",
    "# Entscheidungsregel\n",
    "if (t_test_result$p.value < alpha) {\n",
    "    ergebnis <- \"H0 ablehnen\"\n",
    "} else {\n",
    "    ergebnis <- \"H0 nicht ablehnen\"\n",
    "}\n",
    "\n",
    "ergebnis"
   ]
  },
  {
   "cell_type": "markdown",
   "metadata": {},
   "source": [
    "H0 kann nicht abgeleht werden - das Medikament hat keine signifikante Auswirkung."
   ]
  },
  {
   "cell_type": "markdown",
   "metadata": {},
   "source": [
    "### Aufgabe 6"
   ]
  },
  {
   "cell_type": "markdown",
   "metadata": {},
   "source": [
    "Um die Genauigkeit eines neu entwickelten Gerätes zur Messung von Weglängen im Gelände zu kontrollieren, wurde eine Strecke von 1000 m zehnmal vermessen.\n",
    "\n",
    "$$\n",
    "\\begin{array}{|l|c|c|c|c|c|c|c|c|c|c|}\n",
    "  \\hline\n",
    "  \\textrm{Messung} & 1 & 2 & 3 & 4 & 5 & 6 & 7 & 8 & 9 & 10\\\\ \\hline\n",
    "  \\textrm{Messwert [m]} & 998.0 & 1001.0 & 1003.0 & 1000.5 & 999.0 & 997.5 & 1000.0 & 999.5 & 996.0 & 998.5\\\\\n",
    "  \\hline\n",
    "\\end{array}\n",
    "$$\n",
    "\n",
    "Unter der Annahme, dass die Messwerte eine Realisierung unabhängiger $N(\\mu,\\sigma^2)$-verteilter Zufallsvariablen sind, sollen zum Niveau 5\\% die Hypothesen getestet werden, dass\n",
    "\n",
    "a) das Gerät im Mittel die korrekte Entfernung angibt,  \n",
    "b) die Varianz $\\sigma^2$ den Wert $\\sigma_0^2=4$ \\[m$^2$\\], den herkömmliche Geräte aufweisen, nicht unterschreitet. Plotten Sie den Annahmebereich als Fläche unter der Dichtefunktion der Testverteilung."
   ]
  },
  {
   "cell_type": "code",
   "execution_count": null,
   "metadata": {},
   "outputs": [],
   "source": [
    "wl <- c(998.0, 1001.0, 1003.0, 1000.5, 999.0, 997.5, 1000.0, 999.5, 996.0, 998.5)\n",
    "\n",
    "# Aufgabe 6a\n",
    "mu_0 <- 1000\n",
    "alpha <- 0.05\n",
    "n <- length(wl)\n",
    "x_bar <- mean(wl)\n",
    "s <- sd(wl)\n",
    "\n",
    "# Berechnung der Teststatistik\n",
    "t_stat <- (x_bar - mu_0) / (s / sqrt(n))\n",
    "\n",
    "# Berechnung des kritischen Wertes\n",
    "t_critical <- qt(1 - alpha / 2, df = n - 1)\n",
    "\n",
    "# Entscheidungsregel\n",
    "if (abs(t_stat) > t_critical) {\n",
    "    ergebnis_a <- \"H0 ablehnen\"\n",
    "} else {\n",
    "    ergebnis_a <- \"H0 nicht ablehnen\"\n",
    "}\n",
    "\n",
    "ergebnis_a\n",
    "\n",
    "# Aufgabe 6b\n",
    "sigma_0_sq <- 4\n",
    "\n",
    "# Berechnung der Teststatistik\n",
    "chi_sq_stat <- (n - 1) * s^2 / sigma_0_sq\n",
    "\n",
    "# Berechnung des kritischen Wertes\n",
    "chi_sq_critical <- qchisq(alpha, df = n - 1)\n",
    "\n",
    "# Entscheidungsregel\n",
    "if (chi_sq_stat < chi_sq_critical) {\n",
    "    ergebnis_b <- \"H0 ablehnen\"\n",
    "} else {\n",
    "    ergebnis_b <- \"H0 nicht ablehnen\"\n",
    "}\n",
    "\n",
    "ergebnis_b\n",
    "\n",
    "# Plot des Annahmebereichs für Aufgabe 6b\n",
    "curve(dchisq(x, df = n - 1), from = 0, to = 30, col = \"blue\", lwd = 2, ylab = \"Dichte\", xlab = \"Chi-Quadrat\")\n",
    "abline(v = chi_sq_critical, col = \"red\", lwd = 2, lty = 2)\n",
    "polygon(c(0, seq(0, chi_sq_critical, length = 100), chi_sq_critical), c(0, dchisq(seq(0, chi_sq_critical, length = 100), df = n - 1), 0), col = rgb(1, 0, 0, 0.5))"
   ]
  },
  {
   "cell_type": "markdown",
   "metadata": {},
   "source": [
    "Das Geraet gibt im Mittel die richtige Entfernung an - es kann H0 nicht abgelehnt werden."
   ]
  },
  {
   "cell_type": "markdown",
   "metadata": {},
   "source": [
    "### Aufgabe 7"
   ]
  },
  {
   "cell_type": "markdown",
   "metadata": {},
   "source": [
    "Dem Hersteller eines Spülmittels wird von einer Verbraucherorganisation vorgeworfen, 3-kg-Packungen in den Handel zu bringen, deren Inhalt wesentlich unter dem Nenngewicht liegt. Die Verbraucherorganisation kauft 21 Packungen und stellt jeweils deren Nettogewicht fest. Dabei ergibt sich ein Stichprobenmittel von $\\overline{x}=2.82$kg und eine Stichprobenvarianz von $s^2=0.04$kg$^2$.\n",
    "\n",
    "a) Welches konkrete Schätzintervall zum Niveau 0.9 für den unbekannten Erwartungswert $\\mu$ des Nettogewichts pro Packung ergibt sich, wenn man davon ausgehen kann, dass die Nettogewichte durch unabhängige $N(\\mu,\\sigma^2)$-verteilte Zufallsvariablen beschrieben werden können?  \n",
    "b) Der Hersteller begründet das Untersuchungsergebnis mit dem Hinweis auf einen Defekt an der Verpackungsmaschine. Die Maschine sei inzwischen neu eingestellt. Zur Überprüfung dieser Aussage wird ein neuer Test durchgeführt. Die Hypothese $H_0: \\mu=3$ wird gegen die Alternative $\\mu<3$ mit einer Irrtumswahrscheinlichkeit von 1\\% und bei einem Stichprobenumfang von $n=25$ getestet. Die Messergebnisse lieferten ein Stichprobenmittel von $\\overline{x}=2.96$kg und eine Stichprobenvarianz von $s^2=0.01$kg$^2$. Wie lautet das Testergebnis?"
   ]
  },
  {
   "cell_type": "code",
   "execution_count": null,
   "metadata": {
    "vscode": {
     "languageId": "r"
    }
   },
   "outputs": [],
   "source": [
    "# Aufgabe 7a\n",
    "# Gegebene Daten\n",
    "n <- 21\n",
    "x_bar <- 2.82\n",
    "s_sq <- 0.04\n",
    "alpha <- 0.1\n",
    "\n",
    "# Berechnung des Konfidenzintervalls\n",
    "t_critical <- qt(1 - alpha / 2, df = n - 1)\n",
    "margin_of_error <- t_critical * sqrt(s_sq / n)\n",
    "ci_lower <- x_bar - margin_of_error\n",
    "ci_upper <- x_bar + margin_of_error\n",
    "\n",
    "ci <- c(ci_lower, ci_upper)\n",
    "ci\n",
    "\n",
    "# Aufgabe 7b\n",
    "# Gegebene Daten\n",
    "n_new <- 25\n",
    "x_bar_new <- 2.96\n",
    "s_sq_new <- 0.01\n",
    "mu_0 <- 3\n",
    "alpha_new <- 0.01\n",
    "\n",
    "# Berechnung der Teststatistik\n",
    "t_stat_new <- (x_bar_new - mu_0) / sqrt(s_sq_new / n_new)\n",
    "\n",
    "# Berechnung des kritischen Wertes\n",
    "t_critical_new <- qt(alpha_new, df = n_new - 1)\n",
    "\n",
    "# Entscheidungsregel\n",
    "if (t_stat_new < t_critical_new) {\n",
    "    ergebnis <- \"H0 ablehnen\"\n",
    "} else {\n",
    "    ergebnis <- \"H0 nicht ablehnen\"\n",
    "}\n",
    "\n",
    "ergebnis"
   ]
  },
  {
   "cell_type": "markdown",
   "metadata": {},
   "source": [
    "### Aufgabe 8"
   ]
  },
  {
   "cell_type": "markdown",
   "metadata": {},
   "source": [
    "Mit einem Produktionsverfahren zur Herstellung von bestimmten elektronischen Bauteilen erhielt man in einem gewissen Zeitraum bei 4000 gefertigten Bauteilen 2951 Bauteile erster Wahl. Man teste die Hypothese \"Die Wahrscheinlichkeit für die Produktion eines Bauteils erster Wahl ist 3/4\" gegen die Alternative \"Die Wahrscheinlichkeit für die Produktion eines Bauteils erster Wahl ist kleiner als 3/4\" auf dem Niveau 4\\%, indem man die Quantile der Binomialverteilung durch die Quantile der Normalverteilung approximiert."
   ]
  },
  {
   "cell_type": "code",
   "execution_count": null,
   "metadata": {
    "vscode": {
     "languageId": "r"
    }
   },
   "outputs": [],
   "source": [
    "# Aufgabe 8\n",
    "# Gegebene Daten\n",
    "n <- 4000\n",
    "x <- 2951\n",
    "p_0 <- 0.75\n",
    "alpha <- 0.04\n",
    "\n",
    "# Berechnung der Teststatistik\n",
    "p_hat <- x / n\n",
    "z_stat <- (p_hat - p_0) / sqrt(p_0 * (1 - p_0) / n)\n",
    "\n",
    "# Berechnung des kritischen Wertes\n",
    "z_critical <- qnorm(alpha)\n",
    "\n",
    "# Entscheidungsregel\n",
    "if (z_stat < z_critical) {\n",
    "    ergebnis <- \"H0 ablehnen\"\n",
    "} else {\n",
    "    ergebnis <- \"H0 nicht ablehnen\"\n",
    "}\n",
    "\n",
    "ergebnis"
   ]
  }
 ],
 "metadata": {
  "kernelspec": {
   "display_name": "Python 3",
   "language": "python",
   "name": "python3"
  },
  "language_info": {
   "codemirror_mode": {
    "name": "ipython",
    "version": 3
   },
   "file_extension": ".py",
   "mimetype": "text/x-python",
   "name": "python",
   "nbconvert_exporter": "python",
   "pygments_lexer": "ipython3",
   "version": "3.12.undefined"
  }
 },
 "nbformat": 4,
 "nbformat_minor": 4
}
