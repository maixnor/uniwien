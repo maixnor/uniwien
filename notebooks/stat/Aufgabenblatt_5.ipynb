{
 "cells": [
  {
   "cell_type": "markdown",
   "metadata": {},
   "source": [
    "# Aufgabenblatt 5"
   ]
  },
  {
   "cell_type": "markdown",
   "metadata": {},
   "source": [
    "## Zufallsvariablen und ihre Verteilungen"
   ]
  },
  {
   "cell_type": "markdown",
   "metadata": {},
   "source": [
    "### Aufgabe 1"
   ]
  },
  {
   "cell_type": "markdown",
   "metadata": {},
   "source": [
    "Ein Nachtwächter hat einen Schlüsselbund mit 10 ähnlich aussehenden Schlüsseln. Wenn er eine bestimmte Tür aufschließen will, in deren Schloss genau einer der 10 Schlüsseln passt, so probiert er entweder die Schlüssel nacheinander durch – d.h. kein Schlüssel wird zweimal probiert – bis er den passenden Schlüssel findet (Methode A); oder er probiert einen zufällig ausgewählten Schlüssel, und wenn er nicht passt, so schüttelt er den Schlüsselbund und probiert wieder einen zufällig ausgewählten Schlüssel (Methode B).\n",
    "\n",
    "a) Die Zufallsvariable $X_A$ bzw. $X_B$ sei die Anzahl der Versuche, die nach Methode A bzw. B nötig sind, um den passenden Schlüssel zu finden. Man gebe die Verteilungen dieser beiden Zufallsgrößen an.  \n",
    "b) Der Nachtwächter benutzt Methode A, wenn er nüchtern ist, und Methode B, wenn er betrunken ist. Die Wahrscheinlichkeit dafür, dass er in einer bestimmten Nacht betrunken ist, betrage 1/3. Wie groß ist die (bedingte) Wahrscheinlichkeit dafür, dass der Betriebsleiter den Nachtwächter der Trunkenheit im Dienst zu recht bezichtigt, nachdem er gesehen hat, dass dieser schon 8-mal erfolglos versucht hat, die Tür zu öffnen?"
   ]
  },
  {
   "cell_type": "markdown",
   "metadata": {},
   "source": [
    "## 1a)\n",
    "Methode A (nüchtern):\n",
    "$P_A = \\frac{1}{n} = \\frac{1}{10} = 0.1$\n",
    "\n",
    "Methode B (betrunken):\n",
    "$P_B = \\frac{1}{n} = \\frac{1}{10} = 0.1$\n",
    "\n",
    "## 1b)\n",
    "Methode A (nüchtern) nach 8 erfolglosen Versuchen:\n",
    "$P_{A,8} = \\frac{n-8}{n} = \\frac{10-8}{10} = 0.2$\n",
    "\n",
    "Methode B (betrunken) nach 8 erfolglosen Versuchen:\n",
    "$P_{B,8} = (1 - P_B)^8 = (1 - 0.1)^8 = 0.430467210000000$"
   ]
  },
  {
   "cell_type": "code",
   "execution_count": 2,
   "metadata": {},
   "outputs": [
    {
     "name": "stdout",
     "output_type": "stream",
     "text": [
      "(1a) Nuechtern: 0.1\n",
      "(1a) Betrunken: 0.1\n",
      "(1b) - Nuechtern: 0.2\n",
      "(1b) - Betrunken: 0.4304672100000001\n"
     ]
    }
   ],
   "source": [
    "import scipy.stats as stats\n",
    "\n",
    "# Wahrscheinlichkeit für Methode A (1a)\n",
    "n = 10\n",
    "p_A = 1 / n\n",
    "\n",
    "# Wahrscheinlichkeit für Methode B (1a)\n",
    "p_B = 1 / n\n",
    "\n",
    "# Methode A: Nuechtern\n",
    "p_A_8 = (n - 8) / n\n",
    "\n",
    "# Methode B: Betrunken\n",
    "p_B_8 = (1 - p_B) ** 8\n",
    "\n",
    "print(f'(1a) Nuechtern: {p_A}')\n",
    "print(f'(1a) Betrunken: {p_B}')\n",
    "print(f'(1b) - Nuechtern: {p_A_8}')\n",
    "print(f'(1b) - Betrunken: {p_B_8}')"
   ]
  },
  {
   "cell_type": "markdown",
   "metadata": {},
   "source": [
    "### Aufgabe 2"
   ]
  },
  {
   "cell_type": "markdown",
   "metadata": {},
   "source": [
    "20\\% aller Kälber erkranken in den ersten sechs Lebensmonaten an einer bestimmten nicht ansteckenden Krankheit. Um drei verschiedene Impfstoffe, A, B, und C auf ihre Wirksamkeit gegen die betreffende Krankheit zu testen, wurden 18 neugeborene Kälber eines Bauernhofes mit A, 11 neugeborene eines anderen Bauernhofes mit B und 26 neugeborene eines dritten Bauernhofes mit C geimpft. In den ersten sechs Lebensmonaten \n",
    "\n",
    "a) erkrankte genau eines der mit A geimpften Kälber,   \n",
    "b) erkrankte keines der mit B geimpften Kälber,  \n",
    "c) erkrankten genau zwei der mit C geimpften Kälber. \n",
    "\n",
    "Unter geeigneter Verteilungsannahme berechne man die Wahrscheinlichkeit dafür, dass bei völliger Wirkungslosigkeit des jeweiligen Impfstoffes keine größere als die unter a) bzw. b) bzw. c) angegebene Anzahl von Erkrankungen auftritt.\n"
   ]
  },
  {
   "cell_type": "markdown",
   "metadata": {},
   "source": [
    "## 2a) Wahrscheinlichkeit, dass genau eines der mit A geimpften Kälber erkrankt:\n",
    "$P_A = \\binom{18}{1} \\cdot 0.2^1 \\cdot (1-0.2)^{18-1} = 18 \\cdot 0.2 \\cdot 0.8^{17} \\approx 0.377$\n",
    "\n",
    "## 2b) Wahrscheinlichkeit, dass keines der mit B geimpften Kälber erkrankt:\n",
    "$P_B = \\binom{11}{0} \\cdot 0.2^0 \\cdot (1-0.2)^{11-0} = 1 \\cdot 1 \\cdot 0.8^{11} \\approx 0.107$\n",
    "\n",
    "## 2c) Wahrscheinlichkeit, dass genau zwei der mit C geimpften Kälber erkranken:\n",
    "$P_C = \\binom{26}{2} \\cdot 0.2^2 \\cdot (1-0.2)^{26-2} = \\frac{26 \\cdot 25}{2 \\cdot 1} \\cdot 0.04 \\cdot 0.8^{24} \\approx 0.271$"
   ]
  },
  {
   "cell_type": "code",
   "execution_count": 3,
   "metadata": {},
   "outputs": [
    {
     "name": "stdout",
     "output_type": "stream",
     "text": [
      "2a) Wahrscheinlichkeit, dass genau eines der mit A geimpften Kälber erkrankt: 0.081\n",
      "2b) Wahrscheinlichkeit, dass keines der mit B geimpften Kälber erkrankt: 0.086\n",
      "2c) Wahrscheinlichkeit, dass genau zwei der mit C geimpften Kälber erkranken: 0.061\n"
     ]
    }
   ],
   "source": [
    "import math\n",
    "\n",
    "# Anzahl der Kälber\n",
    "n_A = 18\n",
    "n_B = 11\n",
    "n_C = 26\n",
    "\n",
    "# Wahrscheinlichkeit, dass ein Kalb erkrankt\n",
    "p = 0.2\n",
    "\n",
    "# 2a) Wahrscheinlichkeit, dass genau eines der mit A geimpften Kälber erkrankt\n",
    "P_A = math.comb(n_A, 1) * (p ** 1) * ((1 - p) ** (n_A - 1))\n",
    "\n",
    "# 2b) Wahrscheinlichkeit, dass keines der mit B geimpften Kälber erkrankt\n",
    "P_B = math.comb(n_B, 0) * (p ** 0) * ((1 - p) ** (n_B - 0))\n",
    "\n",
    "# 2c) Wahrscheinlichkeit, dass genau zwei der mit C geimpften Kälber erkranken\n",
    "P_C = math.comb(n_C, 2) * (p ** 2) * ((1 - p) ** (n_C - 2))\n",
    "\n",
    "print(f'2a) Wahrscheinlichkeit, dass genau eines der mit A geimpften Kälber erkrankt: {P_A:.3f}')\n",
    "print(f'2b) Wahrscheinlichkeit, dass keines der mit B geimpften Kälber erkrankt: {P_B:.3f}')\n",
    "print(f'2c) Wahrscheinlichkeit, dass genau zwei der mit C geimpften Kälber erkranken: {P_C:.3f}')"
   ]
  },
  {
   "cell_type": "markdown",
   "metadata": {},
   "source": [
    "### Aufgabe 3"
   ]
  },
  {
   "cell_type": "markdown",
   "metadata": {},
   "source": [
    "Ein Hautarzt möchte sich eine Meinung darüber bilden, welches von zwei neu auf dem Markt angebotenen Hautpflegemitteln A und B wirksamer gegen Ekzeme ist. Dazu gibt er 15 unter Ekzemen leidenden Patienten jeweils ein Fläschchen von A und von B und bittet sie darum, darauf zu achten, welches der Hautpflegemittel die stärkere Wirkung zeigt. Er legt die folgende Entscheidungsregel fest: Wenn mehr als 11 Patienten der Ansicht sind, dass das Mittel A (bzw. B) wirksamer ist als das andere, so wird er davon ausgehen, dass dieses Mittel eine stärkere Wirkung hat. Andernfalls wird er A und B als gleich wirksam betrachten. Wie groß ist die Wahrscheinlichkeit dafür, dass der Arzt auf unterschiedliche Wirksamkeit schließt, falls A und B tatsächlich gleich wirksam sind?"
   ]
  },
  {
   "cell_type": "markdown",
   "metadata": {
    "vscode": {
     "languageId": "tex"
    }
   },
   "source": [
    "## 3) Wahrscheinlichkeit, dass der Arzt auf unterschiedliche Wirksamkeit schließt, falls A und B tatsächlich gleich wirksam sind:\n",
    "\n",
    "$P(X > 11) = P(X = 12) + P(X = 13) + P(X = 14) + P(X = 15)$\n",
    "\n",
    "$P(X = k) = \\binom{15}{k} \\cdot 0.5^k \\cdot (1-0.5)^{15-k}$\n",
    "\n",
    "$P(X = 12) = \\binom{15}{12} \\cdot 0.5^{12} \\cdot 0.5^{3} = \\binom{15}{12} \\cdot 0.5^{15}$\n",
    "\n",
    "$P(X = 13) = \\binom{15}{13} \\cdot 0.5^{13} \\cdot 0.5^{2} = \\binom{15}{13} \\cdot 0.5^{15}$\n",
    "\n",
    "$P(X = 14) = \\binom{15}{14} \\cdot 0.5^{14} \\cdot 0.5^{1} = \\binom{15}{14} \\cdot 0.5^{15}$\n",
    "\n",
    "$P(X = 15) = \\binom{15}{15} \\cdot 0.5^{15} \\cdot 0.5^{0} = \\binom{15}{15} \\cdot 0.5^{15}$\n",
    "\n",
    "$P(X > 11) = \\binom{15}{12} \\cdot 0.5^{15} + \\binom{15}{13} \\cdot 0.5^{15} + \\binom{15}{14} \\cdot 0.5^{15} + \\binom{15}{15} \\cdot 0.5^{15}$\n",
    "\n",
    "$P(X > 11) =  \\frac{15!}{12!3!} \\cdot 0.5^{15} + \\frac{15!}{13!2!} \\cdot 0.5^{15} + \\frac{15!}{14!1!} \\cdot 0.5^{15} + \\frac{15!}{15!0!} \\cdot 0.5^{15}$\n",
    "\n",
    "$P(X > 11) =  \\frac{15 \\cdot 14 \\cdot 13}{3 \\cdot 2 \\cdot 1} \\cdot 0.5^{15} + \\frac{15 \\cdot 14}{2 \\cdot 1} \\cdot 0.5^{15} + 15 \\cdot 0.5^{15} + 1 \\cdot 0.5^{15}$\n",
    "\n",
    "$P(X > 11) =  455 \\cdot 0.5^{15} + 105 \\cdot 0.5^{15} + 15 \\cdot 0.5^{15} + 1 \\cdot 0.5^{15}$\n",
    "\n",
    "$P(X > 11) =  576 \\cdot 0.5^{15}$\n",
    "\n",
    "$P(X > 11) =  576 \\cdot \\frac{1}{32768}$\n",
    "\n",
    "$P(X > 11) =  0.0176$\n",
    "\n",
    "Die Wahrscheinlichkeit, dass der Arzt auf unterschiedliche Wirksamkeit schließt, falls A und B tatsächlich gleich wirksam sind, beträgt also ca. 0.0176."
   ]
  },
  {
   "cell_type": "code",
   "execution_count": 4,
   "metadata": {},
   "outputs": [
    {
     "name": "stdout",
     "output_type": "stream",
     "text": [
      "3) Wahrscheinlichkeit, dass der Arzt auf unterschiedliche Wirksamkeit schließt, falls A und B tatsächlich gleich wirksam sind: 0.0176\n"
     ]
    }
   ],
   "source": [
    "# Anzahl der Patienten\n",
    "n_patients = 15\n",
    "\n",
    "# Wahrscheinlichkeit, dass ein Patient A oder B bevorzugt, wenn beide gleich wirksam sind\n",
    "p_equal = 0.5\n",
    "\n",
    "# Berechnung der Wahrscheinlichkeit, dass der Arzt auf unterschiedliche Wirksamkeit schließt, falls A und B tatsächlich gleich wirksam sind\n",
    "P_diff = sum(math.comb(n_patients, k) * (p_equal ** k) * ((1 - p_equal) ** (n_patients - k)) for k in range(12, 16))\n",
    "\n",
    "print(f'3) Wahrscheinlichkeit, dass der Arzt auf unterschiedliche Wirksamkeit schließt, falls A und B tatsächlich gleich wirksam sind: {P_diff:.4f}')"
   ]
  },
  {
   "cell_type": "markdown",
   "metadata": {},
   "source": [
    "### Aufgabe 4"
   ]
  },
  {
   "cell_type": "markdown",
   "metadata": {},
   "source": [
    "Bei der Einstellung einer Sekretärin wird eine Probezeit von 4 Wochen vereinbart. Während der Probezeit kann die Kündigung jeweils am Ende der Woche ausgesprochen werden. Im Rahmen der anfallenden Arbeiten hat die Sekretärin an jedem Arbeitstag (5 Tage pro Woche) 10 Briefe zu schreiben. Um zu entscheiden, ob die Sekretärin nach ihrer Probezeit endgültig eingestellt werden soll, legt sich der Büroleiter folgende Strategie zurecht: Enthält ein Brief nur einen Fehler, so korrigiert er diesen Fehler bei der Unterschrift. Enthält ein Brief jedoch mehr als einen Fehler, so muss der Brief von der Sekretärin noch einmal geschrieben werden. Müssen von den an einem Arbeitstag anfallenden 10 Briefen 3 oder mehr Briefe neu geschrieben werden, so wird die Sekretärin ermahnt. Wird sie an 3 aufeinander folgenden Tagen ein und derselben Woche ermahnt, so wird ihr am Ende der Woche die Kündigung ausgesprochen.\n",
    "\n",
    "Unter der Annahme, dass die Anzahlen der Fehler pro Brief durch unabhängige, identisch mit Parameter $\\lambda=1.0$ Poisson-verteilte Zufallsvariablen beschrieben werden können, berechne man die Wahrscheinlichkeit dafür, dass der Sekretärin spätestens am Ende der 4. Woche gekündigt wird.\n",
    "\n",
    "(Hinweis: Man berechne nacheinander die Wahrscheinlichkeiten dafür, dass\n",
    "\n",
    "1. ein Brief mehr als einen Fehler enthält,\n",
    "2. die Sekretärin an einem bestimmten Tag ermahnt wird,\n",
    "3. am Ende einer bestimmten Woche gekündigt wird und\n",
    "4. im Verlauf der Probezeit gekündigt wird.)\n"
   ]
  },
  {
   "cell_type": "markdown",
   "metadata": {},
   "source": [
    "## 1. Wahrscheinlichkeit, dass ein Brief mehr als einen Fehler enthält:\n",
    "$P_{>1} = 1 - P(X \\leq 1) = 1 - (P(X = 0) + P(X = 1))$\n",
    "\n",
    "Da $X$ Poisson-verteilt ist mit $\\lambda = 1.0$:\n",
    "$P(X = k) = \\frac{\\lambda^k e^{-\\lambda}}{k!}$\n",
    "\n",
    "$P(X = 0) = \\frac{1^0 e^{-1}}{0!} = e^{-1} \\approx 0.3679$\n",
    "\n",
    "$P(X = 1) = \\frac{1^1 e^{-1}}{1!} = e^{-1} \\approx 0.3679$\n",
    "\n",
    "$P_{>1} = 1 - (0.3679 + 0.3679) = 1 - 0.7358 = 0.2642$\n",
    "\n",
    "## 2. Wahrscheinlichkeit, dass die Sekretärin an einem bestimmten Tag ermahnt wird:\n",
    "$P_{ermahnt} = P(\\text{mindestens 3 von 10 Briefen haben mehr als einen Fehler})$\n",
    "\n",
    "$P_{ermahnt} = \\sum_{k=3}^{10} \\binom{10}{k} P_{>1}^k (1 - P_{>1})^{10-k}$\n",
    "\n",
    "$P_{ermahnt} \\approx \\sum_{k=3}^{10} \\binom{10}{k} (0.2642)^k (1 - 0.2642)^{10-k}$\n",
    "\n",
    "$P_{ermahnt} \\approx 0.5167$\n",
    "\n",
    "## 3. Wahrscheinlichkeit, dass der Sekretärin am Ende einer bestimmten Woche gekündigt wird:\n",
    "$P_{gekuendigt} = P(\\text{an 3 aufeinander folgenden Tagen in einer Woche ermahnt})$\n",
    "\n",
    "$P_{gekuendigt} = P_{ermahnt}^3$\n",
    "\n",
    "$P_{gekuendigt} \\approx (0.5167)^3 \\approx 0.1380$\n",
    "\n",
    "## 4. Wahrscheinlichkeit, dass der Sekretärin im Verlauf der Probezeit gekündigt wird:\n",
    "$P_{Probezeit} = 1 - P(\\text{nicht gekündigt in 4 Wochen})$\n",
    "\n",
    "$P(\\text{nicht gekündigt in 4 Wochen}) = (1 - P_{gekuendigt})^4$\n",
    "\n",
    "$P(\\text{nicht gekündigt in 4 Wochen}) \\approx (1 - 0.1380)^4 \\approx 0.5522$\n",
    "\n",
    "$P_{Probezeit} \\approx 1 - 0.5522 \\approx 0.4478$\n"
   ]
  },
  {
   "cell_type": "code",
   "execution_count": 6,
   "metadata": {},
   "outputs": [
    {
     "name": "stdout",
     "output_type": "stream",
     "text": [
      "1. Wahrscheinlichkeit, dass ein Brief mehr als einen Fehler enthält: 0.2642\n",
      "2. Wahrscheinlichkeit, dass die Sekretärin an einem bestimmten Tag ermahnt wird: 0.5167\n",
      "3. Wahrscheinlichkeit, dass der Sekretärin am Ende einer bestimmten Woche gekündigt wird: 0.1380\n",
      "4. Wahrscheinlichkeit, dass der Sekretärin im Verlauf der Probezeit gekündigt wird: 0.4478\n"
     ]
    }
   ],
   "source": [
    "import numpy as np\n",
    "\n",
    "# Parameter\n",
    "lambda_poisson = 1.0\n",
    "days_per_week = 5\n",
    "weeks = 4\n",
    "letters_per_day = 10\n",
    "\n",
    "# 1. Wahrscheinlichkeit, dass ein Brief mehr als einen Fehler enthält\n",
    "P_more_than_one_error = 1 - (np.exp(-lambda_poisson) + lambda_poisson * np.exp(-lambda_poisson))\n",
    "\n",
    "# 2. Wahrscheinlichkeit, dass die Sekretärin an einem bestimmten Tag ermahnt wird\n",
    "P_reprimand = sum(math.comb(letters_per_day, k) * (P_more_than_one_error ** k) * ((1 - P_more_than_one_error) ** (letters_per_day - k)) for k in range(3, letters_per_day + 1))\n",
    "\n",
    "# 3. Wahrscheinlichkeit, dass der Sekretärin am Ende einer bestimmten Woche gekündigt wird\n",
    "P_fired_week = P_reprimand ** 3\n",
    "\n",
    "# 4. Wahrscheinlichkeit, dass der Sekretärin im Verlauf der Probezeit gekündigt wird\n",
    "P_not_fired_in_4_weeks = (1 - P_fired_week) ** weeks\n",
    "P_fired_in_4_weeks = 1 - P_not_fired_in_4_weeks\n",
    "\n",
    "print(f'1. Wahrscheinlichkeit, dass ein Brief mehr als einen Fehler enthält: {P_more_than_one_error:.4f}')\n",
    "print(f'2. Wahrscheinlichkeit, dass die Sekretärin an einem bestimmten Tag ermahnt wird: {P_reprimand:.4f}')\n",
    "print(f'3. Wahrscheinlichkeit, dass der Sekretärin am Ende einer bestimmten Woche gekündigt wird: {P_fired_week:.4f}')\n",
    "print(f'4. Wahrscheinlichkeit, dass der Sekretärin im Verlauf der Probezeit gekündigt wird: {P_fired_in_4_weeks:.4f}')"
   ]
  },
  {
   "cell_type": "markdown",
   "metadata": {},
   "source": [
    "### Aufgabe 5"
   ]
  },
  {
   "cell_type": "markdown",
   "metadata": {},
   "source": [
    "Der Milchfettgehalt bei Kühen einer bestimmten Züchtung sei durch eine $N(3.7,0.0081)$-verteilte Zufallsvariable angemessen beschrieben. Um einen züchterischen Fortschritt zu erreichen, sollen die Tiere mit niedrigen Leistungen laufend ausgesondert werden und nur 60\\% als Zuchtkühe verwendet werden. Man gebe die untere Grenze für den Fettgehalt an, den die Milch eines Tieres haben soll, das als Zuchttier verbleiben soll.\n",
    "\n",
    "Plotten Sie die Lösung als Fläche unter der Dichtefunktion."
   ]
  },
  {
   "cell_type": "markdown",
   "metadata": {},
   "source": [
    "### Aufgabe 6"
   ]
  },
  {
   "cell_type": "markdown",
   "metadata": {},
   "source": [
    "Die Lebensdauer elektrischer Bauteile einer bestimmten Sorte (in Stunden) lasse sich durch eine mit Parameter $\\lambda$ exponentialverteilte Zufallsvariable $X$ angemessen beschreiben. Für die Aufgabenteile a) bis d) sei $\\lambda=1/500$ vorausgesetzt.\n",
    "\n",
    "a) Wie groß ist die Wahrscheinlichkeit dafür, dass ein Bauteil vor dem Zeitpunkt $t_0=200$ nicht ausfällt?  \n",
    "b) Wie groß ist die Wahrscheinlichkeit dafür, dass ein Bauteil vor dem Zeitpunkt $t_1=100$ ausfällt?  \n",
    "c) Wie groß ist die Wahrscheinlichkeit dafür, dass ein Bauteil zwischen den Zeitpunkten $t_2=200$ und $t_3=300$ ausfällt?  \n",
    "d) Welchen Zeitpunkt $t_4$ überlebt ein Bauteil mit genau 90\\% Sicherheit, welche Zeitpunkte überlebt ein Bauteil mit mindestens 90\\% Sicherheit?  \n",
    "e) Für welchen Wert des Parameters $\\lambda$ ergibt sich eine Lebensdauerverteilung, bei der mit Wahrscheinlichkeit 0.9 die Lebensdauer eines Bauteils mindestens 50 Stunden beträgt?  "
   ]
  },
  {
   "cell_type": "markdown",
   "metadata": {},
   "source": [
    "### Aufgabe 7"
   ]
  },
  {
   "cell_type": "markdown",
   "metadata": {},
   "source": [
    "Die Brenndauer einer Glühbirne (in Stunden) lasse sich durch eine Zufallsvariable $T$ mit der Dichte\n",
    "\n",
    "$$f(t)=\\left\\{\\begin{array}{ll}\n",
    "         \\lambda^2te^{-\\lambda t} & t >0 \\\\\n",
    "         0 & \\textrm{sonst}\n",
    "       \\end{array}\\right.$$\n",
    "       \n",
    "mit $\\lambda>0$ beschreiben.\n",
    "\n",
    "a) Wie lautet die Verteilungsfunktion von $T$?  \n",
    "b) Wie groß ist für $\\lambda=1/400$ die Wahrscheinlichkeit dafür, dass die Brenndauer einer Birne mehr als 200 Betriebsstunden beträgt?  \n",
    "c) Wie groß ist für $\\lambda=1/400$ die Wahrscheinlichkeit dafür, dass die Brenndauer zwischen 200 und 400 Stunden liegt?"
   ]
  },
  {
   "cell_type": "markdown",
   "metadata": {},
   "source": [
    "### Aufgabe 8\n",
    "*(nur manuell)*"
   ]
  },
  {
   "cell_type": "markdown",
   "metadata": {},
   "source": [
    "$X$ und $Y$ seien Zufallsvariablen mit den Dichten $f$ bzw. $g$\n",
    "\n",
    "$$f(x)=\\left\\{\\begin{array}{ll}\n",
    "         \\frac{1}{2} & 0 \\leq x \\leq 2 \\\\\n",
    "         0 & \\textrm{sonst} \n",
    "       \\end{array}\\right.,\n",
    "g(y)=\\left\\{\\begin{array}{ll}\n",
    "         e^{-y} & y >0 \\\\\n",
    "         0 & \\textrm{sonst}\n",
    "       \\end{array}\\right. $$\n",
    "\n",
    "Man berechne die Verteilungsfunktionen der Zufallsvariablen $2X$, $Y^2$ und $4Y-1$ und gebe jeweils eine Dichte an."
   ]
  }
 ],
 "metadata": {
  "kernelspec": {
   "display_name": "Python 3",
   "language": "python",
   "name": "python3"
  },
  "language_info": {
   "codemirror_mode": {
    "name": "ipython",
    "version": 3
   },
   "file_extension": ".py",
   "mimetype": "text/x-python",
   "name": "python",
   "nbconvert_exporter": "python",
   "pygments_lexer": "ipython3",
   "version": "3.12.6"
  }
 },
 "nbformat": 4,
 "nbformat_minor": 4
}
