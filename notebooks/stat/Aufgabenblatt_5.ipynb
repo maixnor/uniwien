{
 "cells": [
  {
   "cell_type": "markdown",
   "metadata": {},
   "source": [
    "# Aufgabenblatt 5"
   ]
  },
  {
   "cell_type": "markdown",
   "metadata": {},
   "source": [
    "## Zufallsvariablen und ihre Verteilungen"
   ]
  },
  {
   "cell_type": "markdown",
   "metadata": {},
   "source": [
    "### Aufgabe 1"
   ]
  },
  {
   "cell_type": "markdown",
   "metadata": {},
   "source": [
    "Ein Nachtwächter hat einen Schlüsselbund mit 10 ähnlich aussehenden Schlüsseln. Wenn er eine bestimmte Tür aufschließen will, in deren Schloss genau einer der 10 Schlüsseln passt, so probiert er entweder die Schlüssel nacheinander durch – d.h. kein Schlüssel wird zweimal probiert – bis er den passenden Schlüssel findet (Methode A); oder er probiert einen zufällig ausgewählten Schlüssel, und wenn er nicht passt, so schüttelt er den Schlüsselbund und probiert wieder einen zufällig ausgewählten Schlüssel (Methode B).\n",
    "\n",
    "a) Die Zufallsvariable $X_A$ bzw. $X_B$ sei die Anzahl der Versuche, die nach Methode A bzw. B nötig sind, um den passenden Schlüssel zu finden. Man gebe die Verteilungen dieser beiden Zufallsgrößen an.  \n",
    "b) Der Nachtwächter benutzt Methode A, wenn er nüchtern ist, und Methode B, wenn er betrunken ist. Die Wahrscheinlichkeit dafür, dass er in einer bestimmten Nacht betrunken ist, betrage 1/3. Wie groß ist die (bedingte) Wahrscheinlichkeit dafür, dass der Betriebsleiter den Nachtwächter der Trunkenheit im Dienst zu recht bezichtigt, nachdem er gesehen hat, dass dieser schon 8-mal erfolglos versucht hat, die Tür zu öffnen?"
   ]
  },
  {
   "cell_type": "markdown",
   "metadata": {},
   "source": [
    "## a) Verteilungen der Zufallsgrößen $X_A$ und $X_B$\n",
    "\n",
    "Die Zufallsvariable $X_A$ beschreibt die Anzahl der Versuche nach Methode A. Sie folgt einer diskreten Gleichverteilung über 1 bis 10:\n",
    "\n",
    "$$ P(X_A = k) = \\frac{1}{10}, \\quad k = 1, 2, \\ldots, 10 $$\n",
    "\n",
    "Die Zufallsvariable $X_B$ beschreibt die Anzahl der Versuche nach Methode B. Sie folgt einer geometrischen Verteilung mit $p = \\frac{1}{10}$:\n",
    "\n",
    "$$ P(X_B = k) = \\left( \\frac{9}{10} \\right)^{k-1} \\cdot \\frac{1}{10}, \\quad k = 1, 2, \\ldots $$\n",
    "\n",
    "## b) Bedingte Wahrscheinlichkeit\n",
    "\n",
    "- Wahrscheinlichkeit betrunken: $\\frac{1}{3}$\n",
    "- Wahrscheinlichkeit nüchtern: $\\frac{2}{3}$\n",
    "- $P(X_A > 7) = 0$ (nüchtern)\n",
    "- $P(X_B > 7) = \\left( \\frac{9}{10} \\right)^8 = 0.43046721$ (betrunken)\n",
    "\n",
    "Gesucht: $P(B|A) = \\frac{P(A|B) \\cdot P(B)}{P(A)}$\n",
    "\n",
    "- $P(A|B) = 0.43046721$\n",
    "- $P(A|B^c) = 0$\n",
    "- $P(A) = 0.43046721 \\cdot \\frac{1}{3} + 0 \\cdot \\frac{2}{3} = 0.14348907$\n",
    "- $P(B|A) = \\frac{0.43046721 \\cdot \\frac{1}{3}}{0.14348907} = 1$\n",
    "\n",
    "Die bedingte Wahrscheinlichkeit, dass der Nachtwächter betrunken ist, beträgt 1."
   ]
  },
  {
   "cell_type": "code",
   "execution_count": 1,
   "metadata": {},
   "outputs": [
    {
     "name": "stdout",
     "output_type": "stream",
     "text": [
      "Bedingte Wahrscheinlichkeit, dass der Nachtwächter betrunken ist: 1.0\n"
     ]
    }
   ],
   "source": [
    "import numpy as np\n",
    "from scipy.stats import geom\n",
    "\n",
    "# Methode A: Diskrete Gleichverteilung\n",
    "def methode_A():\n",
    "    return np.random.randint(1, 11)\n",
    "\n",
    "# Methode B: Geometrische Verteilung\n",
    "def methode_B():\n",
    "    return geom.rvs(0.1)\n",
    "\n",
    "# Wahrscheinlichkeit, dass der Nachtwächter betrunken ist\n",
    "p_betrunken = 1/3\n",
    "\n",
    "# Wahrscheinlichkeit, dass der Nachtwächter nüchtern ist\n",
    "p_nuechtern = 2/3\n",
    "\n",
    "# Anzahl der Versuche nach Methode A und B\n",
    "versuche_A = [methode_A() for _ in range(10000)]\n",
    "versuche_B = [methode_B() for _ in range(10000)]\n",
    "\n",
    "# Bedingte Wahrscheinlichkeit, dass der Nachtwächter betrunken ist, nachdem er 8-mal erfolglos versucht hat, die Tür zu öffnen\n",
    "p_XA_greater_7 = sum([1 for x in versuche_A if x > 7]) / len(versuche_A)\n",
    "p_XB_greater_7 = sum([1 for x in versuche_B if x > 7]) / len(versuche_B)\n",
    "\n",
    "p_A_given_B = p_XB_greater_7\n",
    "p_A_given_not_B = 0\n",
    "p_A = p_A_given_B * p_betrunken + p_A_given_not_B * p_nuechtern\n",
    "\n",
    "p_B_given_A = (p_A_given_B * p_betrunken) / p_A\n",
    "\n",
    "print(f\"Bedingte Wahrscheinlichkeit, dass der Nachtwächter betrunken ist: {p_B_given_A}\")"
   ]
  },
  {
   "cell_type": "markdown",
   "metadata": {},
   "source": [
    "### Aufgabe 2"
   ]
  },
  {
   "cell_type": "markdown",
   "metadata": {},
   "source": [
    "20\\% aller Kälber erkranken in den ersten sechs Lebensmonaten an einer bestimmten nicht ansteckenden Krankheit. Um drei verschiedene Impfstoffe, A, B, und C auf ihre Wirksamkeit gegen die betreffende Krankheit zu testen, wurden 18 neugeborene Kälber eines Bauernhofes mit A, 11 neugeborene eines anderen Bauernhofes mit B und 26 neugeborene eines dritten Bauernhofes mit C geimpft. In den ersten sechs Lebensmonaten \n",
    "\n",
    "a) erkrankte genau eines der mit A geimpften Kälber,   \n",
    "b) erkrankte keines der mit B geimpften Kälber,  \n",
    "c) erkrankten genau zwei der mit C geimpften Kälber. \n",
    "\n",
    "Unter geeigneter Verteilungsannahme berechne man die Wahrscheinlichkeit dafür, dass bei völliger Wirkungslosigkeit des jeweiligen Impfstoffes keine größere als die unter a) bzw. b) bzw. c) angegebene Anzahl von Erkrankungen auftritt.\n"
   ]
  },
  {
   "cell_type": "markdown",
   "metadata": {},
   "source": [
    "## 2a) Wahrscheinlichkeit, dass genau eines der mit A geimpften Kälber erkrankt:\n",
    "$P_A = \\binom{18}{1} \\cdot 0.2^1 \\cdot (1-0.2)^{18-1} = 18 \\cdot 0.2 \\cdot 0.8^{17} \\approx 0.377$\n",
    "\n",
    "## 2b) Wahrscheinlichkeit, dass keines der mit B geimpften Kälber erkrankt:\n",
    "$P_B = \\binom{11}{0} \\cdot 0.2^0 \\cdot (1-0.2)^{11-0} = 1 \\cdot 1 \\cdot 0.8^{11} \\approx 0.107$\n",
    "\n",
    "## 2c) Wahrscheinlichkeit, dass genau zwei der mit C geimpften Kälber erkranken:\n",
    "$P_C = \\binom{26}{2} \\cdot 0.2^2 \\cdot (1-0.2)^{26-2} = \\frac{26 \\cdot 25}{2 \\cdot 1} \\cdot 0.04 \\cdot 0.8^{24} \\approx 0.271$"
   ]
  },
  {
   "cell_type": "code",
   "execution_count": 2,
   "metadata": {},
   "outputs": [
    {
     "name": "stdout",
     "output_type": "stream",
     "text": [
      "2a) Wahrscheinlichkeit, dass genau eines der mit A geimpften Kälber erkrankt: 0.081\n",
      "2b) Wahrscheinlichkeit, dass keines der mit B geimpften Kälber erkrankt: 0.086\n",
      "2c) Wahrscheinlichkeit, dass genau zwei der mit C geimpften Kälber erkranken: 0.061\n"
     ]
    }
   ],
   "source": [
    "import math\n",
    "\n",
    "# Anzahl der Kälber\n",
    "n_A = 18\n",
    "n_B = 11\n",
    "n_C = 26\n",
    "\n",
    "# Wahrscheinlichkeit, dass ein Kalb erkrankt\n",
    "p = 0.2\n",
    "\n",
    "# 2a) Wahrscheinlichkeit, dass genau eines der mit A geimpften Kälber erkrankt\n",
    "P_A = math.comb(n_A, 1) * (p ** 1) * ((1 - p) ** (n_A - 1))\n",
    "\n",
    "# 2b) Wahrscheinlichkeit, dass keines der mit B geimpften Kälber erkrankt\n",
    "P_B = math.comb(n_B, 0) * (p ** 0) * ((1 - p) ** (n_B - 0))\n",
    "\n",
    "# 2c) Wahrscheinlichkeit, dass genau zwei der mit C geimpften Kälber erkranken\n",
    "P_C = math.comb(n_C, 2) * (p ** 2) * ((1 - p) ** (n_C - 2))\n",
    "\n",
    "print(f'2a) Wahrscheinlichkeit, dass genau eines der mit A geimpften Kälber erkrankt: {P_A:.3f}')\n",
    "print(f'2b) Wahrscheinlichkeit, dass keines der mit B geimpften Kälber erkrankt: {P_B:.3f}')\n",
    "print(f'2c) Wahrscheinlichkeit, dass genau zwei der mit C geimpften Kälber erkranken: {P_C:.3f}')"
   ]
  },
  {
   "cell_type": "markdown",
   "metadata": {},
   "source": [
    "### Aufgabe 3"
   ]
  },
  {
   "cell_type": "markdown",
   "metadata": {},
   "source": [
    "Ein Hautarzt möchte sich eine Meinung darüber bilden, welches von zwei neu auf dem Markt angebotenen Hautpflegemitteln A und B wirksamer gegen Ekzeme ist. Dazu gibt er 15 unter Ekzemen leidenden Patienten jeweils ein Fläschchen von A und von B und bittet sie darum, darauf zu achten, welches der Hautpflegemittel die stärkere Wirkung zeigt. Er legt die folgende Entscheidungsregel fest: Wenn mehr als 11 Patienten der Ansicht sind, dass das Mittel A (bzw. B) wirksamer ist als das andere, so wird er davon ausgehen, dass dieses Mittel eine stärkere Wirkung hat. Andernfalls wird er A und B als gleich wirksam betrachten. Wie groß ist die Wahrscheinlichkeit dafür, dass der Arzt auf unterschiedliche Wirksamkeit schließt, falls A und B tatsächlich gleich wirksam sind?"
   ]
  },
  {
   "cell_type": "markdown",
   "metadata": {
    "vscode": {
     "languageId": "tex"
    }
   },
   "source": [
    "## 3) Wahrscheinlichkeit, dass der Arzt auf unterschiedliche Wirksamkeit schließt, falls A und B tatsächlich gleich wirksam sind:\n",
    "\n",
    "$P(X > 11) = P(X = 12) + P(X = 13) + P(X = 14) + P(X = 15)$\n",
    "\n",
    "$P(X = k) = \\binom{15}{k} \\cdot 0.5^k \\cdot (1-0.5)^{15-k}$\n",
    "\n",
    "$P(X = 12) = \\binom{15}{12} \\cdot 0.5^{12} \\cdot 0.5^{3} = \\binom{15}{12} \\cdot 0.5^{15}$\n",
    "\n",
    "$P(X = 13) = \\binom{15}{13} \\cdot 0.5^{13} \\cdot 0.5^{2} = \\binom{15}{13} \\cdot 0.5^{15}$\n",
    "\n",
    "$P(X = 14) = \\binom{15}{14} \\cdot 0.5^{14} \\cdot 0.5^{1} = \\binom{15}{14} \\cdot 0.5^{15}$\n",
    "\n",
    "$P(X = 15) = \\binom{15}{15} \\cdot 0.5^{15} \\cdot 0.5^{0} = \\binom{15}{15} \\cdot 0.5^{15}$\n",
    "\n",
    "$P(X > 11) = \\binom{15}{12} \\cdot 0.5^{15} + \\binom{15}{13} \\cdot 0.5^{15} + \\binom{15}{14} \\cdot 0.5^{15} + \\binom{15}{15} \\cdot 0.5^{15}$\n",
    "\n",
    "$P(X > 11) =  \\frac{15!}{12!3!} \\cdot 0.5^{15} + \\frac{15!}{13!2!} \\cdot 0.5^{15} + \\frac{15!}{14!1!} \\cdot 0.5^{15} + \\frac{15!}{15!0!} \\cdot 0.5^{15}$\n",
    "\n",
    "$P(X > 11) =  \\frac{15 \\cdot 14 \\cdot 13}{3 \\cdot 2 \\cdot 1} \\cdot 0.5^{15} + \\frac{15 \\cdot 14}{2 \\cdot 1} \\cdot 0.5^{15} + 15 \\cdot 0.5^{15} + 1 \\cdot 0.5^{15}$\n",
    "\n",
    "$P(X > 11) =  455 \\cdot 0.5^{15} + 105 \\cdot 0.5^{15} + 15 \\cdot 0.5^{15} + 1 \\cdot 0.5^{15}$\n",
    "\n",
    "$P(X > 11) =  576 \\cdot 0.5^{15}$\n",
    "\n",
    "$P(X > 11) =  576 \\cdot \\frac{1}{32768}$\n",
    "\n",
    "$P(X > 11) =  0.0176$\n",
    "\n",
    "Die Wahrscheinlichkeit, dass der Arzt auf unterschiedliche Wirksamkeit schließt, falls A und B tatsächlich gleich wirksam sind, beträgt also ca. 0.0176."
   ]
  },
  {
   "cell_type": "code",
   "execution_count": 3,
   "metadata": {},
   "outputs": [
    {
     "name": "stdout",
     "output_type": "stream",
     "text": [
      "3) Wahrscheinlichkeit, dass der Arzt auf unterschiedliche Wirksamkeit schließt, falls A und B tatsächlich gleich wirksam sind: 0.0176\n"
     ]
    }
   ],
   "source": [
    "# Anzahl der Patienten\n",
    "n_patients = 15\n",
    "\n",
    "# Wahrscheinlichkeit, dass ein Patient A oder B bevorzugt, wenn beide gleich wirksam sind\n",
    "p_equal = 0.5\n",
    "\n",
    "# Berechnung der Wahrscheinlichkeit, dass der Arzt auf unterschiedliche Wirksamkeit schließt, falls A und B tatsächlich gleich wirksam sind\n",
    "P_diff = sum(math.comb(n_patients, k) * (p_equal ** k) * ((1 - p_equal) ** (n_patients - k)) for k in range(12, 16))\n",
    "\n",
    "print(f'3) Wahrscheinlichkeit, dass der Arzt auf unterschiedliche Wirksamkeit schließt, falls A und B tatsächlich gleich wirksam sind: {P_diff:.4f}')"
   ]
  },
  {
   "cell_type": "markdown",
   "metadata": {},
   "source": [
    "### Aufgabe 4"
   ]
  },
  {
   "cell_type": "markdown",
   "metadata": {},
   "source": [
    "Bei der Einstellung einer Sekretärin wird eine Probezeit von 4 Wochen vereinbart. Während der Probezeit kann die Kündigung jeweils am Ende der Woche ausgesprochen werden. Im Rahmen der anfallenden Arbeiten hat die Sekretärin an jedem Arbeitstag (5 Tage pro Woche) 10 Briefe zu schreiben. Um zu entscheiden, ob die Sekretärin nach ihrer Probezeit endgültig eingestellt werden soll, legt sich der Büroleiter folgende Strategie zurecht: Enthält ein Brief nur einen Fehler, so korrigiert er diesen Fehler bei der Unterschrift. Enthält ein Brief jedoch mehr als einen Fehler, so muss der Brief von der Sekretärin noch einmal geschrieben werden. Müssen von den an einem Arbeitstag anfallenden 10 Briefen 3 oder mehr Briefe neu geschrieben werden, so wird die Sekretärin ermahnt. Wird sie an 3 aufeinander folgenden Tagen ein und derselben Woche ermahnt, so wird ihr am Ende der Woche die Kündigung ausgesprochen.\n",
    "\n",
    "Unter der Annahme, dass die Anzahlen der Fehler pro Brief durch unabhängige, identisch mit Parameter $\\lambda=1.0$ Poisson-verteilte Zufallsvariablen beschrieben werden können, berechne man die Wahrscheinlichkeit dafür, dass der Sekretärin spätestens am Ende der 4. Woche gekündigt wird.\n",
    "\n",
    "(Hinweis: Man berechne nacheinander die Wahrscheinlichkeiten dafür, dass\n",
    "\n",
    "1. ein Brief mehr als einen Fehler enthält,\n",
    "2. die Sekretärin an einem bestimmten Tag ermahnt wird,\n",
    "3. am Ende einer bestimmten Woche gekündigt wird und\n",
    "4. im Verlauf der Probezeit gekündigt wird.)\n"
   ]
  },
  {
   "cell_type": "markdown",
   "metadata": {},
   "source": [
    "\n",
    "$P(X = k) = \\frac{\\lambda^k e^{-\\lambda}}{k!}$\n",
    "\n",
    "### 1. Wahrscheinlichkeit, dass ein Brief mehr als einen Fehler enthält:\n",
    "$P_{>1} = 1 - P(X \\leq 1) = 1 - (P(X = 0) + P(X = 1))$\n",
    "\n",
    "Da $X$ Poisson-verteilt ist mit $\\lambda = 1.0$:\n",
    "$P(X = k) = \\frac{\\lambda^k e^{-\\lambda}}{k!}$\n",
    "\n",
    "$P(X = 0) = \\frac{1^0 e^{-1}}{0!} = e^{-1} \\approx 0.3679$\n",
    "\n",
    "$P(X = 1) = \\frac{1^1 e^{-1}}{1!} = e^{-1} \\approx 0.3679$\n",
    "\n",
    "$P_{>1} = 1 - (0.3679 + 0.3679) = 1 - 0.7358 = 0.2642$\n",
    "\n",
    "### 2. Wahrscheinlichkeit, dass die Sekretärin an einem bestimmten Tag ermahnt wird:\n",
    "$P_{ermahnt} = P(\\text{mindestens 3 von 10 Briefen haben mehr als einen Fehler})$\n",
    "\n",
    "$P_{ermahnt} = \\sum_{k=3}^{10} \\binom{10}{k} P_{>1}^k (1 - P_{>1})^{10-k}$\n",
    "\n",
    "$P_{ermahnt} \\approx \\sum_{k=3}^{10} \\binom{10}{k} (0.2642)^k (1 - 0.2642)^{10-k}$\n",
    "\n",
    "$P_{ermahnt} \\approx 0.5167$\n",
    "\n",
    "### 3. Wahrscheinlichkeit, dass die Sekretärin am Ende einer bestimmten Woche gekündigt wird:\n",
    "$P_{gekuendigt} = P(\\text{an 3 aufeinander folgenden Tagen in einer Woche ermahnt})$\n",
    "\n",
    "$P_{gekuendigt} = P_{ermahnt}^3$\n",
    "\n",
    "$P_{gekuendigt} \\approx (0.5167)^3 \\approx 0.2713$\n",
    "\n",
    "### 4. Wahrscheinlichkeit, dass die Sekretärin im Verlauf der Probezeit gekündigt wird:\n",
    "$P_{Probezeit} = 1 - P(\\text{nicht gekündigt in 4 Wochen})$\n",
    "\n",
    "$P(\\text{nicht gekündigt in 4 Wochen}) = (1 - P_{gekuendigt})^4$\n",
    "\n",
    "$P(\\text{nicht gekündigt in 4 Wochen}) \\approx (1 - 0.2713)^4 \\approx 0.5522$\n",
    "\n",
    "$P_{Probezeit} \\approx 1 - 0.5522 \\approx 0.7180$\n"
   ]
  },
  {
   "cell_type": "code",
   "execution_count": 4,
   "metadata": {},
   "outputs": [
    {
     "name": "stdout",
     "output_type": "stream",
     "text": [
      "1. Wahrscheinlichkeit, dass ein Brief mehr als einen Fehler enthält: 0.2642\n",
      "2. Wahrscheinlichkeit, dass die Sekretärin an einem bestimmten Tag ermahnt wird: 0.5167\n",
      "3. Wahrscheinlichkeit, dass der Sekretärin am Ende einer bestimmten Woche gekündigt wird: 0.2713\n",
      "4. Wahrscheinlichkeit, dass der Sekretärin im Verlauf der Probezeit gekündigt wird: 0.7180\n"
     ]
    }
   ],
   "source": [
    "import numpy as np\n",
    "\n",
    "# Parameter\n",
    "lambda_poisson = 1.0\n",
    "days_per_week = 5\n",
    "weeks = 4\n",
    "letters_per_day = 10\n",
    "\n",
    "# 1. Wahrscheinlichkeit, dass ein Brief mehr als einen Fehler enthält\n",
    "P_more_than_one_error = 1 - (np.exp(-lambda_poisson) + lambda_poisson * np.exp(-lambda_poisson))\n",
    "\n",
    "# 2. Wahrscheinlichkeit, dass die Sekretärin an einem bestimmten Tag ermahnt wird\n",
    "P_reprimand = sum(math.comb(letters_per_day, k) * (P_more_than_one_error ** k) * ((1 - P_more_than_one_error) ** (letters_per_day - k)) for k in range(3, letters_per_day + 1))\n",
    "\n",
    "# 3. Wahrscheinlichkeit, dass der Sekretärin am Ende einer bestimmten Woche gekündigt wird\n",
    "a = P_reprimand ** 3 * (1-P_reprimand) ** 2 * 3\n",
    "b = P_reprimand ** 5\n",
    "c = P_reprimand ** 4 * (1-P_reprimand) ** 1 * 4\n",
    "P_fired_week = a + b + c\n",
    "\n",
    "# 4. Wahrscheinlichkeit, dass der Sekretärin im Verlauf der Probezeit gekündigt wird\n",
    "P_not_fired_in_4_weeks = (1 - P_fired_week) ** weeks\n",
    "P_fired_in_4_weeks = 1 - P_not_fired_in_4_weeks\n",
    "\n",
    "print(f'1. Wahrscheinlichkeit, dass ein Brief mehr als einen Fehler enthält: {P_more_than_one_error:.4f}')\n",
    "print(f'2. Wahrscheinlichkeit, dass die Sekretärin an einem bestimmten Tag ermahnt wird: {P_reprimand:.4f}')\n",
    "print(f'3. Wahrscheinlichkeit, dass der Sekretärin am Ende einer bestimmten Woche gekündigt wird: {P_fired_week:.4f}')\n",
    "print(f'4. Wahrscheinlichkeit, dass der Sekretärin im Verlauf der Probezeit gekündigt wird: {P_fired_in_4_weeks:.4f}')"
   ]
  },
  {
   "cell_type": "code",
   "execution_count": 5,
   "metadata": {},
   "outputs": [
    {
     "name": "stdout",
     "output_type": "stream",
     "text": [
      "0.18393972058572117\n"
     ]
    }
   ],
   "source": [
    "import numpy as np\n",
    "P_2_errors = 1**2 * np.exp(-1) / 2*1\n",
    "print(P_2_errors)"
   ]
  },
  {
   "cell_type": "markdown",
   "metadata": {},
   "source": [
    "### Aufgabe 5"
   ]
  },
  {
   "cell_type": "markdown",
   "metadata": {},
   "source": [
    "Der Milchfettgehalt bei Kühen einer bestimmten Züchtung sei durch eine $N(3.7,0.0081)$-verteilte Zufallsvariable angemessen beschrieben. Um einen züchterischen Fortschritt zu erreichen, sollen die Tiere mit niedrigen Leistungen laufend ausgesondert werden und nur 60\\% als Zuchtkühe verwendet werden. Man gebe die untere Grenze für den Fettgehalt an, den die Milch eines Tieres haben soll, das als Zuchttier verbleiben soll.\n",
    "\n",
    "Plotten Sie die Lösung als Fläche unter der Dichtefunktion."
   ]
  },
  {
   "cell_type": "markdown",
   "metadata": {},
   "source": [
    "Der Milchfettgehalt bei Kühen einer bestimmten Züchtung sei durch eine $N(3.7,0.0081)$-verteilte Zufallsvariable angemessen beschrieben. Um einen züchterischen Fortschritt zu erreichen, sollen die Tiere mit niedrigen Leistungen laufend ausgesondert werden und nur 60\\% als Zuchtkühe verwendet werden. Man gebe die untere Grenze für den Fettgehalt an, den die Milch eines Tieres haben soll, das als Zuchttier verbleiben soll.\n",
    "\n",
    "### Lösung:\n",
    "\n",
    "Sei $X \\sim N(3.7, 0.0081)$ der Milchfettgehalt. Wir suchen den Wert $x$, sodass $P(X \\geq x) = 0.6$.\n",
    "\n",
    "1. Bestimme den z-Wert für die 60%-Quantil der Standardnormalverteilung $N(0,1)$:\n",
    "    $$\n",
    "    P(Z \\leq z) = 0.4 \\implies z \\approx -0.2533\n",
    "    $$\n",
    "\n",
    "2. Transformiere den z-Wert zurück zur Normalverteilung $N(3.7, 0.0081)$:\n",
    "    $$\n",
    "    x = \\mu + z \\cdot \\sigma = 3.7 + (-0.2533) \\cdot \\sqrt{0.0081} \\approx 3.622\n",
    "    $$\n",
    "\n",
    "Die untere Grenze für den Fettgehalt, den die Milch eines Tieres haben soll, das als Zuchttier verbleiben soll, beträgt also ca. 3.622.\n",
    "\n",
    "### Visualisierung:\n",
    "\n",
    "Die Lösung kann als Fläche unter der Dichtefunktion der Normalverteilung dargestellt werden. Der Bereich links von $x = 3.622$ entspricht 40% der Fläche, während der Bereich rechts von $x = 3.622$ 60% der Fläche darstellt."
   ]
  },
  {
   "cell_type": "code",
   "execution_count": 6,
   "metadata": {},
   "outputs": [
    {
     "data": {
      "image/png": "[encoded data removed]",
      "text/plain": [
       "<Figure size 1000x600 with 1 Axes>"
      ]
     },
     "metadata": {},
     "output_type": "display_data"
    },
    {
     "name": "stdout",
     "output_type": "stream",
     "text": [
      "The lower limit for the milk fat content to be used as breeding cows is approximately: 3.677\n"
     ]
    }
   ],
   "source": [
    "import numpy as np\n",
    "from scipy.stats import norm\n",
    "\n",
    "import matplotlib.pyplot as plt\n",
    "\n",
    "# Parameters for the normal distribution\n",
    "mu = 3.7\n",
    "sigma = np.sqrt(0.0081)\n",
    "\n",
    "# Calculate the lower limit for the top 60% of the distribution\n",
    "lower_limit = norm.ppf(0.4, loc=mu, scale=sigma)\n",
    "\n",
    "# Plot the normal distribution and the area under the curve\n",
    "x = np.linspace(mu - 3*sigma, mu + 3*sigma, 1000)\n",
    "y = norm.pdf(x, loc=mu, scale=sigma)\n",
    "\n",
    "plt.figure(figsize=(10, 6))\n",
    "plt.plot(x, y, label='Normal Distribution')\n",
    "plt.fill_between(x, y, where=(x >= lower_limit), color='skyblue', alpha=0.5, label='Top 60%')\n",
    "plt.axvline(lower_limit, color='red', linestyle='--', label=f'Lower Limit: {lower_limit:.3f}')\n",
    "plt.title('Normal Distribution of Milk Fat Content')\n",
    "plt.xlabel('Milk Fat Content')\n",
    "plt.ylabel('Density')\n",
    "plt.legend()\n",
    "plt.show()\n",
    "\n",
    "print(f'The lower limit for the milk fat content to be used as breeding cows is approximately: {lower_limit:.3f}')"
   ]
  },
  {
   "cell_type": "markdown",
   "metadata": {},
   "source": [
    "### Aufgabe 6"
   ]
  },
  {
   "cell_type": "markdown",
   "metadata": {},
   "source": [
    "Die Lebensdauer elektrischer Bauteile einer bestimmten Sorte (in Stunden) lasse sich durch eine mit Parameter $\\lambda$ exponentialverteilte Zufallsvariable $X$ angemessen beschreiben. Für die Aufgabenteile a) bis d) sei $\\lambda=1/500$ vorausgesetzt.\n",
    "\n",
    "a) Wie groß ist die Wahrscheinlichkeit dafür, dass ein Bauteil vor dem Zeitpunkt $t_0=200$ nicht ausfällt?  \n",
    "b) Wie groß ist die Wahrscheinlichkeit dafür, dass ein Bauteil vor dem Zeitpunkt $t_1=100$ ausfällt?  \n",
    "c) Wie groß ist die Wahrscheinlichkeit dafür, dass ein Bauteil zwischen den Zeitpunkten $t_2=200$ und $t_3=300$ ausfällt?  \n",
    "d) Welchen Zeitpunkt $t_4$ überlebt ein Bauteil mit genau 90\\% Sicherheit, welche Zeitpunkte überlebt ein Bauteil mit mindestens 90\\% Sicherheit?  \n",
    "e) Für welchen Wert des Parameters $\\lambda$ ergibt sich eine Lebensdauerverteilung, bei der mit Wahrscheinlichkeit 0.9 die Lebensdauer eines Bauteils mindestens 50 Stunden beträgt?  "
   ]
  },
  {
   "cell_type": "markdown",
   "metadata": {},
   "source": [
    "\n",
    "Die Lebensdauer elektrischer Bauteile einer bestimmten Sorte (in Stunden) lasse sich durch eine mit Parameter $\\lambda$ exponentialverteilte Zufallsvariable $X$ angemessen beschreiben. Für die Aufgabenteile a) bis d) sei $\\lambda=1/500$ vorausgesetzt.\n",
    "\n",
    "### a) Wahrscheinlichkeit, dass ein Bauteil vor dem Zeitpunkt $t_0=200$ nicht ausfällt:\n",
    "\n",
    "Die Verteilungsfunktion der Exponentialverteilung ist gegeben durch:\n",
    "$$ F(t) = 1 - e^{-\\lambda t} $$\n",
    "\n",
    "Die Wahrscheinlichkeit, dass ein Bauteil vor dem Zeitpunkt $t_0=200$ nicht ausfällt, ist:\n",
    "$$ P(X \\geq 200) = 1 - F(200) = e^{-\\lambda \\cdot 200} = e^{-\\frac{200}{500}} = e^{-0.4} \\approx 0.6703 $$\n",
    "\n",
    "### b) Wahrscheinlichkeit, dass ein Bauteil vor dem Zeitpunkt $t_1=100$ ausfällt:\n",
    "\n",
    "$$ P(X \\leq 100) = F(100) = 1 - e^{-\\lambda \\cdot 100} = 1 - e^{-\\frac{100}{500}} = 1 - e^{-0.2} \\approx 0.1813 $$\n",
    "\n",
    "### c) Wahrscheinlichkeit, dass ein Bauteil zwischen den Zeitpunkten $t_2=200$ und $t_3=300$ ausfällt:\n",
    "\n",
    "$$ P(200 \\leq X \\leq 300) = F(300) - F(200) = (1 - e^{-\\lambda \\cdot 300}) - (1 - e^{-\\lambda \\cdot 200}) $$\n",
    "$$ = e^{-\\frac{200}{500}} - e^{-\\frac{300}{500}} = e^{-0.4} - e^{-0.6} \\approx 0.6703 - 0.5488 = 0.1215 $$\n",
    "\n",
    "### d) Zeitpunkt $t_4$, den ein Bauteil mit genau 90% Sicherheit überlebt:\n",
    "\n",
    "Gesucht ist $t_4$, sodass $P(X \\geq t_4) = 0.9$.\n",
    "\n",
    "$$ P(X \\geq t_4) = e^{-\\lambda t_4} = 0.9 $$\n",
    "$$ e^{-\\frac{t_4}{500}} = 0.9 $$\n",
    "$$ -\\frac{t_4}{500} = \\ln(0.9) $$\n",
    "$$ t_4 = -500 \\cdot \\ln(0.9) \\approx 52.68 $$\n",
    "\n",
    "### e) Wert des Parameters $\\lambda$, bei dem die Lebensdauer eines Bauteils mit Wahrscheinlichkeit 0.9 mindestens 50 Stunden beträgt:\n",
    "\n",
    "Gesucht ist $\\lambda$, sodass $P(X \\geq 50) = 0.9$.\n",
    "\n",
    "$$ P(X \\geq 50) = e^{-\\lambda \\cdot 50} = 0.9 $$\n",
    "$$ e^{-\\lambda \\cdot 50} = 0.9 $$\n",
    "$$ -\\lambda \\cdot 50 = \\ln(0.9) $$\n",
    "$$ \\lambda = -\\frac{\\ln(0.9)}{50} \\approx 0.0021 $$"
   ]
  },
  {
   "cell_type": "code",
   "execution_count": 7,
   "metadata": {},
   "outputs": [
    {
     "name": "stdout",
     "output_type": "stream",
     "text": [
      "a) Wahrscheinlichkeit, dass ein Bauteil vor dem Zeitpunkt t0=200 nicht ausfällt: 0.6703\n",
      "b) Wahrscheinlichkeit, dass ein Bauteil vor dem Zeitpunkt t1=100 ausfällt: 0.1813\n",
      "c) Wahrscheinlichkeit, dass ein Bauteil zwischen den Zeitpunkten t2=200 und t3=300 ausfällt: 0.1215\n",
      "d) Zeitpunkt t4, den ein Bauteil mit genau 90% Sicherheit überlebt: 52.68 Stunden\n",
      "e) Wert des Parameters lambda, bei dem die Lebensdauer eines Bauteils mit Wahrscheinlichkeit 0.9 mindestens 50 Stunden beträgt: 0.0021\n"
     ]
    }
   ],
   "source": [
    "import numpy as np\n",
    "\n",
    "# Parameter\n",
    "lambda_exp = 1 / 500\n",
    "\n",
    "# a) Wahrscheinlichkeit, dass ein Bauteil vor dem Zeitpunkt t0=200 nicht ausfällt\n",
    "t0 = 200\n",
    "P_not_fail_before_t0 = np.exp(-lambda_exp * t0)\n",
    "\n",
    "# b) Wahrscheinlichkeit, dass ein Bauteil vor dem Zeitpunkt t1=100 ausfällt\n",
    "t1 = 100\n",
    "P_fail_before_t1 = 1 - np.exp(-lambda_exp * t1)\n",
    "\n",
    "# c) Wahrscheinlichkeit, dass ein Bauteil zwischen den Zeitpunkten t2=200 und t3=300 ausfällt\n",
    "t2 = 200\n",
    "t3 = 300\n",
    "P_fail_between_t2_t3 = np.exp(-lambda_exp * t2) - np.exp(-lambda_exp * t3)\n",
    "\n",
    "# d) Zeitpunkt t4, den ein Bauteil mit genau 90% Sicherheit überlebt\n",
    "P_survive_90_percent = 0.9\n",
    "t4 = -np.log(P_survive_90_percent) / lambda_exp\n",
    "\n",
    "# e) Wert des Parameters lambda, bei dem die Lebensdauer eines Bauteils mit Wahrscheinlichkeit 0.9 mindestens 50 Stunden beträgt\n",
    "P_survive_50_hours = 0.9\n",
    "t5 = 50\n",
    "lambda_new = -np.log(P_survive_50_hours) / t5\n",
    "\n",
    "print(f'a) Wahrscheinlichkeit, dass ein Bauteil vor dem Zeitpunkt t0=200 nicht ausfällt: {P_not_fail_before_t0:.4f}')\n",
    "print(f'b) Wahrscheinlichkeit, dass ein Bauteil vor dem Zeitpunkt t1=100 ausfällt: {P_fail_before_t1:.4f}')\n",
    "print(f'c) Wahrscheinlichkeit, dass ein Bauteil zwischen den Zeitpunkten t2=200 und t3=300 ausfällt: {P_fail_between_t2_t3:.4f}')\n",
    "print(f'd) Zeitpunkt t4, den ein Bauteil mit genau 90% Sicherheit überlebt: {t4:.2f} Stunden')\n",
    "print(f'e) Wert des Parameters lambda, bei dem die Lebensdauer eines Bauteils mit Wahrscheinlichkeit 0.9 mindestens 50 Stunden beträgt: {lambda_new:.4f}')"
   ]
  },
  {
   "cell_type": "markdown",
   "metadata": {},
   "source": [
    "### Aufgabe 7"
   ]
  },
  {
   "cell_type": "markdown",
   "metadata": {},
   "source": [
    "Die Brenndauer einer Glühbirne (in Stunden) lasse sich durch eine Zufallsvariable $T$ mit der Dichte\n",
    "\n",
    "$$f(t)=\\left\\{\\begin{array}{ll}\n",
    "         \\lambda^2te^{-\\lambda t} & t >0 \\\\\n",
    "         0 & \\textrm{sonst}\n",
    "       \\end{array}\\right.$$\n",
    "       \n",
    "mit $\\lambda>0$ beschreiben.\n",
    "\n",
    "a) Wie lautet die Verteilungsfunktion von $T$?  \n",
    "b) Wie groß ist für $\\lambda=1/400$ die Wahrscheinlichkeit dafür, dass die Brenndauer einer Birne mehr als 200 Betriebsstunden beträgt?  \n",
    "c) Wie groß ist für $\\lambda=1/400$ die Wahrscheinlichkeit dafür, dass die Brenndauer zwischen 200 und 400 Stunden liegt?"
   ]
  },
  {
   "cell_type": "markdown",
   "metadata": {},
   "source": [
    "Die Brenndauer einer Glühbirne (in Stunden) lasse sich durch eine Zufallsvariable $T$ mit der Dichte\n",
    "\n",
    "$$f(t)=\\left\\{\\begin{array}{ll}\n",
    "         \\lambda^2te^{-\\lambda t} & t >0 \\\\\n",
    "         0 & \\textrm{sonst}\n",
    "       \\end{array}\\right.$$\n",
    "       \n",
    "mit $\\lambda>0$ beschreiben.\n",
    "\n",
    "### a) Verteilungsfunktion von $T$\n",
    "\n",
    "Die Verteilungsfunktion $F(t)$ ist das Integral der Dichtefunktion $f(t)$:\n",
    "\n",
    "$$ F(t) = \\int_{0}^{t} \\lambda^2 u e^{-\\lambda u} \\, du $$\n",
    "\n",
    "Wir verwenden die partielle Integration:\n",
    "\n",
    "$$ \\int u \\, dv = uv - \\int v \\, du $$\n",
    "\n",
    "Setze $u = u$ und $dv = \\lambda^2 e^{-\\lambda u} \\, du$:\n",
    "\n",
    "$$ du = du \\quad \\text{und} \\quad v = -\\lambda e^{-\\lambda u} $$\n",
    "\n",
    "Dann ist:\n",
    "\n",
    "$$ F(t) = \\left[ -\\lambda u e^{-\\lambda u} \\right]_{0}^{t} + \\int_{0}^{t} \\lambda e^{-\\lambda u} \\, du $$\n",
    "\n",
    "$$ F(t) = -\\lambda t e^{-\\lambda t} + \\left[ -e^{-\\lambda u} \\right]_{0}^{t} $$\n",
    "\n",
    "$$ F(t) = -\\lambda t e^{-\\lambda t} + (1 - e^{-\\lambda t}) $$\n",
    "\n",
    "$$ F(t) = 1 - e^{-\\lambda t} (1 + \\lambda t) $$\n",
    "\n",
    "### b) Wahrscheinlichkeit, dass die Brenndauer einer Birne mehr als 200 Betriebsstunden beträgt\n",
    "\n",
    "Für $\\lambda = \\frac{1}{400}$:\n",
    "\n",
    "$$ P(T > 200) = 1 - F(200) $$\n",
    "\n",
    "$$ F(200) = 1 - e^{-\\frac{200}{400}} (1 + \\frac{200}{400}) $$\n",
    "\n",
    "$$ F(200) = 1 - e^{-0.5} (1 + 0.5) $$\n",
    "\n",
    "$$ F(200) = 1 - 1.5 e^{-0.5} $$\n",
    "\n",
    "$$ P(T > 200) = 1.5 e^{-0.5} \\approx 0.9098 $$\n",
    "\n",
    "### c) Wahrscheinlichkeit, dass die Brenndauer zwischen 200 und 400 Stunden liegt\n",
    "\n",
    "$$ P(200 \\leq T \\leq 400) = F(400) - F(200) $$\n",
    "\n",
    "$$ F(400) = 1 - e^{-\\frac{400}{400}} (1 + \\frac{400}{400}) $$\n",
    "\n",
    "$$ F(400) = 1 - e^{-1} (1 + 1) $$\n",
    "\n",
    "$$ F(400) = 1 - 2 e^{-1} $$\n",
    "\n",
    "$$ P(200 \\leq T \\leq 400) = (1 - 2 e^{-1}) - (1 - 1.5 e^{-0.5}) $$\n",
    "\n",
    "$$ P(200 \\leq T \\leq 400) = 1.5 e^{-0.5} - 2 e^{-1} \\approx 0.0902 $$\n",
    "\n",
    "Die Wahrscheinlichkeit, dass die Brenndauer zwischen 200 und 400 Stunden liegt, beträgt also ca. 0.0902."
   ]
  },
  {
   "cell_type": "code",
   "execution_count": 8,
   "metadata": {},
   "outputs": [
    {
     "name": "stdout",
     "output_type": "stream",
     "text": [
      "a) Verteilungsfunktion von T: F_T(t) = 1 - exp(-lambda * t) * (1 + lambda * t)\n",
      "b) Wahrscheinlichkeit, dass die Brenndauer einer Birne mehr als 200 Betriebsstunden beträgt: 0.9098\n",
      "c) Wahrscheinlichkeit, dass die Brenndauer zwischen 200 und 400 Stunden liegt: 0.1740\n"
     ]
    }
   ],
   "source": [
    "import numpy as np\n",
    "\n",
    "# Parameter\n",
    "lambda_exp = 1 / 400\n",
    "\n",
    "# a) Verteilungsfunktion von T\n",
    "def F_T(t, lambda_exp):\n",
    "    if t < 0:\n",
    "        return 0\n",
    "    else:\n",
    "        return 1 - np.exp(-lambda_exp * t) * (1 + lambda_exp * t)\n",
    "\n",
    "# b) Wahrscheinlichkeit, dass die Brenndauer einer Birne mehr als 200 Betriebsstunden beträgt\n",
    "t_200 = 200\n",
    "P_more_than_200 = 1 - F_T(t_200, lambda_exp)\n",
    "\n",
    "# c) Wahrscheinlichkeit, dass die Brenndauer zwischen 200 und 400 Stunden liegt\n",
    "t_400 = 400\n",
    "P_between_200_400 = F_T(t_400, lambda_exp) - F_T(t_200, lambda_exp)\n",
    "\n",
    "print(f'a) Verteilungsfunktion von T: F_T(t) = 1 - exp(-lambda * t) * (1 + lambda * t)')\n",
    "print(f'b) Wahrscheinlichkeit, dass die Brenndauer einer Birne mehr als 200 Betriebsstunden beträgt: {P_more_than_200:.4f}')\n",
    "print(f'c) Wahrscheinlichkeit, dass die Brenndauer zwischen 200 und 400 Stunden liegt: {P_between_200_400:.4f}')"
   ]
  },
  {
   "cell_type": "markdown",
   "metadata": {},
   "source": [
    "### Aufgabe 8\n",
    "*(nur manuell)*"
   ]
  },
  {
   "cell_type": "markdown",
   "metadata": {},
   "source": [
    "$X$ und $Y$ seien Zufallsvariablen mit den Dichten $f$ bzw. $g$\n",
    "\n",
    "$$f(x)=\\left\\{\\begin{array}{ll}\n",
    "         \\frac{1}{2} & 0 \\leq x \\leq 2 \\\\\n",
    "         0 & \\textrm{sonst} \n",
    "       \\end{array}\\right.,\n",
    "g(y)=\\left\\{\\begin{array}{ll}\n",
    "         e^{-y} & y >0 \\\\\n",
    "         0 & \\textrm{sonst}\n",
    "       \\end{array}\\right. $$\n",
    "\n",
    "Man berechne die Verteilungsfunktionen der Zufallsvariablen $2X$, $Y^2$ und $4Y-1$ und gebe jeweils eine Dichte an."
   ]
  },
  {
   "cell_type": "markdown",
   "metadata": {},
   "source": [
    "$X$ und $Y$ seien Zufallsvariablen mit den Dichten $f$ bzw. $g$\n",
    "\n",
    "$$f(x)=\\left\\{\\begin{array}{ll}\n",
    "         \\frac{1}{2} & 0 \\leq x \\leq 2 \\\\\n",
    "         0 & \\textrm{sonst} \n",
    "       \\end{array}\\right.,\n",
    "g(y)=\\left\\{\\begin{array}{ll}\n",
    "         e^{-y} & y >0 \\\\\n",
    "         0 & \\textrm{sonst}\n",
    "       \\end{array}\\right. $$\n",
    "\n",
    "### a) Verteilungsfunktion und Dichte von $2X$\n",
    "\n",
    "Die Zufallsvariable $2X$ hat die Dichte $h(z)$, die durch Transformation der Dichte $f(x)$ von $X$ erhalten wird.\n",
    "\n",
    "Für $Z = 2X$:\n",
    "\n",
    "$$ h(z) = f\\left(\\frac{z}{2}\\right) \\cdot \\left|\\frac{d}{dz}\\left(\\frac{z}{2}\\right)\\right| $$\n",
    "\n",
    "Da $f(x) = \\frac{1}{2}$ für $0 \\leq x \\leq 2$:\n",
    "\n",
    "$$ h(z) = \\frac{1}{2} \\cdot \\frac{1}{2} = \\frac{1}{4}, \\quad 0 \\leq \\frac{z}{2} \\leq 2 $$\n",
    "\n",
    "$$ h(z) = \\frac{1}{4}, \\quad 0 \\leq z \\leq 4 $$\n",
    "\n",
    "Die Verteilungsfunktion $H(z)$ von $2X$ ist:\n",
    "\n",
    "$$ H(z) = P(2X \\leq z) = P\\left(X \\leq \\frac{z}{2}\\right) $$\n",
    "\n",
    "$$ H(z) = \\int_{0}^{z/2} \\frac{1}{2} \\, dx = \\frac{z}{4}, \\quad 0 \\leq z \\leq 4 $$\n",
    "\n",
    "### b) Verteilungsfunktion und Dichte von $Y^2$\n",
    "\n",
    "Die Zufallsvariable $Y^2$ hat die Dichte $k(w)$, die durch Transformation der Dichte $g(y)$ von $Y$ erhalten wird.\n",
    "\n",
    "Für $W = Y^2$:\n",
    "\n",
    "$$ k(w) = g(\\sqrt{w}) \\cdot \\left|\\frac{d}{dw}(\\sqrt{w})\\right| $$\n",
    "\n",
    "Da $g(y) = e^{-y}$ für $y > 0$:\n",
    "\n",
    "$$ k(w) = e^{-\\sqrt{w}} \\cdot \\frac{1}{2\\sqrt{w}}, \\quad w > 0 $$\n",
    "\n",
    "Die Verteilungsfunktion $K(w)$ von $Y^2$ ist:\n",
    "\n",
    "$$ K(w) = P(Y^2 \\leq w) = P(Y \\leq \\sqrt{w}) $$\n",
    "\n",
    "$$ K(w) = \\int_{0}^{\\sqrt{w}} e^{-y} \\, dy = 1 - e^{-\\sqrt{w}}, \\quad w > 0 $$\n",
    "\n",
    "### c) Verteilungsfunktion und Dichte von $4Y - 1$\n",
    "\n",
    "Die Zufallsvariable $4Y - 1$ hat die Dichte $m(v)$, die durch Transformation der Dichte $g(y)$ von $Y$ erhalten wird.\n",
    "\n",
    "Für $V = 4Y - 1$:\n",
    "\n",
    "$$ m(v) = g\\left(\\frac{v+1}{4}\\right) \\cdot \\left|\\frac{d}{dv}\\left(\\frac{v+1}{4}\\right)\\right| $$\n",
    "\n",
    "Da $g(y) = e^{-y}$ für $y > 0$:\n",
    "\n",
    "$$ m(v) = e^{-\\frac{v+1}{4}} \\cdot \\frac{1}{4}, \\quad v > -1 $$\n",
    "\n",
    "Die Verteilungsfunktion $M(v)$ von $4Y - 1$ ist:\n",
    "\n",
    "$$ M(v) = P(4Y - 1 \\leq v) = P\\left(Y \\leq \\frac{v+1}{4}\\right) $$\n",
    "\n",
    "$$ M(v) = \\int_{0}^{(v+1)/4} e^{-y} \\, dy = 1 - e^{-\\frac{v+1}{4}}, \\quad v > -1 $$"
   ]
  },
  {
   "cell_type": "code",
   "execution_count": 9,
   "metadata": {},
   "outputs": [
    {
     "data": {
      "image/png": "[encoded data removed]",
      "text/plain": [
       "<Figure size 1200x600 with 3 Axes>"
      ]
     },
     "metadata": {},
     "output_type": "display_data"
    }
   ],
   "source": [
    "import numpy as np\n",
    "import matplotlib.pyplot as plt\n",
    "\n",
    "# a) Verteilungsfunktion und Dichte von 2X\n",
    "def f_X(x):\n",
    "    return 0.5 if 0 <= x <= 2 else 0\n",
    "\n",
    "def h_Z(z):\n",
    "    return 0.25 if 0 <= z <= 4 else 0\n",
    "\n",
    "def H_Z(z):\n",
    "    return z / 4 if 0 <= z <= 4 else 1 if z > 4 else 0\n",
    "\n",
    "# b) Verteilungsfunktion und Dichte von Y^2\n",
    "def g_Y(y):\n",
    "    return np.exp(-y) if y > 0 else 0\n",
    "\n",
    "def k_W(w):\n",
    "    return (np.exp(-np.sqrt(w)) / (2 * np.sqrt(w))) if w > 0 else 0\n",
    "\n",
    "def K_W(w):\n",
    "    return 1 - np.exp(-np.sqrt(w)) if w > 0 else 0\n",
    "\n",
    "# c) Verteilungsfunktion und Dichte von 4Y - 1\n",
    "def m_V(v):\n",
    "    return (np.exp(-(v + 1) / 4) / 4) if v > -1 else 0\n",
    "\n",
    "def M_V(v):\n",
    "    return 1 - np.exp(-(v + 1) / 4) if v > -1 else 0\n",
    "\n",
    "# Plotting the densities and distribution functions\n",
    "x_vals = np.linspace(0, 4, 1000)\n",
    "y_vals = np.linspace(0, 10, 1000)\n",
    "v_vals = np.linspace(-1, 10, 1000)\n",
    "\n",
    "# Plot for 2X\n",
    "plt.figure(figsize=(12, 6))\n",
    "plt.subplot(1, 3, 1)\n",
    "plt.plot(x_vals, [h_Z(z) for z in x_vals], label='h_Z(z)')\n",
    "plt.plot(x_vals, [H_Z(z) for z in x_vals], label='H_Z(z)')\n",
    "plt.title('2X')\n",
    "plt.legend()\n",
    "\n",
    "# Plot for Y^2\n",
    "plt.subplot(1, 3, 2)\n",
    "plt.plot(y_vals, [k_W(w) for w in y_vals], label='k_W(w)')\n",
    "plt.plot(y_vals, [K_W(w) for w in y_vals], label='K_W(w)')\n",
    "plt.title('Y^2')\n",
    "plt.legend()\n",
    "\n",
    "# Plot for 4Y - 1\n",
    "plt.subplot(1, 3, 3)\n",
    "plt.plot(v_vals, [m_V(v) for v in v_vals], label='m_V(v)')\n",
    "plt.plot(v_vals, [M_V(v) for v in v_vals], label='M_V(v)')\n",
    "plt.title('4Y - 1')\n",
    "plt.legend()\n",
    "\n",
    "plt.tight_layout()\n",
    "plt.show()"
   ]
  }
 ],
 "metadata": {
  "kernelspec": {
   "display_name": "Python 3",
   "language": "python",
   "name": "python3"
  },
  "language_info": {
   "codemirror_mode": {
    "name": "ipython",
    "version": 3
   },
   "file_extension": ".py",
   "mimetype": "text/x-python",
   "name": "python",
   "nbconvert_exporter": "python",
   "pygments_lexer": "ipython3",
   "version": "3.12.6"
  }
 },
 "nbformat": 4,
 "nbformat_minor": 4
}
