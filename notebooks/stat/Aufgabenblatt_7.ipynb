{
 "cells": [
  {
   "cell_type": "markdown",
   "metadata": {},
   "source": [
    "# Aufgabenblatt 7"
   ]
  },
  {
   "cell_type": "markdown",
   "metadata": {},
   "source": [
    "## Schätzverfahren"
   ]
  },
  {
   "cell_type": "markdown",
   "metadata": {},
   "source": [
    "### Aufgabe 1"
   ]
  },
  {
   "cell_type": "markdown",
   "metadata": {},
   "source": [
    "12 Versuchsflächen werden mit einer neuen Weizensorte bestellt. Diese Flächen erbrachten folgende Hektarerträge:\n",
    "\n",
    "35.6 33.7 37.8 31.2 37.2 34.1 35.8 36.6 37.1 34.9 35.6 34.0\n",
    "\n",
    "Aus Erfahrung weiß man, dass die Hektarerträge als eine Realisierung unabhängiger, $N(\\mu,3.24)$-verteilter Zufallsvariablen angesehen werden können. Man gebe für den Erwartungswert $\\mu$ ein konkretes Schätzintervall zum Niveau 0.95 an."
   ]
  },
  {
   "cell_type": "code",
   "execution_count": null,
   "metadata": {},
   "outputs": [],
   "source": [
    "he <- c(35.6, 33.7, 37.8, 31.2, 37.2, 34.1, 35.8, 36.6, 37.1, 34.9, 35.6, 34.0)"
   ]
  },
  {
   "cell_type": "markdown",
   "metadata": {},
   "source": [
    "Um ein Schätzintervall für den Erwartungswert $\\mu$ der Hektarerträge zum Niveau 0.95 zu bestimmen, gehen wir wie folgt vor:\n",
    "\n",
    "1. **Gegebene Daten und Annahmen:**\n",
    "    - Stichprobengröße $n = 12$\n",
    "    - Stichprobenmittelwert $\\overline{x}$\n",
    "    - Varianz $\\sigma^2 = 3.24$\n",
    "    - Konfidenzniveau $1 - \\alpha = 0.95$\n",
    "\n",
    "2. **Berechnung des Stichprobenmittelwerts:**\n",
    "    $$\n",
    "    \\overline{x} = \\frac{1}{n} \\sum_{i=1}^{n} x_i = \\frac{1}{12} (35.6 + 33.7 + 37.8 + 31.2 + 37.2 + 34.1 + 35.8 + 36.6 + 37.1 + 34.9 + 35.6 + 34.0) = 35.3\n",
    "    $$\n",
    "\n",
    "3. **Berechnung des Standardfehlers des Mittelwerts:**\n",
    "    $$\n",
    "    SE = \\frac{\\sigma}{\\sqrt{n}} = \\frac{\\sqrt{3.24}}{\\sqrt{12}} = \\frac{1.8}{\\sqrt{12}} = 0.5196\n",
    "    $$\n",
    "\n",
    "4. **Bestimmung des kritischen Werts $z_{\\alpha/2}$ für das Konfidenzniveau 0.95:**\n",
    "    $$\n",
    "    z_{\\alpha/2} = 1.95996\n",
    "    $$\n",
    "\n",
    "5. **Berechnung des Konfidenzintervalls:**\n",
    "    $$\n",
    "    \\overline{x} \\pm z_{\\alpha/2} \\cdot SE = 35.3 \\pm 1.95996 \\cdot 0.5196\n",
    "    $$\n",
    "    $$\n",
    "    = 35.3 \\pm 1.0184\n",
    "    $$\n",
    "    $$\n",
    "    = [34.2816, 36.3184]\n",
    "    $$\n",
    "\n",
    "**Zwischenergebnisse:**\n",
    "- Stichprobenmittelwert $\\overline{x} = 35.3$\n",
    "- Standardfehler $SE = 0.5196$\n",
    "- Kritischer Wert $z_{\\alpha/2} = 1.95996\n",
    "\n",
    "**Endergebnis:**\n",
    "- Das 95%-Konfidenzintervall für den Erwartungswert $\\mu$ der Hektarerträge beträgt $[34.2816, 36.3184]$."
   ]
  },
  {
   "cell_type": "code",
   "execution_count": 4,
   "metadata": {},
   "outputs": [
    {
     "data": {
      "text/plain": [
       "(34.28157283933145, 36.318427160668556, 35.300000000000004, 1.959963984540054)"
      ]
     },
     "execution_count": 4,
     "metadata": {},
     "output_type": "execute_result"
    }
   ],
   "source": [
    "import numpy as np\n",
    "import scipy.stats as stats\n",
    "\n",
    "# Gegebene Daten\n",
    "he = np.array([35.6, 33.7, 37.8, 31.2, 37.2, 34.1, 35.8, 36.6, 37.1, 34.9, 35.6, 34.0])\n",
    "\n",
    "# Stichprobengröße\n",
    "n = len(he)\n",
    "\n",
    "# Stichprobenmittelwert\n",
    "mean_he = np.mean(he)\n",
    "\n",
    "# Varianz\n",
    "sigma_squared = 3.24\n",
    "sigma = np.sqrt(sigma_squared)\n",
    "\n",
    "# Standardfehler des Mittelwerts\n",
    "SE = sigma / np.sqrt(n)\n",
    "\n",
    "# Konfidenzniveau\n",
    "confidence_level = 0.95\n",
    "z = stats.norm.ppf(1 - (1 - confidence_level) / 2)\n",
    "\n",
    "# Konfidenzintervall\n",
    "ci_lower = mean_he - z * SE\n",
    "ci_upper = mean_he + z * SE\n",
    "\n",
    "(ci_lower, ci_upper, mean_he, z)"
   ]
  },
  {
   "cell_type": "markdown",
   "metadata": {},
   "source": [
    "### Aufgabe 2"
   ]
  },
  {
   "cell_type": "markdown",
   "metadata": {},
   "source": [
    "Für die Gewichte von Warenpackungen wird angenommen, dass sie durch unabhängige $N(\\mu,\\sigma^2)$-verteilte Zufallsvariablen beschrieben werden können, wobei $\\mu$ und $\\sigma^2$ unbekannt seien. Eine Stichprobe vom Umfang 10 aus dem Warenlager ergab für die Gewichte:\n",
    "\n",
    "20.40 20.25 19.80 20.00 20.05 19.90 20.50 20.15 20.20 20.10\n",
    "\n",
    "Man bestimme ein konkretes Schätzintervall der Form $[a,\\infty)$ für $\\mu$ zum Niveau 0.99."
   ]
  },
  {
   "cell_type": "code",
   "execution_count": null,
   "metadata": {},
   "outputs": [],
   "source": [
    "wpg <- c(20.40, 20.25, 19.80, 20.00, 20.05, 19.90, 20.50, 20.15, 20.20, 20.10)"
   ]
  },
  {
   "cell_type": "markdown",
   "metadata": {},
   "source": [
    "Um ein Schätzintervall für den Erwartungswert $\\mu$ der Gewichte der Warenpackungen zum Niveau 0.99 zu bestimmen, gehen wir wie folgt vor:\n",
    "\n",
    "1. **Gegebene Daten und Annahmen:**\n",
    "    - Stichprobengröße $n = 10$\n",
    "    - Stichprobenmittelwert $\\overline{x}$\n",
    "    - Stichprobenstandardabweichung $s$\n",
    "    - Konfidenzniveau $1 - \\alpha = 0.99$\n",
    "\n",
    "2. **Berechnung des Stichprobenmittelwerts:**\n",
    "    $$\n",
    "    \\overline{x} = \\frac{1}{n} \\sum_{i=1}^{n} x_i = \\frac{1}{10} (20.40 + 20.25 + 19.80 + 20.00 + 20.05 + 19.90 + 20.50 + 20.15 + 20.20 + 20.10) = 20.135\n",
    "    $$\n",
    "\n",
    "3. **Berechnung des Standardfehlers des Mittelwerts:**\n",
    "    $$\n",
    "    SE = \\frac{s}{\\sqrt{n}} = \\frac{0.2148}{\\sqrt{10}} = 0.0679\n",
    "    $$\n",
    "\n",
    "4. **Bestimmung des kritischen Werts $t_{\\alpha}$ für das Konfidenzniveau 0.99 und $n-1$ Freiheitsgrade:**\n",
    "    $$\n",
    "    t_{\\alpha} = 2.821\n",
    "    $$\n",
    "\n",
    "5. **Berechnung des Konfidenzintervalls:**\n",
    "    $$\n",
    "    \\overline{x} - t_{\\alpha} \\cdot SE = 20.135 - 2.821 \\cdot 0.0679 = 19.943\n",
    "    $$\n",
    "\n",
    "**Zwischenergebnisse:**\n",
    "- Stichprobenmittelwert $\\overline{x} = 20.135$\n",
    "- Standardfehler $SE = 0.0679$\n",
    "- Kritischer Wert $t_{\\alpha} = 2.821$\n",
    "\n",
    "**Endergebnis:**\n",
    "- Das 99%-Konfidenzintervall für den Erwartungswert $\\mu$ der Gewichte der Warenpackungen beträgt $[19.943, \\infty)$."
   ]
  },
  {
   "cell_type": "code",
   "execution_count": 7,
   "metadata": {},
   "outputs": [
    {
     "data": {
      "text/plain": [
       "(19.943352099661546, 20.134999999999998, 2.821437925025808)"
      ]
     },
     "execution_count": 7,
     "metadata": {},
     "output_type": "execute_result"
    }
   ],
   "source": [
    "import numpy as np\n",
    "import scipy.stats as stats\n",
    "\n",
    "# Gegebene Daten\n",
    "wpg = np.array([20.40, 20.25, 19.80, 20.00, 20.05, 19.90, 20.50, 20.15, 20.20, 20.10])\n",
    "\n",
    "# Stichprobengröße\n",
    "n_wpg = len(wpg)\n",
    "\n",
    "# Stichprobenmittelwert\n",
    "mean_wpg = np.mean(wpg)\n",
    "\n",
    "# Stichprobenstandardabweichung\n",
    "std_wpg = np.std(wpg, ddof=1)\n",
    "\n",
    "# Konfidenzniveau\n",
    "confidence_level_wpg = 0.99\n",
    "alpha = 1 - confidence_level_wpg\n",
    "\n",
    "# t-Wert für das Konfidenzniveau und n-1 Freiheitsgrade\n",
    "t_value = stats.t.ppf(1 - alpha, df=n_wpg - 1)\n",
    "\n",
    "# Standardfehler des Mittelwerts\n",
    "SE_wpg = std_wpg / np.sqrt(n_wpg)\n",
    "\n",
    "# Untere Grenze des Konfidenzintervalls\n",
    "ci_lower_wpg = mean_wpg - t_value * SE_wpg\n",
    "\n",
    "(ci_lower_wpg, mean_wpg, t_value)"
   ]
  },
  {
   "cell_type": "markdown",
   "metadata": {},
   "source": [
    "### Aufgabe 3"
   ]
  },
  {
   "cell_type": "markdown",
   "metadata": {},
   "source": [
    "In einer Stadt liegen für 161 Jahre die Niederschlagsmengen im Monat April vor. Die Messreihe $x_1,\\ldots,x_{161}$ ($x_i=$ Niederschlagshöhe in mm im $i$-ten Jahr) hat das arithmetische Mittel $\\overline{x}=53.68$ und die empirische Streuung $s=6.13$. Es wird angenommen, dass die Werte $x_1,\\ldots,x_{161}$ eine Realisierung von 161 unabhängigen, identisch $N(\\mu,\\sigma^2)$-verteilten Zufallsvariablen sind. Mit Konfidenzschätzverfahren zum Niveau $1-\\alpha=0.98$ bestimme man je ein konkretes Schätzintervall\n",
    "\n",
    "a) für $\\mu$  \n",
    "b) für $\\sigma^2$  \n",
    "c) für $\\mu$ unter der Voraussetzung $\\sigma^2=6.13^2$\n"
   ]
  },
  {
   "cell_type": "markdown",
   "metadata": {},
   "source": [
    "Um ein Schätzintervall für den Erwartungswert $\\mu$ und die Varianz $\\sigma^2$ der Niederschlagsmengen im Monat April zum Niveau 0.98 zu bestimmen, gehen wir wie folgt vor:\n",
    "\n",
    "1. **Gegebene Daten und Annahmen:**\n",
    "    - Stichprobengröße $n = 161$\n",
    "    - Stichprobenmittelwert $\\overline{x} = 53.68$\n",
    "    - Stichprobenstandardabweichung $s = 6.13$\n",
    "    - Konfidenzniveau $1 - \\alpha = 0.98$\n",
    "\n",
    "2. **Berechnung des Standardfehlers des Mittelwerts:**\n",
    "    $$\n",
    "    SE = \\frac{s}{\\sqrt{n}} = \\frac{6.13}{\\sqrt{161}} = 0.4831\n",
    "    $$\n",
    "\n",
    "3. **Bestimmung des kritischen Werts $t_{\\alpha/2}$ für das Konfidenzniveau 0.98 und $n-1$ Freiheitsgrade:**\n",
    "    $$\n",
    "    t_{\\alpha/2} = 2.3499\n",
    "    $$\n",
    "\n",
    "4. **Berechnung des Konfidenzintervalls für $\\mu$:**\n",
    "    $$\n",
    "    \\overline{x} \\pm t_{\\alpha/2} \\cdot SE = 53.68 \\pm 2.3499 \\cdot 0.4831\n",
    "    $$\n",
    "    $$\n",
    "    = 53.68 \\pm 1.1353\n",
    "    $$\n",
    "    $$\n",
    "    = [52.5447, 54.8153]\n",
    "    $$\n",
    "\n",
    "5. **Berechnung des Konfidenzintervalls für $\\sigma^2$:**\n",
    "    - Bestimmung der kritischen Werte $\\chi^2_{\\alpha/2}$ und $\\chi^2_{1-\\alpha/2}$ für das Konfidenzniveau 0.98 und $n-1$ Freiheitsgrade:\n",
    "        $$\n",
    "        \\chi^2_{\\alpha/2} = 204.5301, \\quad \\chi^2_{1-\\alpha/2} = 121.3456\n",
    "        $$\n",
    "    - Berechnung des Konfidenzintervalls:\n",
    "        $$\n",
    "        \\left( \\frac{(n-1)s^2}{\\chi^2_{1-\\alpha/2}}, \\frac{(n-1)s^2}{\\chi^2_{\\alpha/2}} \\right) = \\left( \\frac{160 \\cdot 6.13^2}{204.5301}, \\frac{160 \\cdot 6.13^2}{121.3456} \\right)\n",
    "        $$\n",
    "        $$\n",
    "        = (29.3957, 49.5469)\n",
    "        $$\n",
    "\n",
    "6. **Berechnung des Konfidenzintervalls für $\\mu$ unter der Voraussetzung $\\sigma^2 = 6.13^2$:**\n",
    "    - Berechnung des Standardfehlers des Mittelwerts:\n",
    "        $$\n",
    "        SE = \\frac{\\sigma}{\\sqrt{n}} = \\frac{6.13}{\\sqrt{161}} = 0.4831\n",
    "        $$\n",
    "    - Bestimmung des kritischen Werts $z_{\\alpha/2}$ für das Konfidenzniveau 0.98:\n",
    "        $$\n",
    "        z_{\\alpha/2} = 2.3263\n",
    "        $$\n",
    "    - Berechnung des Konfidenzintervalls:\n",
    "        $$\n",
    "        \\overline{x} \\pm z_{\\alpha/2} \\cdot SE = 53.68 \\pm 2.3263 \\cdot 0.4831\n",
    "        $$\n",
    "        $$\n",
    "        = 53.68 \\pm 1.1249\n",
    "        $$\n",
    "        $$\n",
    "        = [52.5561, 54.8039]\n",
    "        $$\n",
    "\n",
    "**Zwischenergebnisse:**\n",
    "- Stichprobenmittelwert $\\overline{x} = 53.68$\n",
    "- Standardfehler $SE = 0.4831$\n",
    "- Kritischer Wert $t_{\\alpha/2} = 2.3499$\n",
    "- Kritischer Wert $z_{\\alpha/2} = 2.3263$\n",
    "- Kritische Werte $\\chi^2_{\\alpha/2} = 204.5301$, $\\chi^2_{1-\\alpha/2} = 121.3456$\n",
    "\n",
    "**Endergebnisse:**\n",
    "- Das 98%-Konfidenzintervall für den Erwartungswert $\\mu$ der Niederschlagsmengen beträgt $[52.5447, 54.8153]$.\n",
    "- Das 98%-Konfidenzintervall für die Varianz $\\sigma^2$ der Niederschlagsmengen beträgt $[29.3957, 49.5469]$.\n",
    "- Das 98%-Konfidenzintervall für den Erwartungswert $\\mu$ der Niederschlagsmengen unter der Voraussetzung $\\sigma^2 = 6.13^2$ beträgt $[52.5561, 54.8039]$."
   ]
  },
  {
   "cell_type": "code",
   "execution_count": 5,
   "metadata": {},
   "outputs": [
    {
     "data": {
      "text/plain": [
       "(52.54474568977552,\n",
       " 54.81525431022448,\n",
       " 29.395693636385896,\n",
       " 49.54693467264516,\n",
       " 52.55611417257689,\n",
       " 54.80388582742311)"
      ]
     },
     "execution_count": 5,
     "metadata": {},
     "output_type": "execute_result"
    }
   ],
   "source": [
    "import numpy as np\n",
    "import scipy.stats as stats\n",
    "\n",
    "# Gegebene Daten\n",
    "n_april = 161\n",
    "mean_april = 53.68\n",
    "s_april = 6.13\n",
    "\n",
    "# Konfidenzniveau\n",
    "confidence_level_april = 0.98\n",
    "alpha_april = 1 - confidence_level_april\n",
    "\n",
    "# Aufgabe 3a: Konfidenzintervall für μ\n",
    "# t-Wert für das Konfidenzniveau und n-1 Freiheitsgrade\n",
    "t_value_april = stats.t.ppf(1 - alpha_april / 2, df=n_april - 1)\n",
    "\n",
    "# Standardfehler des Mittelwerts\n",
    "SE_april = s_april / np.sqrt(n_april)\n",
    "\n",
    "# Konfidenzintervall für μ\n",
    "ci_lower_mu = mean_april - t_value_april * SE_april\n",
    "ci_upper_mu = mean_april + t_value_april * SE_april\n",
    "\n",
    "# Aufgabe 3b: Konfidenzintervall für σ^2\n",
    "chi2_lower = stats.chi2.ppf(alpha_april / 2, df=n_april - 1)\n",
    "chi2_upper = stats.chi2.ppf(1 - alpha_april / 2, df=n_april - 1)\n",
    "\n",
    "ci_lower_sigma_squared = (n_april - 1) * s_april**2 / chi2_upper\n",
    "ci_upper_sigma_squared = (n_april - 1) * s_april**2 / chi2_lower\n",
    "\n",
    "# Aufgabe 3c: Konfidenzintervall für μ unter der Voraussetzung σ^2 = 6.13^2\n",
    "sigma_known = 6.13\n",
    "SE_known = sigma_known / np.sqrt(n_april)\n",
    "z_value = stats.norm.ppf(1 - alpha_april / 2)\n",
    "\n",
    "ci_lower_mu_known = mean_april - z_value * SE_known\n",
    "ci_upper_mu_known = mean_april + z_value * SE_known\n",
    "\n",
    "(ci_lower_mu, ci_upper_mu, ci_lower_sigma_squared, ci_upper_sigma_squared, ci_lower_mu_known, ci_upper_mu_known)"
   ]
  },
  {
   "cell_type": "markdown",
   "metadata": {},
   "source": [
    "### Aufgabe 4"
   ]
  },
  {
   "cell_type": "markdown",
   "metadata": {},
   "source": [
    "Ein Fahrkartenkontrolleur überprüft einen Tag lang auf verschiedenen Darmstädter Straßenbahnlinien die Fahrkarten von Fahrgästen. Er überprüft jeweils solange bis er einen Fahrgast ohne gültigen Fahrschein antrifft. Nach Ausstellung eines Strafprotokolls kassiert er von diesem ein Bußgeld und beginnt nach einer Pause mit einer neuen Überprüfung.\n",
    "\n",
    "Die folgenden Zahlen geben an, wie viele Fahrgäste bei 10 solchen Überprüfungen jeweils überprüft wurden, bis ein Bußgeld fällig wurde:\n",
    "\n",
    "42 50 40 64 30 36 68 42 46 48\n",
    "\n",
    "Beschreibt die Zufallsvariable $X$ die Anzahl der Personen, die überprüft werden, bis ein Fahrgast ohne gültigen Fahrausweis angetroffen wird, so kann angenommen werden, dass\n",
    "\n",
    "$$P_\\theta (X=n) = (1-\\theta)^{n-1}\\cdot\\theta$$\n",
    "\n",
    "gilt, wobei $\\theta\\cdot 100\\%$ als prozentualer Anteil der Schwarzfahrer unter allen Fahrgästen zu interpretieren ist.\n",
    "\n",
    "Man bestimme aufgrund obiger Messwerte einen Maximum-Likelihood-Schätzwert für $\\theta$.\n"
   ]
  },
  {
   "cell_type": "code",
   "execution_count": null,
   "metadata": {},
   "outputs": [],
   "source": [
    "afg = c(42, 50, 40, 64, 30, 36, 68, 42, 46, 48)"
   ]
  },
  {
   "cell_type": "markdown",
   "metadata": {},
   "source": [
    "### Aufgabe 4\n",
    "\n",
    "Ein Fahrkartenkontrolleur überprüft einen Tag lang auf verschiedenen Darmstädter Straßenbahnlinien die Fahrkarten von Fahrgästen. Er überprüft jeweils solange bis er einen Fahrgast ohne gültigen Fahrschein antrifft. Nach Ausstellung eines Strafprotokolls kassiert er von diesem ein Bußgeld und beginnt nach einer Pause mit einer neuen Überprüfung.\n",
    "\n",
    "Die folgenden Zahlen geben an, wie viele Fahrgäste bei 10 solchen Überprüfungen jeweils überprüft wurden, bis ein Bußgeld fällig wurde:\n",
    "\n",
    "42 50 40 64 30 36 68 42 46 48\n",
    "\n",
    "Beschreibt die Zufallsvariable $X$ die Anzahl der Personen, die überprüft werden, bis ein Fahrgast ohne gültigen Fahrausweis angetroffen wird, so kann angenommen werden, dass\n",
    "\n",
    "$$P_\\theta (X=n) = (1-\\theta)^{n-1}\\cdot\\theta$$\n",
    "\n",
    "gilt, wobei $\\theta\\cdot 100\\%$ als prozentualer Anteil der Schwarzfahrer unter allen Fahrgästen zu interpretieren ist.\n",
    "\n",
    "Man bestimme aufgrund obiger Messwerte einen Maximum-Likelihood-Schätzwert für $\\theta$.\n",
    "\n",
    "**Lösung:**\n",
    "\n",
    "1. **Gegebene Daten und Annahmen:**\n",
    "    - Stichprobengröße $n = 10$\n",
    "    - Beobachtete Werte: $42, 50, 40, 64, 30, 36, 68, 42, 46, 48$\n",
    "\n",
    "2. **Likelihood-Funktion:**\n",
    "    Die Likelihood-Funktion für die gegebene Verteilung ist:\n",
    "    $$\n",
    "    L(\\theta) = \\prod_{i=1}^{n} P_\\theta(X=x_i) = \\prod_{i=1}^{n} (1-\\theta)^{x_i-1} \\cdot \\theta\n",
    "    $$\n",
    "    $$\n",
    "    = \\theta^n \\cdot (1-\\theta)^{\\sum_{i=1}^{n} (x_i - 1)}\n",
    "    $$\n",
    "\n",
    "3. **Log-Likelihood-Funktion:**\n",
    "    Die Log-Likelihood-Funktion ist:\n",
    "    $$\n",
    "    \\ell(\\theta) = \\log L(\\theta) = \\log \\left( \\theta^n \\cdot (1-\\theta)^{\\sum_{i=1}^{n} (x_i - 1)} \\right)\n",
    "    $$\n",
    "    $$\n",
    "    = n \\log \\theta + \\left( \\sum_{i=1}^{n} (x_i - 1) \\right) \\log (1-\\theta)\n",
    "    $$\n",
    "\n",
    "4. **Maximum-Likelihood-Schätzer:**\n",
    "    Um den Maximum-Likelihood-Schätzer für $\\theta$ zu finden, setzen wir die Ableitung der Log-Likelihood-Funktion gleich null:\n",
    "    $$\n",
    "    \\frac{d\\ell(\\theta)}{d\\theta} = \\frac{n}{\\theta} - \\frac{\\sum_{i=1}^{n} (x_i - 1)}{1-\\theta} = 0\n",
    "    $$\n",
    "    $$\n",
    "    \\Rightarrow \\theta = \\frac{n}{n + \\sum_{i=1}^{n} (x_i - 1)}\n",
    "    $$\n",
    "\n",
    "5. **Berechnung:**\n",
    "    $$\n",
    "    \\sum_{i=1}^{n} (x_i - 1) = (42-1) + (50-1) + (40-1) + (64-1) + (30-1) + (36-1) + (68-1) + (42-1) + (46-1) + (48-1)\n",
    "    $$\n",
    "    $$\n",
    "    = 41 + 49 + 39 + 63 + 29 + 35 + 67 + 41 + 45 + 47 = 456\n",
    "    $$\n",
    "    $$\n",
    "    \\theta = \\frac{10}{10 + 456} = \\frac{10}{466} \\approx 0.0215\n",
    "    $$\n",
    "\n",
    "**Endergebnis:**\n",
    "- Der Maximum-Likelihood-Schätzwert für $\\theta$ beträgt $\\hat{\\theta} \\approx 0.0215$."
   ]
  },
  {
   "cell_type": "code",
   "execution_count": 9,
   "metadata": {},
   "outputs": [
    {
     "data": {
      "text/plain": [
       "0.02145922746781116"
      ]
     },
     "execution_count": 9,
     "metadata": {},
     "output_type": "execute_result"
    }
   ],
   "source": [
    "import numpy as np\n",
    "\n",
    "# Gegebene Daten\n",
    "afg = np.array([42, 50, 40, 64, 30, 36, 68, 42, 46, 48])\n",
    "\n",
    "# Stichprobengröße\n",
    "n_afg = len(afg)\n",
    "\n",
    "# Maximum-Likelihood-Schätzwert für θ\n",
    "theta_mle = 1 / np.mean(afg)\n",
    "\n",
    "theta_mle"
   ]
  },
  {
   "cell_type": "markdown",
   "metadata": {},
   "source": [
    "### Aufgabe 5\n",
    "*(nur manuell)*"
   ]
  },
  {
   "cell_type": "markdown",
   "metadata": {},
   "source": [
    "Ein System bestehe aus den Komponenten $K_1$, $K_2$ und $K_3$, die hintereinander geschaltet sind, d.h. das System fällt aus, wenn mindestens eine Komponente ausfällt.\n",
    "\n",
    "Dabei wird angenommen, dass die Lebensdauern der Komponenten $K_1,K_2,K_3$ durch unabhängige, stetig verteilte Zufallsvariablen $X_1,X_2,X_3$ beschrieben werden können. $X_1$ sei exponentialverteilt mit Erwartungswert $\\frac{1}{\\theta}>0$, $X_2$ und $X_3$ seien identisch verteilt mit Dichte\n",
    "\n",
    "$$f_\\theta (x)=\\left\\{\n",
    "                        \\begin{array}{ll}\n",
    "                          \\frac{\\theta}{3\\sqrt[3]{x^2}}e^{-\\theta\\sqrt[3]{x}} & \\textrm{für } x>0\\\\\n",
    "                          0 & \\textrm{sonst} \\\\\n",
    "                        \\end{array}\n",
    "                      \\right)$$\n",
    "                      \n",
    "(Weibull-Verteilung)\n",
    "\n",
    "Man berechne Verteilungsfunktion und Dichte für die zufällige Lebensdauer $S$ des Systems."
   ]
  },
  {
   "cell_type": "markdown",
   "metadata": {},
   "source": [
    "### Aufgabe 6"
   ]
  },
  {
   "cell_type": "markdown",
   "metadata": {},
   "source": [
    "In Fortsetzung der vorangegangenen Aufgabe ergaben sich bei Messungen der Lebensdauer des Systems folgende Werte (in Std.):\n",
    "\n",
    "82.2 94.0 122.5 95.8 106.4\n",
    "\n",
    "Man gebe die Likelihood-Funktion an und bestimme den Maximum-Likelihood-Schätzwert für $\\theta$."
   ]
  },
  {
   "cell_type": "code",
   "execution_count": null,
   "metadata": {},
   "outputs": [],
   "source": [
    "lds <- c(82.2, 94.0, 122.5, 95.8, 106.4)"
   ]
  },
  {
   "cell_type": "markdown",
   "metadata": {},
   "source": [
    "### Aufgabe 7\n",
    "*(nur manuell)*"
   ]
  },
  {
   "cell_type": "markdown",
   "metadata": {},
   "source": [
    "In einer Urne befindet sich eine (unbekannte) Anzahl $\\theta$ von Kugeln, die mit den Zahlen $1,2,\\ldots,\\theta$ durchnummeriert sind. Die Anzahl $\\theta$ der Kugeln soll geschätzt werden. Dazu wird aus der Urne eine Kugel gezogen und ihre Nummer notiert. Die Zufallsvariable $X$ beschreibe die Nummer der gezogenen Kugel.\n",
    "\n",
    "a) Man bestimme die Verteilung von $X$ in Abhängigkeit von $\\theta$.  \n",
    "b) Man zeige, dass $T(X)=2X-1$ ein erwartungstreuer Schätzer für $\\theta$ ist.  \n",
    "c) In den Fällen $\\theta=4$ und $\\theta=5$ berechne man jeweils die Wahrscheinlichkeit dafür, dass $\\theta$ mit $T$ exakt geschätzt wird.  \n",
    "d) Man berechne die Varianz von $T$."
   ]
  },
  {
   "cell_type": "markdown",
   "metadata": {},
   "source": [
    "### Aufgabe 8\n",
    "*(nur manuell)*"
   ]
  },
  {
   "cell_type": "markdown",
   "metadata": {},
   "source": [
    "In Fortsetzung der vorangegangenen Aufgabe sollen nun zwei Kugeln mit Zurücklegen gezogen werden. Ihre Nummern werden durch die Zufallsvariablen $X_1$ und $X_2$ beschrieben. Sei\n",
    "\n",
    "$$X^*=\\max(X_1,X_2)$$\n",
    "\n",
    "a) Man bestimme die Verteilung von $X^*$.  \n",
    "b) Man zeige, dass\n",
    "\n",
    "$$T(X^*)=\\frac{1}{2X^*-1}\\cdot\\left((X^*)^3-(X^*-1)^3\\right)$$\n",
    "\n",
    "ein erwartungstreuer Schätzer für $\\theta$ ist."
   ]
  }
 ],
 "metadata": {
  "kernelspec": {
   "display_name": "Python 3",
   "language": "python",
   "name": "python3"
  },
  "language_info": {
   "codemirror_mode": {
    "name": "ipython",
    "version": 3
   },
   "file_extension": ".py",
   "mimetype": "text/x-python",
   "name": "python",
   "nbconvert_exporter": "python",
   "pygments_lexer": "ipython3",
   "version": "3.12.6"
  }
 },
 "nbformat": 4,
 "nbformat_minor": 4
}
