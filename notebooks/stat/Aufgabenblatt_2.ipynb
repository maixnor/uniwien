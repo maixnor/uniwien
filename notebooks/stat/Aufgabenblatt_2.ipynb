{
 "cells": [
  {
   "cell_type": "markdown",
   "metadata": {},
   "source": [
    "# Aufgabenblatt 2"
   ]
  },
  {
   "cell_type": "markdown",
   "metadata": {},
   "source": [
    "## Kombinatorik"
   ]
  },
  {
   "cell_type": "markdown",
   "metadata": {},
   "source": [
    "### Disclaimer\n",
    "\n",
    "Manche Beispiele wurden gemeinsam mit anderen Studierenden geloest. Texte wurden mit GPT aufpoliert, der Informationsgehalt sowie Code stammt jedoch von mir."
   ]
  },
  {
   "cell_type": "markdown",
   "metadata": {},
   "source": [
    "### Aufgabe 1"
   ]
  },
  {
   "cell_type": "markdown",
   "metadata": {},
   "source": [
    "Wie viele gleich lange Worte lassen sich aus dem Wort STATISTIK bilden?"
   ]
  },
  {
   "cell_type": "markdown",
   "metadata": {},
   "source": [
    "Das Wort 'STATISTIK' besteht aus 9 Buchstaben, wobei einige Buchstaben mehrfach vorkommen:\n",
    "- S: 2 Mal\n",
    "- T: 2 Mal\n",
    "- A: 1 Mal\n",
    "- I: 2 Mal\n",
    "- K: 1 Mal\n",
    "\n",
    "Die Anzahl der möglichen Permutationen eines Wortes mit mehrfachen Buchstaben wird mit der Formel für Permutationen mit Wiederholung berechnet:\n",
    "$\n",
    "P = \\frac{n!}{n_1! \\cdot n_2! \\cdot \\ldots \\cdot n_k!}\n",
    "$\n",
    "In unserem Fall ist $n = 9$, und die Wiederholungen sind $n_S = 2$, $n_T = 2$, $n_I = 2$."
   ]
  },
  {
   "cell_type": "code",
   "execution_count": null,
   "metadata": {
    "vscode": {
     "languageId": "r"
    }
   },
   "outputs": [],
   "source": [
    "from sympy import factorial\n",
    "\n",
    "# Total number of letters\n",
    "n = 9\n",
    "\n",
    "# Frequencies of repeated letters: S, T, I each appear 2 times\n",
    "repeated_counts = [2, 2, 2]\n",
    "\n",
    "# Calculate the number of distinct permutations\n",
    "P = factorial(n)\n",
    "for count in repeated_counts:\n",
    "    P /= factorial(count)\n",
    "\n",
    "P"
   ]
  },
  {
   "cell_type": "markdown",
   "metadata": {},
   "source": [
    "### Aufgabe 2"
   ]
  },
  {
   "cell_type": "markdown",
   "metadata": {},
   "source": [
    "Einer Studentin werden bei einer Prüfung 12 Fragen vorgelegt. Sie darf davon 4 auswählen. Man berechne die Anzahl der Wahlmöglichkeiten, wenn sie aus den ersten 6 Fragen mindestens drei auswählen muss."
   ]
  },
  {
   "cell_type": "markdown",
   "metadata": {},
   "source": [
    "Wir betrachten zwei Fälle:\n",
    "1. Sie wählt genau 3 Fragen aus den ersten 6.\n",
    "2. Sie wählt alle 4 Fragen aus den ersten 6.\n",
    "\n",
    "Für Fall 1:\n",
    "- Anzahl der Möglichkeiten, 3 Fragen aus den ersten 6 auszuwählen: $\\binom{6}{3}$\n",
    "- Anzahl der Möglichkeiten, 1 Frage aus den restlichen 6 auszuwählen: $\\binom{6}{1}$\n",
    "\n",
    "Für Fall 2:\n",
    "- Anzahl der Möglichkeiten, 4 Fragen aus den ersten 6 auszuwählen: $\\binom{6}{4}$\n",
    "\n",
    "Die Gesamtanzahl der Möglichkeiten ist die Summe beider Fälle:\n",
    "$\n",
    "N = \\binom{6}{3} \\cdot \\binom{6}{1} + \\binom{6}{4}\n",
    "$"
   ]
  },
  {
   "cell_type": "code",
   "execution_count": null,
   "metadata": {
    "vscode": {
     "languageId": "r"
    }
   },
   "outputs": [],
   "source": [
    "from sympy import binomial\n",
    "\n",
    "# Case 1: Choose 3 from first 6, and 1 from the rest 6\n",
    "case_1 = binomial(6, 3) * binomial(6, 1)\n",
    "\n",
    "# Case 2: Choose 4 from the first 6\n",
    "case_2 = binomial(6, 4)\n",
    "\n",
    "# Total number of ways\n",
    "N = case_1 + case_2\n",
    "N"
   ]
  },
  {
   "cell_type": "markdown",
   "metadata": {},
   "source": [
    "### Aufgabe 3"
   ]
  },
  {
   "cell_type": "markdown",
   "metadata": {},
   "source": [
    "Bei einem Radrennen mit 10 Startern wird in jeweils 4 Rennen der\n",
    "Sieger ermittelt. Wie viele mögliche Gesamtergebnisse gibt es, wenn\n",
    "nur die Anzahl der gewonnenen Rennen berücksichtigt wird?"
   ]
  },
  {
   "cell_type": "markdown",
   "metadata": {},
   "source": [
    "Da nur die Anzahl der gewonnenen Rennen betrachtet wird, entspricht dies einer Kombination mit Wiederholung der Gesamtanzahl von Siegern.\n",
    "Die Anzahl der möglichen Verteilungen der Siege lässt sich durch die Formel der Kombinationen mit Wiederholung berechnen:\n",
    "\n",
    "$\n",
    "\\binom{n + k - 1}{k} = \\binom{10 + 4 - 1}{4} = \\binom{13}{4}\n",
    "$"
   ]
  },
  {
   "cell_type": "code",
   "execution_count": null,
   "metadata": {
    "vscode": {
     "languageId": "r"
    }
   },
   "outputs": [],
   "source": [
    "n, k = 10, 4\n",
    "total_combinations = binomial(n + k - 1, k)\n",
    "total_combinations"
   ]
  },
  {
   "cell_type": "markdown",
   "metadata": {},
   "source": [
    "### Aufgabe 4"
   ]
  },
  {
   "cell_type": "markdown",
   "metadata": {},
   "source": [
    "Aus 5 Ehepaaren werden zufällig 4 Personen ausgewählt. Wie viele unterschiedliche Anordnungen gibt es, wenn sich unter den 4 ausgewählten Personen kein Ehepaar befinden soll?"
   ]
  },
  {
   "cell_type": "markdown",
   "metadata": {},
   "source": [
    "### Aufgabe 5"
   ]
  },
  {
   "cell_type": "markdown",
   "metadata": {},
   "source": [
    "In einer Ebene sind 20 Punkte gegeben, man berechne die Anzahl der Kreise, die sich durch jeweils 3 Punkte der Ebene legen lassen, wenn auf einem der Kreise ausnahmsweise 8 Punkte liegen."
   ]
  },
  {
   "cell_type": "markdown",
   "metadata": {},
   "source": [
    "### Aufgabe 6"
   ]
  },
  {
   "cell_type": "markdown",
   "metadata": {},
   "source": [
    "Man berechne die Anzahl der vierstelligen Zahlen, welche die Ziffern 1 und 3 enthalten, wenn die Zahlen aus unterschiedlichen Ziffern bestehen."
   ]
  },
  {
   "cell_type": "markdown",
   "metadata": {},
   "source": [
    "Wir betrachten vierstellige Zahlen, die die Ziffern 1 und 3 enthalten, wobei alle Ziffern unterschiedlich sind.\n",
    "Die vierstellige Zahl wird aus den Ziffern $\\{0, 1, 2, 3, 4, 5, 6, 7, 8, 9\\}$ gebildet, wobei die Ziffern 1 und 3 zwingend vorkommen.\n",
    "Die Anzahl der möglichen Zahlen wird durch Permutation bestimmt:\n",
    "- Wähle zuerst 4 Ziffern aus den 10 möglichen Ziffern, wobei 1 und 3 immer enthalten sein müssen. Dies entspricht $\\binom{8}{2}$.\n",
    "- Die Anzahl der Permutationen dieser 4 Ziffern ist $4!$.\n",
    "\n",
    "Die Gesamtanzahl lautet daher:\n",
    "$\n",
    "N = \\binom{8}{2} \\cdot 4!\n",
    "$"
   ]
  },
  {
   "cell_type": "code",
   "execution_count": null,
   "metadata": {
    "vscode": {
     "languageId": "r"
    }
   },
   "outputs": [],
   "source": [
    "# Anzahl der möglichen vierstelligen Zahlen\n",
    "num_choices = binomial(8, 2) * factorial(4)\n",
    "num_choices"
   ]
  },
  {
   "cell_type": "markdown",
   "metadata": {},
   "source": [
    "### Aufgabe 7"
   ]
  },
  {
   "cell_type": "markdown",
   "metadata": {},
   "source": [
    "Ein kleines Unternehmen beschäftigt acht Personen in der Fertigungsabteilung, fünf Personen in der Marketingabteilung und drei Personen in der Buchhaltungsabteilung. Es soll ein Projektteam\n",
    "von sechs Personen gebildet werden, um die Einführung eines neuen Produkts zu diskutieren. Auf wie viele Arten kann das Team zusammengestellt werden, wenn:\n",
    "\n",
    "a) ihm aus jeder Abteilung zwei Personen angehören sollen?  \n",
    "b) ihm wenigstens zwei Personen aus der Fertigungsabteilung angehören sollen?  \n",
    "c) ihm Vertreter aus allen drei Abteilungen angehören sollen?\n"
   ]
  },
  {
   "cell_type": "markdown",
   "metadata": {},
   "source": [
    "### Aufgabe 8"
   ]
  },
  {
   "cell_type": "markdown",
   "metadata": {},
   "source": [
    "An einem Tennisturnier nehmen 12 Spieler teil. Wie viele verschiedene Paarungen sind für die erste Runde möglich?"
   ]
  },
  {
   "cell_type": "markdown",
   "id": "a5196f4e",
   "metadata": {},
   "source": [
    "Die Anzahl der möglichen Paarungen in der ersten Runde ist gleich der Anzahl der Möglichkeiten, 2 Spieler aus 12 auszuwählen:\n",
    "$\n",
    "N = \\binom{12}{2}\n",
    "$"
   ]
  },
  {
   "cell_type": "code",
   "execution_count": null,
   "id": "3c662bfd",
   "metadata": {
    "vscode": {
     "languageId": "r"
    }
   },
   "outputs": [],
   "source": [
    "# Anzahl der möglichen Paarungen\n",
    "pairings = binomial(12, 2)\n",
    "pairings"
   ]
  }
 ],
 "metadata": {
  "kernelspec": {
   "display_name": "R",
   "language": "R",
   "name": "ir"
  },
  "language_info": {
   "codemirror_mode": "r",
   "file_extension": ".r",
   "mimetype": "text/x-r-source",
   "name": "R",
   "pygments_lexer": "r",
   "version": "4.4.1"
  }
 },
 "nbformat": 4,
 "nbformat_minor": 4
}
