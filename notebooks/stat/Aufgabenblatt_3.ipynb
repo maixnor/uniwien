{
 "cells": [
  {
   "cell_type": "markdown",
   "metadata": {},
   "source": [
    "# Aufgabenblatt 3"
   ]
  },
  {
   "cell_type": "markdown",
   "metadata": {},
   "source": [
    "# Disclaimer\n",
    "\n",
    "Teile wurden mittels GPT oder in zusammenarbeit mit Studienkollegen gemacht."
   ]
  },
  {
   "cell_type": "markdown",
   "metadata": {},
   "source": [
    "## Laplace-Wahrscheinlichkeiten"
   ]
  },
  {
   "cell_type": "markdown",
   "metadata": {},
   "source": [
    "### Aufgabe 1"
   ]
  },
  {
   "cell_type": "markdown",
   "metadata": {},
   "source": [
    "Neun Personen besteigen einen Zug mit drei Wagen. Jede Person wählt zufällig und unabhängig von den anderen Personen einen Wagen. Wie groß ist unter geeigneter Laplace-Annahme die Wahrscheinlichkeit dafür, dass\n",
    "\n",
    "a) genau drei Personen in den ersten Wagen steigen,  \n",
    "b) jeweils drei Personen in jeden Wagen steigen,  \n",
    "c) die neun Personen sich in Gruppen zu zwei, drei und vier Personen auf die drei Wagen aufteilen?"
   ]
  },
  {
   "cell_type": "markdown",
   "metadata": {},
   "source": [
    "### a) Wahrscheinlichkeit, dass genau drei Personen in den ersten Wagen steigen  \n",
    "Berechnung über Multinomialverteilung:  \n",
    "$P(X_1 = 3, X_2 = 6) = \\frac{\\binom{9}{3}}{3^9}$\n",
    "\n",
    "### b) Wahrscheinlichkeit, dass jeweils drei Personen in jeden Wagen steigen  \n",
    "Wahrscheinlichkeit für die Aufteilung 3-3-3:  \n",
    "$P = \\frac{9!}{(3!)^3} \\times \\frac{1}{3^9}$\n",
    "\n",
    "### c) Wahrscheinlichkeit, dass die Personen sich in Gruppen zu zwei, drei und vier aufteilen  \n",
    "Aufteilung in Gruppen 2-3-4:  \n",
    "$P = \\frac{9!}{2!3!4!} \\times \\frac{1}{3^9}$\n"
   ]
  },
  {
   "cell_type": "code",
   "execution_count": 2,
   "metadata": {},
   "outputs": [
    {
     "data": {
      "text/plain": [
       "(0.004267642127724432, 0.08535284255448865, 0.06401463191586648)"
      ]
     },
     "execution_count": 2,
     "metadata": {},
     "output_type": "execute_result"
    }
   ],
   "source": [
    "import math\n",
    "\n",
    "# Aufgabe 1a\n",
    "prob_1a = math.comb(9, 3) / 3**9\n",
    "\n",
    "# Aufgabe 1b\n",
    "prob_1b = math.factorial(9) / (math.factorial(3) ** 3) / 3**9\n",
    "\n",
    "# Aufgabe 1c\n",
    "prob_1c = math.factorial(9) / (math.factorial(2) * math.factorial(3) * math.factorial(4)) / 3**9\n",
    "\n",
    "prob_1a, prob_1b, prob_1c"
   ]
  },
  {
   "cell_type": "markdown",
   "metadata": {},
   "source": [
    "### Aufgabe 2"
   ]
  },
  {
   "cell_type": "markdown",
   "metadata": {},
   "source": [
    "Aus einer Tabelle (einstelliger) Zufallsziffern werden nacheinander Ziffern entnommen. Wie viele Ziffern muss man mindestens entnehmen, damit unter ihnen mit einer Wahrscheinlichkeit $\\geq 0.95$ mindestens eine ungerade ist."
   ]
  },
  {
   "cell_type": "markdown",
   "metadata": {},
   "source": [
    "Für jede entnommene Ziffer beträgt die Wahrscheinlichkeit, dass sie gerade ist, 0.5.  \n",
    "Mindestanzahl $n$ wird durch $1 - 0.5^n \\geq 0.95$ bestimmt."
   ]
  },
  {
   "cell_type": "code",
   "execution_count": 3,
   "metadata": {},
   "outputs": [
    {
     "data": {
      "text/plain": [
       "5"
      ]
     },
     "execution_count": 3,
     "metadata": {},
     "output_type": "execute_result"
    }
   ],
   "source": [
    "p_even = 0.5  # Wahrscheinlichkeit für gerade Zahl\n",
    "n = 0\n",
    "while (1 - p_even**n) < 0.95:\n",
    "    n += 1\n",
    "n"
   ]
  },
  {
   "cell_type": "markdown",
   "metadata": {},
   "source": [
    "### Aufgabe 3"
   ]
  },
  {
   "cell_type": "markdown",
   "metadata": {},
   "source": [
    "Ein Produktionsverfahren zur Herstellung von bestimmten elektronischen Bauteilen liefert im Mittel 10\\% Ausschuss, 40\\% Produkte zweiter und 50\\% Produkte erster Wahl. Aus der laufenden Fertigung werden 4 Bauteile entnommen. Unter geeigneten Annahmen (\"Ziehen mit Zurücklegen\") berechne man die Wahrscheinlichkeit dafür, dass sich unter den 4 entnommenen Bauteilen\n",
    "\n",
    "a) ausschließlich Bauteile erster Wahl befinden,  \n",
    "b) kein Ausschuss und höchstens ein Bauteil zweiter Wahl befindet,  \n",
    "c) mindestens drei Bauteile erster Wahl befinden."
   ]
  },
  {
   "cell_type": "markdown",
   "metadata": {},
   "source": [
    "### a) Wahrscheinlichkeit, dass alle 4 Bauteile erster Wahl sind  \n",
    "Binomialverteilung mit $p = 0.5$ und $k = 4$: $P = (0.5)^4$\n",
    "\n",
    "### b) Kein Ausschuss und höchstens ein Bauteil zweiter Wahl  \n",
    "Wahrscheinlichkeit für kein Ausschuss: $P(A = 0) = (0.9)^4$  \n",
    "Höchstens ein zweites Wahl-Bauteil: Summe der Wahrscheinlichkeiten für 0 und 1 zweite Wahl.\n",
    "\n",
    "### c) Mindestens drei Bauteile erster Wahl  \n",
    "Binomialverteilung $P(X \\geq 3) = P(X = 3) + P(X = 4)$"
   ]
  },
  {
   "cell_type": "code",
   "execution_count": 4,
   "metadata": {},
   "outputs": [
    {
     "data": {
      "text/plain": [
       "(0.0625, 0.31177872000000006, 0.31250000000000006)"
      ]
     },
     "execution_count": 4,
     "metadata": {},
     "output_type": "execute_result"
    }
   ],
   "source": [
    "from scipy.stats import binom\n",
    "\n",
    "# Aufgabe 3a\n",
    "prob_3a = binom.pmf(4, 4, 0.5)\n",
    "\n",
    "# Aufgabe 3b\n",
    "prob_no_scrap = 0.9**4\n",
    "prob_max_one_second = binom.pmf(0, 4, 0.4) + binom.pmf(1, 4, 0.4)\n",
    "prob_3b = prob_no_scrap * prob_max_one_second\n",
    "\n",
    "# Aufgabe 3c\n",
    "prob_3c = binom.pmf(3, 4, 0.5) + binom.pmf(4, 4, 0.5)\n",
    "\n",
    "prob_3a, prob_3b, prob_3c"
   ]
  },
  {
   "cell_type": "markdown",
   "metadata": {},
   "source": [
    "### Aufgabe 4"
   ]
  },
  {
   "cell_type": "markdown",
   "metadata": {},
   "source": [
    "Das Ergebnis eines Roulette-Spieles ist eine der Zahlen 1 bis 36 oder die 0, die alle mit gleicher Wahrscheinlichkeit auftreten. Man kann bei einfacher Gewinnchance auf die geraden Zahlen ($2,4,\\ldots,36$; \"Pair\") oder die ungeraden Zahlen ($1,3,5,\\ldots,35$; \"Impair\") setzen. Ein Spieler setze immer auf \"Pair\".\n",
    "\n",
    "a) Wie groß ist die Wahrscheinlichkeit dafür, dass er bei 10 Spielen genau 2-mal bzw. genau 3-mal Erfolg hat?  \n",
    "b) Man bestimme die Wahrscheinlichkeit $p_k$ dafür, dass der Spieler beim $k$-ten Spiel ($k \\in \\mathbb{N}$) zum ersten Erfolg kommt, und berechne diese Wahrscheinlichkeit für $k=1,2,3$ bzw. $k=10$.  \n",
    "c) Das Einsatzlimit betrage 5000 Euro. Der Spieler beginnt mit einem Einsatz von 5 Euro und nimmt sich vor, bei Verlust seinen Einsatz im jeweils nächsten Spiel zu verdoppeln und bei Gewinn aufzuhören. Wie groß ist die Wahrscheinlichkeit dafür, dass er wegen Überschreitung des Limits aufhören muss, bevor er einen Gewinn realisieren kann?"
   ]
  },
  {
   "cell_type": "markdown",
   "metadata": {},
   "source": [
    "### a) Wahrscheinlichkeit, dass eine rote Zahl fällt  \n",
    "$P = \\frac{18}{37}$\n",
    "\n",
    "### b) Wahrscheinlichkeit für den ersten Erfolg nach $k$ Spielen  \n",
    "Geometrische Verteilung: $P = (1 - p)^{k-1} \\times p$ für $p = \\frac{18}{37}$\n",
    "\n",
    "### c) Wahrscheinlichkeit, dass das Limit überschritten wird, bevor ein Gewinn realisiert wird  \n",
    "Der Spieler verdoppelt seinen Einsatz bei Verlust."
   ]
  },
  {
   "cell_type": "code",
   "execution_count": 5,
   "metadata": {},
   "outputs": [
    {
     "data": {
      "text/plain": [
       "(0.4864864864864865,\n",
       " 0.4864864864864865,\n",
       " 0.2498173849525201,\n",
       " 0.0012079186118349075,\n",
       " 0.001275025201381291)"
      ]
     },
     "execution_count": 5,
     "metadata": {},
     "output_type": "execute_result"
    }
   ],
   "source": [
    "# Aufgabe 4a\n",
    "prob_4a = 18 / 37\n",
    "\n",
    "# Aufgabe 4b\n",
    "def prob_4b(k):\n",
    "    p_win = 18 / 37\n",
    "    return (1 - p_win)**(k-1) * p_win\n",
    "\n",
    "# Aufgabe 4c\n",
    "def prob_4c(limit=5000, initial_bet=5):\n",
    "    p_win = 18 / 37\n",
    "    rounds = 0\n",
    "    bet = initial_bet\n",
    "    while bet <= limit:\n",
    "        bet *= 2\n",
    "        rounds += 1\n",
    "    return (1 - p_win)**rounds\n",
    "\n",
    "prob_4a, prob_4b(1), prob_4b(2), prob_4b(10), prob_4c()"
   ]
  },
  {
   "cell_type": "markdown",
   "metadata": {},
   "source": [
    "### Aufgabe 5"
   ]
  },
  {
   "cell_type": "markdown",
   "metadata": {},
   "source": [
    "Bei einer Nikolausfeier im Kindergarten bringt jedes der 12 Kinder ein Päckchen mit, das der Nikolaus in seinen Sack steckt. Später verteilt er die 12 Päckchen wieder zufällig an die Kinder. Wie groß ist (unter geeigneter Laplace-Annahme) die Wahrscheinlichkeit dafür, dass keines der Kinder sein eigenes Päckchen zurückbekommt?\n"
   ]
  },
  {
   "cell_type": "markdown",
   "metadata": {},
   "source": [
    "Berechnung der Derangements-Wahrscheinlichkeit:  \n",
    "$P = \\frac{1}{12!} \\sum_{k=0}^{12} \\frac{(-1)^k}{k!}$"
   ]
  },
  {
   "cell_type": "code",
   "execution_count": 6,
   "metadata": {},
   "outputs": [
    {
     "data": {
      "text/plain": [
       "7.680129697297078e-10"
      ]
     },
     "execution_count": 6,
     "metadata": {},
     "output_type": "execute_result"
    }
   ],
   "source": [
    "from math import factorial\n",
    "\n",
    "def derangement_prob(n):\n",
    "    return 1 / factorial(n) * sum((-1)**k / factorial(k) for k in range(n + 1))\n",
    "\n",
    "prob_5 = derangement_prob(12)\n",
    "prob_5"
   ]
  },
  {
   "cell_type": "markdown",
   "metadata": {},
   "source": [
    "### Aufgabe 6"
   ]
  },
  {
   "cell_type": "markdown",
   "metadata": {},
   "source": [
    "Beim \"Doppelkopf-Spiel\" wird ein Kartenspiel mit 48 Karten durchgemischt und es werden an vier Spieler je zwölf Karten verteilt. Acht der 48 Karten heißen \"Damen\", zwei der acht Damen heißen \"Kreuz-Damen\". Man berechne unter der Laplace-Annahme die Wahrscheinlichkeit für folgendes Ereignis: Ein Spieler erhält beide Kreuz-Damen."
   ]
  },
  {
   "cell_type": "markdown",
   "metadata": {},
   "source": [
    "Wahrscheinlichkeit:  \n",
    "$P = \\frac{\\binom{2}{2} \\times \\binom{46}{10}}{\\binom{48}{12}}$"
   ]
  },
  {
   "cell_type": "code",
   "execution_count": 7,
   "metadata": {},
   "outputs": [
    {
     "data": {
      "text/plain": [
       "0.05851063829787234"
      ]
     },
     "execution_count": 7,
     "metadata": {},
     "output_type": "execute_result"
    }
   ],
   "source": [
    "import math\n",
    "\n",
    "prob_6 = (math.comb(2, 2) * math.comb(46, 10)) / math.comb(48, 12)\n",
    "prob_6"
   ]
  },
  {
   "cell_type": "markdown",
   "metadata": {},
   "source": [
    "### Aufgabe 7"
   ]
  },
  {
   "cell_type": "markdown",
   "metadata": {},
   "source": [
    "In Fortsetzung der vorangegangenen Aufgabe berechne man unter der Laplace-Annahme die Wahrscheinlichkeit für folgendes Ereignis: Ein Spieler erhält beide Kreuz-Damen und mindestens drei weitere Damen."
   ]
  },
  {
   "cell_type": "markdown",
   "metadata": {},
   "source": [
    "\n",
    "Wahrscheinlichkeit:  \n",
    "$P = \\frac{\\binom{2}{2} \\times \\binom{6}{3} \\times \\binom{40}{7}}{\\binom{48}{12}}$"
   ]
  },
  {
   "cell_type": "code",
   "execution_count": 8,
   "metadata": {},
   "outputs": [
    {
     "data": {
      "text/plain": [
       "0.005352074689776436"
      ]
     },
     "execution_count": 8,
     "metadata": {},
     "output_type": "execute_result"
    }
   ],
   "source": [
    "prob_7 = (math.comb(2, 2) * math.comb(6, 3) * math.comb(40, 7)) / math.comb(48, 12)\n",
    "prob_7"
   ]
  },
  {
   "cell_type": "markdown",
   "metadata": {},
   "source": [
    "### Aufgabe 8"
   ]
  },
  {
   "cell_type": "markdown",
   "metadata": {},
   "source": [
    "In Fortsetzung der vorangegangenen Aufgabe berechne man unter der Laplace-Annahme die Wahrscheinlichkeit für folgendes Ereignis: Zwei Spieler erhalten je eine Kreuz-Dame und mindestens zwei weitere Damen."
   ]
  },
  {
   "cell_type": "markdown",
   "metadata": {},
   "source": [
    "Wahrscheinlichkeit:  \n",
    "$P = \\frac{\\binom{2}{1} \\times \\binom{6}{2} \\times \\binom{40}{9}}{\\binom{48}{12}}$"
   ]
  },
  {
   "cell_type": "code",
   "execution_count": 9,
   "metadata": {},
   "outputs": [
    {
     "data": {
      "text/plain": [
       "0.11774564317508159"
      ]
     },
     "execution_count": 9,
     "metadata": {},
     "output_type": "execute_result"
    }
   ],
   "source": [
    "prob_8 = (math.comb(2, 1) * math.comb(6, 2) * math.comb(40, 9)) / math.comb(48, 12)\n",
    "prob_8"
   ]
  }
 ],
 "metadata": {
  "kernelspec": {
   "display_name": "Python 3 (ipykernel)",
   "language": "python",
   "name": "python3"
  },
  "language_info": {
   "codemirror_mode": {
    "name": "ipython",
    "version": 3
   },
   "file_extension": ".py",
   "mimetype": "text/x-python",
   "name": "python",
   "nbconvert_exporter": "python",
   "pygments_lexer": "ipython3",
   "version": "3.12.6"
  }
 },
 "nbformat": 4,
 "nbformat_minor": 4
}
