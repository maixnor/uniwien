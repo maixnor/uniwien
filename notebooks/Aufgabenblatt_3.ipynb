{
 "cells": [
  {
   "cell_type": "markdown",
   "metadata": {},
   "source": [
    "# Aufgabenblatt 3"
   ]
  },
  {
   "cell_type": "markdown",
   "metadata": {},
   "source": [
    "## Laplace-Wahrscheinlichkeiten"
   ]
  },
  {
   "cell_type": "markdown",
   "metadata": {},
   "source": [
    "### Aufgabe 1"
   ]
  },
  {
   "cell_type": "markdown",
   "metadata": {},
   "source": [
    "Neun Personen besteigen einen Zug mit drei Wagen. Jede Person wählt zufällig und unabhängig von den anderen Personen einen Wagen. Wie groß ist unter geeigneter Laplace-Annahme die Wahrscheinlichkeit dafür, dass\n",
    "\n",
    "a) genau drei Personen in den ersten Wagen steigen,  \n",
    "b) jeweils drei Personen in jeden Wagen steigen,  \n",
    "c) die neun Personen sich in Gruppen zu zwei, drei und vier Personen auf die drei Wagen aufteilen?"
   ]
  },
  {
   "cell_type": "markdown",
   "metadata": {},
   "source": [
    "### Aufgabe 2"
   ]
  },
  {
   "cell_type": "markdown",
   "metadata": {},
   "source": [
    "Aus einer Tabelle (einstelliger) Zufallsziffern werden nacheinander Ziffern entnommen. Wie viele Ziffern muss man mindestens entnehmen, damit unter ihnen mit einer Wahrscheinlichkeit $\\geq 0.95$ mindestens eine ungerade ist."
   ]
  },
  {
   "cell_type": "markdown",
   "metadata": {},
   "source": [
    "### Aufgabe 3"
   ]
  },
  {
   "cell_type": "markdown",
   "metadata": {},
   "source": [
    "Ein Produktionsverfahren zur Herstellung von bestimmten elektronischen Bauteilen liefert im Mittel 10\\% Ausschuss, 40\\% Produkte zweiter und 50\\% Produkte erster Wahl. Aus der laufenden Fertigung werden 4 Bauteile entnommen. Unter geeigneten Annahmen (\"Ziehen mit Zurücklegen\") berechne man die Wahrscheinlichkeit dafür, dass sich unter den 4 entnommenen Bauteilen\n",
    "\n",
    "a) ausschließlich Bauteile erster Wahl befinden,  \n",
    "b) kein Ausschuss und höchstens ein Bauteil zweiter Wahl befindet,  \n",
    "c) mindestens drei Bauteile erster Wahl befinden."
   ]
  },
  {
   "cell_type": "markdown",
   "metadata": {},
   "source": [
    "### Aufgabe 4"
   ]
  },
  {
   "cell_type": "markdown",
   "metadata": {},
   "source": [
    "Das Ergebnis eines Roulette-Spieles ist eine der Zahlen 1 bis 36 oder die 0, die alle mit gleicher Wahrscheinlichkeit auftreten. Man kann bei einfacher Gewinnchance auf die geraden Zahlen ($2,4,\\ldots,36$; \"Pair\") oder die ungeraden Zahlen ($1,3,5,\\ldots,35$; \"Impair\") setzen. Ein Spieler setze immer auf \"Pair\".\n",
    "\n",
    "a) Wie groß ist die Wahrscheinlichkeit dafür, dass er bei 10 Spielen genau 2-mal bzw. genau 3-mal Erfolg hat?  \n",
    "b) Man bestimme die Wahrscheinlichkeit $p_k$ dafür, dass der Spieler beim $k$-ten Spiel ($k \\in \\mathbb{N}$) zum ersten Erfolg kommt, und berechne diese Wahrscheinlichkeit für $k=1,2,3$ bzw. $k=10$.  \n",
    "c) Das Einsatzlimit betrage 5000 Euro. Der Spieler beginnt mit einem Einsatz von 5 Euro und nimmt sich vor, bei Verlust seinen Einsatz im jeweils nächsten Spiel zu verdoppeln und bei Gewinn aufzuhören. Wie groß ist die Wahrscheinlichkeit dafür, dass er wegen Überschreitung des Limits aufhören muss, bevor er einen Gewinn realisieren kann?"
   ]
  },
  {
   "cell_type": "markdown",
   "metadata": {},
   "source": [
    "### Aufgabe 5"
   ]
  },
  {
   "cell_type": "markdown",
   "metadata": {},
   "source": [
    "Bei einer Nikolausfeier im Kindergarten bringt jedes der 12 Kinder ein Päckchen mit, das der Nikolaus in seinen Sack steckt. Später verteilt er die 12 Päckchen wieder zufällig an die Kinder. Wie groß ist (unter geeigneter Laplace-Annahme) die Wahrscheinlichkeit dafür, dass keines der Kinder sein eigenes Päckchen zurückbekommt?\n"
   ]
  },
  {
   "cell_type": "markdown",
   "metadata": {},
   "source": [
    "### Aufgabe 6"
   ]
  },
  {
   "cell_type": "markdown",
   "metadata": {},
   "source": [
    "Beim \"Doppelkopf-Spiel\" wird ein Kartenspiel mit 48 Karten durchgemischt und es werden an vier Spieler je zwölf Karten verteilt. Acht der 48 Karten heißen \"Damen\", zwei der acht Damen heißen \"Kreuz-Damen\". Man berechne unter der Laplace-Annahme die Wahrscheinlichkeit für folgendes Ereignis: Ein Spieler erhält beide Kreuz-Damen."
   ]
  },
  {
   "cell_type": "markdown",
   "metadata": {},
   "source": [
    "### Aufgabe 7"
   ]
  },
  {
   "cell_type": "markdown",
   "metadata": {},
   "source": [
    "In Fortsetzung der vorangegangenen Aufgabe berechne man unter der Laplace-Annahme die Wahrscheinlichkeit für folgendes Ereignis: Ein Spieler erhält beide Kreuz-Damen und mindestens drei weitere Damen."
   ]
  },
  {
   "cell_type": "markdown",
   "metadata": {},
   "source": [
    "### Aufgabe 8"
   ]
  },
  {
   "cell_type": "markdown",
   "metadata": {},
   "source": [
    "In Fortsetzung der vorangegangenen Aufgabe berechne man unter der Laplace-Annahme die Wahrscheinlichkeit für folgendes Ereignis: Zwei Spieler erhalten je eine Kreuz-Dame und mindestens zwei weitere Damen."
   ]
  }
 ],
 "metadata": {
  "kernelspec": {
   "display_name": "R",
   "language": "R",
   "name": "ir"
  },
  "language_info": {
   "codemirror_mode": "r",
   "file_extension": ".r",
   "mimetype": "text/x-r-source",
   "name": "R",
   "pygments_lexer": "r",
   "version": "4.4.1"
  }
 },
 "nbformat": 4,
 "nbformat_minor": 4
}
